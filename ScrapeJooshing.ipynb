{
 "cells": [
  {
   "cell_type": "code",
   "execution_count": 13,
   "id": "f27dbccb-d822-46b0-9047-6cab9d6f20d1",
   "metadata": {},
   "outputs": [],
   "source": [
    "from selenium import webdriver\n",
    "from lxml import html\n",
    "import re\n",
    "from selenium.webdriver.common.keys import Keys\n",
    "from selenium.webdriver.common.by import By\n",
    "import time\n",
    "import requests"
   ]
  },
  {
   "cell_type": "code",
   "execution_count": 3,
   "id": "5a64288a-8c92-4047-ab7d-cb77d0d38012",
   "metadata": {},
   "outputs": [],
   "source": [
    "driver = webdriver.Chrome()"
   ]
  },
  {
   "cell_type": "code",
   "execution_count": 4,
   "id": "89f80f35-6175-4024-8cce-150798fdebbc",
   "metadata": {},
   "outputs": [],
   "source": [
    "driver.get(\"https://www.youtube.com/channel/UCQkmU96aoJNLlpJ1pI3WLuw/videos\")\n",
    "page = driver.find_element(By.TAG_NAME, 'html')\n",
    "page.send_keys(Keys.END)"
   ]
  },
  {
   "cell_type": "code",
   "execution_count": 5,
   "id": "0bc7d4c8-d8ca-44fa-a171-db465f4cb394",
   "metadata": {
    "tags": []
   },
   "outputs": [],
   "source": [
    "content=driver.page_source\n",
    "tree=html.fromstring(content)\n",
    "titles=tree.xpath('//img[contains(@src,\"vi\")]/ancestor::div[@id=\"dismissible\"]//a[@title]/text()')"
   ]
  },
  {
   "cell_type": "code",
   "execution_count": 15,
   "id": "9af3209d-bc1c-4b75-8607-62e39893ede6",
   "metadata": {},
   "outputs": [],
   "source": [
    "titles_png=[]\n",
    "for title in titles:\n",
    "    name=re.sub(r'\\W',r'_',title).replace('__','_')\n",
    "    name=re.sub(r'_$',r'',name)\n",
    "    titles_png.append(name+'.jpg')"
   ]
  },
  {
   "cell_type": "code",
   "execution_count": 16,
   "id": "fce30dab-897a-41da-bdeb-80c3a578a02d",
   "metadata": {
    "tags": []
   },
   "outputs": [],
   "source": [
    "urls=tree.xpath('//a[@id=\"video-title\"]/ancestor::div[@id=\"dismissible\"]//img/@src')"
   ]
  },
  {
   "cell_type": "code",
   "execution_count": 17,
   "id": "456a48e9-de17-478b-b799-f97111b61643",
   "metadata": {},
   "outputs": [
    {
     "data": {
      "text/plain": [
       "['https://i.ytimg.com/vi/nb0qhTc3P88/hqdefault.jpg?sqp=-oaymwEcCPYBEIoBSFXyq4qpAw4IARUAAIhCGAFwAcABBg==&rs=AOn4CLBhDQIQrVTTz3tz4zhrsWJouPI59g',\n",
       " 'https://i.ytimg.com/vi/FP3TyW4q3Bk/hqdefault.jpg?sqp=-oaymwEcCPYBEIoBSFXyq4qpAw4IARUAAIhCGAFwAcABBg==&rs=AOn4CLCTY56NZDdOtWrpY1z80eqYCN8OCg',\n",
       " 'https://i.ytimg.com/vi/TI_cc_GxSCY/hqdefault.jpg?sqp=-oaymwEcCPYBEIoBSFXyq4qpAw4IARUAAIhCGAFwAcABBg==&rs=AOn4CLDRQbeZX5XfYzoCN9IFIGzhjBMO8g',\n",
       " 'https://i.ytimg.com/vi/xw6sh94tMbQ/hqdefault.jpg?sqp=-oaymwEcCPYBEIoBSFXyq4qpAw4IARUAAIhCGAFwAcABBg==&rs=AOn4CLDTKeQ-9lhYImHMAd-yttMvdR7BkA',\n",
       " 'https://i.ytimg.com/vi/XsVTcCgqXtU/hqdefault.jpg?sqp=-oaymwEcCPYBEIoBSFXyq4qpAw4IARUAAIhCGAFwAcABBg==&rs=AOn4CLCq07fbrbOjlYXMSLIrvc8EsYU5Iw',\n",
       " 'https://i.ytimg.com/vi/Dx_BnUljXnY/hqdefault.jpg?sqp=-oaymwEcCPYBEIoBSFXyq4qpAw4IARUAAIhCGAFwAcABBg==&rs=AOn4CLBA0lcYcecUtkQC0SDBPCqm7f4qXw',\n",
       " 'https://i.ytimg.com/vi/90PYGIm5zBo/hqdefault.jpg?sqp=-oaymwEcCPYBEIoBSFXyq4qpAw4IARUAAIhCGAFwAcABBg==&rs=AOn4CLAoXzhDslM70P12fOCNcyXrfCXCiw',\n",
       " 'https://i.ytimg.com/vi/-26K8blUmds/hqdefault.jpg?sqp=-oaymwEcCPYBEIoBSFXyq4qpAw4IARUAAIhCGAFwAcABBg==&rs=AOn4CLBcs1aNTPrzrHYlP7aoWt4gPHEtUA',\n",
       " 'https://i.ytimg.com/vi/M9O5zH0bpd4/hqdefault.jpg?sqp=-oaymwEcCPYBEIoBSFXyq4qpAw4IARUAAIhCGAFwAcABBg==&rs=AOn4CLAGOqNCiLglfyFTab5ZQYlUpiWHpg',\n",
       " 'https://i.ytimg.com/vi/u0nd7IjnUzc/hqdefault.jpg?sqp=-oaymwEcCPYBEIoBSFXyq4qpAw4IARUAAIhCGAFwAcABBg==&rs=AOn4CLCYdyvbb014PnndQ8txX0ysPkCypA',\n",
       " 'https://i.ytimg.com/vi/D_0zj33HhSI/hqdefault.jpg?sqp=-oaymwEcCPYBEIoBSFXyq4qpAw4IARUAAIhCGAFwAcABBg==&rs=AOn4CLBAIUhM1hVOKj7q1nOiShqRewrNYw',\n",
       " 'https://i.ytimg.com/vi/BBQ0S49mAJk/hqdefault.jpg?sqp=-oaymwEcCPYBEIoBSFXyq4qpAw4IARUAAIhCGAFwAcABBg==&rs=AOn4CLB_A0FzcQ34TyxmLcpvoEeI0tGUCQ',\n",
       " 'https://i.ytimg.com/vi/BIiBiJCIQcM/hqdefault.jpg?sqp=-oaymwEcCPYBEIoBSFXyq4qpAw4IARUAAIhCGAFwAcABBg==&rs=AOn4CLBeHpc3oucpXhmoXT5euAYosN0ozQ',\n",
       " 'https://i.ytimg.com/vi/kG4g4bCvQxo/hqdefault.jpg?sqp=-oaymwEcCPYBEIoBSFXyq4qpAw4IARUAAIhCGAFwAcABBg==&rs=AOn4CLBZDBjt5Mun1u0S3RZ0tVzHhvZo2Q',\n",
       " 'https://i.ytimg.com/vi/08nOlU2u1NU/hqdefault.jpg?sqp=-oaymwEcCPYBEIoBSFXyq4qpAw4IARUAAIhCGAFwAcABBg==&rs=AOn4CLBqIElZQPqpc3HWIWJ1Ipvkcj3M9w',\n",
       " 'https://i.ytimg.com/vi/2ASSLGfNnPY/hqdefault.jpg?sqp=-oaymwEcCPYBEIoBSFXyq4qpAw4IARUAAIhCGAFwAcABBg==&rs=AOn4CLCjI4OzcbsbiwuF-Ake1W0vrDKHYA',\n",
       " 'https://i.ytimg.com/vi/Ca6qCo9bv5w/hqdefault.jpg?sqp=-oaymwEcCPYBEIoBSFXyq4qpAw4IARUAAIhCGAFwAcABBg==&rs=AOn4CLCBmDFIGayqZLepqQ6JJV95xsWpzw',\n",
       " 'https://i.ytimg.com/vi/Aq0ckWD9yDg/hqdefault.jpg?sqp=-oaymwEcCPYBEIoBSFXyq4qpAw4IARUAAIhCGAFwAcABBg==&rs=AOn4CLD24GzKbcCVP9PLVyQBu1nJdrUGmw',\n",
       " 'https://i.ytimg.com/vi/ipZuFpKLhBk/hqdefault.jpg?sqp=-oaymwEcCPYBEIoBSFXyq4qpAw4IARUAAIhCGAFwAcABBg==&rs=AOn4CLCjgX1_hcuaDOBiu-p0IIS_vCjF5Q',\n",
       " 'https://i.ytimg.com/vi/mowbQuHLx6g/hqdefault.jpg?sqp=-oaymwEcCPYBEIoBSFXyq4qpAw4IARUAAIhCGAFwAcABBg==&rs=AOn4CLBQ69U8kxm4TLSdutPChSXwhP2D1g',\n",
       " 'https://i.ytimg.com/vi/kSQvQVt2gNs/hqdefault.jpg?sqp=-oaymwEcCPYBEIoBSFXyq4qpAw4IARUAAIhCGAFwAcABBg==&rs=AOn4CLARHOH_-i1B15P2OWZcNQKISah2wA',\n",
       " 'https://i.ytimg.com/vi/Zo2Wp7b77PY/hqdefault.jpg?sqp=-oaymwEcCPYBEIoBSFXyq4qpAw4IARUAAIhCGAFwAcABBg==&rs=AOn4CLDW-R5IRzmKcR_N2vrd1qh7eHOf2g',\n",
       " 'https://i.ytimg.com/vi/5ay2fPhW7mI/hqdefault.jpg?sqp=-oaymwEcCPYBEIoBSFXyq4qpAw4IARUAAIhCGAFwAcABBg==&rs=AOn4CLCHNPNY4C6AffzxE0M3yjzv-A3KPA',\n",
       " 'https://i.ytimg.com/vi/IgYQhpj3E_A/hqdefault.jpg?sqp=-oaymwEcCPYBEIoBSFXyq4qpAw4IARUAAIhCGAFwAcABBg==&rs=AOn4CLCl5XdpApppXRK8N_8iDdFNJNiSWQ',\n",
       " 'https://i.ytimg.com/vi/Cy_G_kgszhI/hqdefault.jpg?sqp=-oaymwEcCPYBEIoBSFXyq4qpAw4IARUAAIhCGAFwAcABBg==&rs=AOn4CLAb8QwOvyqtBajfNW4-F_74uVdw7A',\n",
       " 'https://i.ytimg.com/vi/lSuQo164n-Q/hqdefault.jpg?sqp=-oaymwEcCPYBEIoBSFXyq4qpAw4IARUAAIhCGAFwAcABBg==&rs=AOn4CLDXsiGrn-Ja3X12Is1bV7ecZbStaw',\n",
       " 'https://i.ytimg.com/vi/j_NYgFDvhiM/hqdefault.jpg?sqp=-oaymwEcCPYBEIoBSFXyq4qpAw4IARUAAIhCGAFwAcABBg==&rs=AOn4CLBQ_K3GvQKGdVOiZvu5WId_TlW5Aw',\n",
       " 'https://i.ytimg.com/vi/bUdcqj22Yfg/hqdefault.jpg?sqp=-oaymwEcCPYBEIoBSFXyq4qpAw4IARUAAIhCGAFwAcABBg==&rs=AOn4CLB1H5nlkMuA0TgB3kqJj35Dc4jAPg',\n",
       " 'https://i.ytimg.com/vi/nli-Ln63zDE/hqdefault.jpg?sqp=-oaymwEcCPYBEIoBSFXyq4qpAw4IARUAAIhCGAFwAcABBg==&rs=AOn4CLBmnxw9N8xyhsX_3ayIQPEEuuBqYg',\n",
       " 'https://i.ytimg.com/vi/4d40l0-qNiw/hqdefault.jpg?sqp=-oaymwEcCPYBEIoBSFXyq4qpAw4IARUAAIhCGAFwAcABBg==&rs=AOn4CLB5ewo35p_CuA-xoxNOBI4pReioNw',\n",
       " 'https://i.ytimg.com/vi/3dFPQXupw3o/hqdefault.jpg?sqp=-oaymwEcCPYBEIoBSFXyq4qpAw4IARUAAIhCGAFwAcABBg==&rs=AOn4CLCsI0BoZNSJba_J8MqVPuQokl77fQ',\n",
       " 'https://i.ytimg.com/vi/wV1e49M6GAE/hqdefault.jpg?sqp=-oaymwEcCPYBEIoBSFXyq4qpAw4IARUAAIhCGAFwAcABBg==&rs=AOn4CLDE4Ia06ZQZ5I_hCLOOQKRsOW_OyA',\n",
       " 'https://i.ytimg.com/vi/GLZbjDKgx14/hqdefault.jpg?sqp=-oaymwEcCPYBEIoBSFXyq4qpAw4IARUAAIhCGAFwAcABBg==&rs=AOn4CLAlhcn6ilmjhZwoZR1Yq1G0NxjfaQ',\n",
       " 'https://i.ytimg.com/vi/bdOC_Kl79HY/hqdefault.jpg?sqp=-oaymwEcCPYBEIoBSFXyq4qpAw4IARUAAIhCGAFwAcABBg==&rs=AOn4CLCiXBSX_PQCqmMTRp6x7aaTu1Xl7Q',\n",
       " 'https://i.ytimg.com/vi/5acCkovFKks/hqdefault.jpg?sqp=-oaymwEcCPYBEIoBSFXyq4qpAw4IARUAAIhCGAFwAcABBg==&rs=AOn4CLCJ1arSulTAUVLjTIUTQbHI489IiA',\n",
       " 'https://i.ytimg.com/vi/mJz5_sf64DY/hqdefault.jpg?sqp=-oaymwEcCPYBEIoBSFXyq4qpAw4IARUAAIhCGAFwAcABBg==&rs=AOn4CLAj86TpD3NtDzgY--ztJHpDpgiBRA']"
      ]
     },
     "execution_count": 17,
     "metadata": {},
     "output_type": "execute_result"
    }
   ],
   "source": [
    "urls"
   ]
  },
  {
   "cell_type": "code",
   "execution_count": 18,
   "id": "41a210f8-ea29-484d-b742-b16aa7bf3d9b",
   "metadata": {
    "tags": []
   },
   "outputs": [],
   "source": [
    "root='./Jooshing/'\n",
    "if not(Path(root).exists()):\n",
    "    Path(root).mkdir()\n",
    "for title,url in zip(titles_png,urls):\n",
    "    clean_url=re.sub(r'\\?.*','',url)\n",
    "    r = requests.get(clean_url)\n",
    "    with open(root+title, \"wb\") as f:\n",
    "        f.write(r.content)\n",
    "    time.sleep(0.2)\n",
    "    "
   ]
  },
  {
   "cell_type": "code",
   "execution_count": 19,
   "id": "50db0f39-d536-4a7e-9966-e9853e448676",
   "metadata": {},
   "outputs": [],
   "source": [
    "driver.close()"
   ]
  },
  {
   "cell_type": "code",
   "execution_count": null,
   "id": "3b294ece-f27d-4267-a1c8-744ffdbd0716",
   "metadata": {},
   "outputs": [],
   "source": []
  }
 ],
 "metadata": {
  "kernelspec": {
   "display_name": "Python 3 (ipykernel)",
   "language": "python",
   "name": "python3"
  },
  "language_info": {
   "codemirror_mode": {
    "name": "ipython",
    "version": 3
   },
   "file_extension": ".py",
   "mimetype": "text/x-python",
   "name": "python",
   "nbconvert_exporter": "python",
   "pygments_lexer": "ipython3",
   "version": "3.8.8"
  }
 },
 "nbformat": 4,
 "nbformat_minor": 5
}
