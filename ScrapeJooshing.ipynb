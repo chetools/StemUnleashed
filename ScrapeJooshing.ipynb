{
 "cells": [
  {
   "cell_type": "code",
   "execution_count": 81,
   "id": "f27dbccb-d822-46b0-9047-6cab9d6f20d1",
   "metadata": {},
   "outputs": [],
   "source": [
    "from selenium import webdriver\n",
    "from lxml import html\n",
    "import re\n",
    "from selenium.webdriver.common.keys import Keys\n",
    "from selenium.webdriver.common.by import By\n",
    "import time\n",
    "from pathlib import Path"
   ]
  },
  {
   "cell_type": "code",
   "execution_count": 54,
   "id": "5a64288a-8c92-4047-ab7d-cb77d0d38012",
   "metadata": {},
   "outputs": [],
   "source": [
    "driver = webdriver.Chrome()"
   ]
  },
  {
   "cell_type": "code",
   "execution_count": 61,
   "id": "89f80f35-6175-4024-8cce-150798fdebbc",
   "metadata": {},
   "outputs": [],
   "source": [
    "driver.get(\"https://www.youtube.com/channel/UCQkmU96aoJNLlpJ1pI3WLuw/videos\")\n",
    "page = driver.find_element(By.TAG_NAME, 'html')\n",
    "page.send_keys(Keys.END)"
   ]
  },
  {
   "cell_type": "code",
   "execution_count": 62,
   "id": "0bc7d4c8-d8ca-44fa-a171-db465f4cb394",
   "metadata": {
    "tags": []
   },
   "outputs": [],
   "source": [
    "content=driver.page_source\n",
    "tree=html.fromstring(content)\n",
    "titles=tree.xpath('//img[contains(@src,\"vi\")]/ancestor::div[@id=\"dismissible\"]//a[@title]/text()')"
   ]
  },
  {
   "cell_type": "code",
   "execution_count": 76,
   "id": "9af3209d-bc1c-4b75-8607-62e39893ede6",
   "metadata": {},
   "outputs": [],
   "source": [
    "titles_png=[]\n",
    "for title in titles:\n",
    "    name=re.sub(r'\\W',r'_',title).replace('__','_')\n",
    "    name=re.sub(r'_$',r'',name)\n",
    "    titles_png.append(name+'.png')"
   ]
  },
  {
   "cell_type": "code",
   "execution_count": 77,
   "id": "fce30dab-897a-41da-bdeb-80c3a578a02d",
   "metadata": {
    "tags": []
   },
   "outputs": [],
   "source": [
    "urls=tree.xpath('//a[@id=\"video-title\"]/ancestor::div[@id=\"dismissible\"]//img/@src')"
   ]
  },
  {
   "cell_type": "code",
   "execution_count": 79,
   "id": "41a210f8-ea29-484d-b742-b16aa7bf3d9b",
   "metadata": {
    "tags": []
   },
   "outputs": [],
   "source": [
    "root='Jooshing'\n",
    "if not(Path(root).exists()):\n",
    "    Path(root).mkdir()\n",
    "for title,url in zip(titles_png,urls):\n",
    "    clean_url=re.sub(r'\\?.*','',url)\n",
    "    driver.get(clean_url)\n",
    "    img=driver.find_element(By.XPATH,'//img')\n",
    "    img.screenshot(f'./Jooshing/{title}')\n",
    "    time.sleep(0.2)\n",
    "    "
   ]
  },
  {
   "cell_type": "code",
   "execution_count": 82,
   "id": "a195345f-92e7-4237-8876-7591e2ed6708",
   "metadata": {},
   "outputs": [],
   "source": []
  },
  {
   "cell_type": "code",
   "execution_count": 80,
   "id": "50db0f39-d536-4a7e-9966-e9853e448676",
   "metadata": {},
   "outputs": [
    {
     "ename": "WebDriverException",
     "evalue": "Message: chrome not reachable\n  (Session info: chrome=103.0.5060.66)\nStacktrace:\nBacktrace:\n\tOrdinal0 [0x00C26463+2188387]\n\tOrdinal0 [0x00BBE461+1762401]\n\tOrdinal0 [0x00AD3C40+801856]\n\tOrdinal0 [0x00AC8932+756018]\n\tOrdinal0 [0x00ABC2F0+705264]\n\tOrdinal0 [0x00B22C40+1125440]\n\tOrdinal0 [0x00B1C7A3+1099683]\n\tOrdinal0 [0x00AF6BE0+945120]\n\tOrdinal0 [0x00AF7AD6+948950]\n\tGetHandleVerifier [0x00EC71F2+2712546]\n\tGetHandleVerifier [0x00EB886D+2652765]\n\tGetHandleVerifier [0x00CB002A+520730]\n\tGetHandleVerifier [0x00CAEE06+516086]\n\tOrdinal0 [0x00BC468B+1787531]\n\tOrdinal0 [0x00BC8E88+1805960]\n\tOrdinal0 [0x00BC8F75+1806197]\n\tOrdinal0 [0x00BD1DF1+1842673]\n\tBaseThreadInitThunk [0x76607BA9+25]\n\tRtlInitializeExceptionChain [0x7776B7DB+107]\n\tRtlClearBits [0x7776B75F+191]\n",
     "output_type": "error",
     "traceback": [
      "\u001b[1;31m---------------------------------------------------------------------------\u001b[0m",
      "\u001b[1;31mWebDriverException\u001b[0m                        Traceback (most recent call last)",
      "Input \u001b[1;32mIn [80]\u001b[0m, in \u001b[0;36m<cell line: 1>\u001b[1;34m()\u001b[0m\n\u001b[1;32m----> 1\u001b[0m \u001b[43mdriver\u001b[49m\u001b[38;5;241;43m.\u001b[39;49m\u001b[43mclose\u001b[49m\u001b[43m(\u001b[49m\u001b[43m)\u001b[49m\n",
      "File \u001b[1;32mD:\\Anaconda\\envs\\py38\\lib\\site-packages\\selenium\\webdriver\\remote\\webdriver.py:552\u001b[0m, in \u001b[0;36mWebDriver.close\u001b[1;34m(self)\u001b[0m\n\u001b[0;32m    543\u001b[0m \u001b[38;5;28;01mdef\u001b[39;00m \u001b[38;5;21mclose\u001b[39m(\u001b[38;5;28mself\u001b[39m) \u001b[38;5;241m-\u001b[39m\u001b[38;5;241m>\u001b[39m \u001b[38;5;28;01mNone\u001b[39;00m:\n\u001b[0;32m    544\u001b[0m     \u001b[38;5;124;03m\"\"\"\u001b[39;00m\n\u001b[0;32m    545\u001b[0m \u001b[38;5;124;03m    Closes the current window.\u001b[39;00m\n\u001b[0;32m    546\u001b[0m \n\u001b[1;32m   (...)\u001b[0m\n\u001b[0;32m    550\u001b[0m \u001b[38;5;124;03m            driver.close()\u001b[39;00m\n\u001b[0;32m    551\u001b[0m \u001b[38;5;124;03m    \"\"\"\u001b[39;00m\n\u001b[1;32m--> 552\u001b[0m     \u001b[38;5;28;43mself\u001b[39;49m\u001b[38;5;241;43m.\u001b[39;49m\u001b[43mexecute\u001b[49m\u001b[43m(\u001b[49m\u001b[43mCommand\u001b[49m\u001b[38;5;241;43m.\u001b[39;49m\u001b[43mCLOSE\u001b[49m\u001b[43m)\u001b[49m\n",
      "File \u001b[1;32mD:\\Anaconda\\envs\\py38\\lib\\site-packages\\selenium\\webdriver\\remote\\webdriver.py:435\u001b[0m, in \u001b[0;36mWebDriver.execute\u001b[1;34m(self, driver_command, params)\u001b[0m\n\u001b[0;32m    433\u001b[0m response \u001b[38;5;241m=\u001b[39m \u001b[38;5;28mself\u001b[39m\u001b[38;5;241m.\u001b[39mcommand_executor\u001b[38;5;241m.\u001b[39mexecute(driver_command, params)\n\u001b[0;32m    434\u001b[0m \u001b[38;5;28;01mif\u001b[39;00m response:\n\u001b[1;32m--> 435\u001b[0m     \u001b[38;5;28;43mself\u001b[39;49m\u001b[38;5;241;43m.\u001b[39;49m\u001b[43merror_handler\u001b[49m\u001b[38;5;241;43m.\u001b[39;49m\u001b[43mcheck_response\u001b[49m\u001b[43m(\u001b[49m\u001b[43mresponse\u001b[49m\u001b[43m)\u001b[49m\n\u001b[0;32m    436\u001b[0m     response[\u001b[38;5;124m'\u001b[39m\u001b[38;5;124mvalue\u001b[39m\u001b[38;5;124m'\u001b[39m] \u001b[38;5;241m=\u001b[39m \u001b[38;5;28mself\u001b[39m\u001b[38;5;241m.\u001b[39m_unwrap_value(\n\u001b[0;32m    437\u001b[0m         response\u001b[38;5;241m.\u001b[39mget(\u001b[38;5;124m'\u001b[39m\u001b[38;5;124mvalue\u001b[39m\u001b[38;5;124m'\u001b[39m, \u001b[38;5;28;01mNone\u001b[39;00m))\n\u001b[0;32m    438\u001b[0m     \u001b[38;5;28;01mreturn\u001b[39;00m response\n",
      "File \u001b[1;32mD:\\Anaconda\\envs\\py38\\lib\\site-packages\\selenium\\webdriver\\remote\\errorhandler.py:247\u001b[0m, in \u001b[0;36mErrorHandler.check_response\u001b[1;34m(self, response)\u001b[0m\n\u001b[0;32m    245\u001b[0m         alert_text \u001b[38;5;241m=\u001b[39m value[\u001b[38;5;124m'\u001b[39m\u001b[38;5;124malert\u001b[39m\u001b[38;5;124m'\u001b[39m]\u001b[38;5;241m.\u001b[39mget(\u001b[38;5;124m'\u001b[39m\u001b[38;5;124mtext\u001b[39m\u001b[38;5;124m'\u001b[39m)\n\u001b[0;32m    246\u001b[0m     \u001b[38;5;28;01mraise\u001b[39;00m exception_class(message, screen, stacktrace, alert_text)  \u001b[38;5;66;03m# type: ignore[call-arg]  # mypy is not smart enough here\u001b[39;00m\n\u001b[1;32m--> 247\u001b[0m \u001b[38;5;28;01mraise\u001b[39;00m exception_class(message, screen, stacktrace)\n",
      "\u001b[1;31mWebDriverException\u001b[0m: Message: chrome not reachable\n  (Session info: chrome=103.0.5060.66)\nStacktrace:\nBacktrace:\n\tOrdinal0 [0x00C26463+2188387]\n\tOrdinal0 [0x00BBE461+1762401]\n\tOrdinal0 [0x00AD3C40+801856]\n\tOrdinal0 [0x00AC8932+756018]\n\tOrdinal0 [0x00ABC2F0+705264]\n\tOrdinal0 [0x00B22C40+1125440]\n\tOrdinal0 [0x00B1C7A3+1099683]\n\tOrdinal0 [0x00AF6BE0+945120]\n\tOrdinal0 [0x00AF7AD6+948950]\n\tGetHandleVerifier [0x00EC71F2+2712546]\n\tGetHandleVerifier [0x00EB886D+2652765]\n\tGetHandleVerifier [0x00CB002A+520730]\n\tGetHandleVerifier [0x00CAEE06+516086]\n\tOrdinal0 [0x00BC468B+1787531]\n\tOrdinal0 [0x00BC8E88+1805960]\n\tOrdinal0 [0x00BC8F75+1806197]\n\tOrdinal0 [0x00BD1DF1+1842673]\n\tBaseThreadInitThunk [0x76607BA9+25]\n\tRtlInitializeExceptionChain [0x7776B7DB+107]\n\tRtlClearBits [0x7776B75F+191]\n"
     ]
    }
   ],
   "source": [
    "driver.close()"
   ]
  },
  {
   "cell_type": "code",
   "execution_count": 75,
   "id": "673a7a81-080f-4b66-aaca-c1e8938551bf",
   "metadata": {},
   "outputs": [
    {
     "data": {
      "text/plain": [
       "['https://i.ytimg.com/vi/nb0qhTc3P88/hqdefault.jpg?sqp=-oaymwEcCPYBEIoBSFXyq4qpAw4IARUAAIhCGAFwAcABBg==&rs=AOn4CLBhDQIQrVTTz3tz4zhrsWJouPI59g',\n",
       " 'https://i.ytimg.com/vi/FP3TyW4q3Bk/hqdefault.jpg?sqp=-oaymwEcCPYBEIoBSFXyq4qpAw4IARUAAIhCGAFwAcABBg==&rs=AOn4CLCTY56NZDdOtWrpY1z80eqYCN8OCg',\n",
       " 'https://i.ytimg.com/vi/TI_cc_GxSCY/hqdefault.jpg?sqp=-oaymwEcCPYBEIoBSFXyq4qpAw4IARUAAIhCGAFwAcABBg==&rs=AOn4CLDRQbeZX5XfYzoCN9IFIGzhjBMO8g',\n",
       " 'https://i.ytimg.com/vi/xw6sh94tMbQ/hqdefault.jpg?sqp=-oaymwEcCPYBEIoBSFXyq4qpAw4IARUAAIhCGAFwAcABBg==&rs=AOn4CLDTKeQ-9lhYImHMAd-yttMvdR7BkA',\n",
       " 'https://i.ytimg.com/vi/XsVTcCgqXtU/hqdefault.jpg?sqp=-oaymwEcCPYBEIoBSFXyq4qpAw4IARUAAIhCGAFwAcABBg==&rs=AOn4CLCq07fbrbOjlYXMSLIrvc8EsYU5Iw',\n",
       " 'https://i.ytimg.com/vi/Dx_BnUljXnY/hqdefault.jpg?sqp=-oaymwEcCPYBEIoBSFXyq4qpAw4IARUAAIhCGAFwAcABBg==&rs=AOn4CLBA0lcYcecUtkQC0SDBPCqm7f4qXw',\n",
       " 'https://i.ytimg.com/vi/90PYGIm5zBo/hqdefault.jpg?sqp=-oaymwEcCPYBEIoBSFXyq4qpAw4IARUAAIhCGAFwAcABBg==&rs=AOn4CLAoXzhDslM70P12fOCNcyXrfCXCiw',\n",
       " 'https://i.ytimg.com/vi/-26K8blUmds/hqdefault.jpg?sqp=-oaymwEcCPYBEIoBSFXyq4qpAw4IARUAAIhCGAFwAcABBg==&rs=AOn4CLBcs1aNTPrzrHYlP7aoWt4gPHEtUA',\n",
       " 'https://i.ytimg.com/vi/M9O5zH0bpd4/hqdefault.jpg?sqp=-oaymwEcCPYBEIoBSFXyq4qpAw4IARUAAIhCGAFwAcABBg==&rs=AOn4CLAGOqNCiLglfyFTab5ZQYlUpiWHpg',\n",
       " 'https://i.ytimg.com/vi/u0nd7IjnUzc/hqdefault.jpg?sqp=-oaymwEcCPYBEIoBSFXyq4qpAw4IARUAAIhCGAFwAcABBg==&rs=AOn4CLCYdyvbb014PnndQ8txX0ysPkCypA',\n",
       " 'https://i.ytimg.com/vi/D_0zj33HhSI/hqdefault.jpg?sqp=-oaymwEcCPYBEIoBSFXyq4qpAw4IARUAAIhCGAFwAcABBg==&rs=AOn4CLBAIUhM1hVOKj7q1nOiShqRewrNYw',\n",
       " 'https://i.ytimg.com/vi/BBQ0S49mAJk/hqdefault.jpg?sqp=-oaymwEcCPYBEIoBSFXyq4qpAw4IARUAAIhCGAFwAcABBg==&rs=AOn4CLB_A0FzcQ34TyxmLcpvoEeI0tGUCQ',\n",
       " 'https://i.ytimg.com/vi/BIiBiJCIQcM/hqdefault.jpg?sqp=-oaymwEcCPYBEIoBSFXyq4qpAw4IARUAAIhCGAFwAcABBg==&rs=AOn4CLBeHpc3oucpXhmoXT5euAYosN0ozQ',\n",
       " 'https://i.ytimg.com/vi/kG4g4bCvQxo/hqdefault.jpg?sqp=-oaymwEcCPYBEIoBSFXyq4qpAw4IARUAAIhCGAFwAcABBg==&rs=AOn4CLBZDBjt5Mun1u0S3RZ0tVzHhvZo2Q',\n",
       " 'https://i.ytimg.com/vi/08nOlU2u1NU/hqdefault.jpg?sqp=-oaymwEcCPYBEIoBSFXyq4qpAw4IARUAAIhCGAFwAcABBg==&rs=AOn4CLBqIElZQPqpc3HWIWJ1Ipvkcj3M9w',\n",
       " 'https://i.ytimg.com/vi/2ASSLGfNnPY/hqdefault.jpg?sqp=-oaymwEcCPYBEIoBSFXyq4qpAw4IARUAAIhCGAFwAcABBg==&rs=AOn4CLCjI4OzcbsbiwuF-Ake1W0vrDKHYA',\n",
       " 'https://i.ytimg.com/vi/Ca6qCo9bv5w/hqdefault.jpg?sqp=-oaymwEcCPYBEIoBSFXyq4qpAw4IARUAAIhCGAFwAcABBg==&rs=AOn4CLCBmDFIGayqZLepqQ6JJV95xsWpzw',\n",
       " 'https://i.ytimg.com/vi/Aq0ckWD9yDg/hqdefault.jpg?sqp=-oaymwEcCPYBEIoBSFXyq4qpAw4IARUAAIhCGAFwAcABBg==&rs=AOn4CLD24GzKbcCVP9PLVyQBu1nJdrUGmw',\n",
       " 'https://i.ytimg.com/vi/ipZuFpKLhBk/hqdefault.jpg?sqp=-oaymwEcCPYBEIoBSFXyq4qpAw4IARUAAIhCGAFwAcABBg==&rs=AOn4CLCjgX1_hcuaDOBiu-p0IIS_vCjF5Q',\n",
       " 'https://i.ytimg.com/vi/mowbQuHLx6g/hqdefault.jpg?sqp=-oaymwEcCPYBEIoBSFXyq4qpAw4IARUAAIhCGAFwAcABBg==&rs=AOn4CLBQ69U8kxm4TLSdutPChSXwhP2D1g',\n",
       " 'https://i.ytimg.com/vi/kSQvQVt2gNs/hqdefault.jpg?sqp=-oaymwEcCPYBEIoBSFXyq4qpAw4IARUAAIhCGAFwAcABBg==&rs=AOn4CLARHOH_-i1B15P2OWZcNQKISah2wA',\n",
       " 'https://i.ytimg.com/vi/Zo2Wp7b77PY/hqdefault.jpg?sqp=-oaymwEcCPYBEIoBSFXyq4qpAw4IARUAAIhCGAFwAcABBg==&rs=AOn4CLDW-R5IRzmKcR_N2vrd1qh7eHOf2g',\n",
       " 'https://i.ytimg.com/vi/5ay2fPhW7mI/hqdefault.jpg?sqp=-oaymwEcCPYBEIoBSFXyq4qpAw4IARUAAIhCGAFwAcABBg==&rs=AOn4CLCHNPNY4C6AffzxE0M3yjzv-A3KPA',\n",
       " 'https://i.ytimg.com/vi/IgYQhpj3E_A/hqdefault.jpg?sqp=-oaymwEcCPYBEIoBSFXyq4qpAw4IARUAAIhCGAFwAcABBg==&rs=AOn4CLCl5XdpApppXRK8N_8iDdFNJNiSWQ',\n",
       " 'https://i.ytimg.com/vi/Cy_G_kgszhI/hqdefault.jpg?sqp=-oaymwEcCPYBEIoBSFXyq4qpAw4IARUAAIhCGAFwAcABBg==&rs=AOn4CLAb8QwOvyqtBajfNW4-F_74uVdw7A',\n",
       " 'https://i.ytimg.com/vi/lSuQo164n-Q/hqdefault.jpg?sqp=-oaymwEcCPYBEIoBSFXyq4qpAw4IARUAAIhCGAFwAcABBg==&rs=AOn4CLDXsiGrn-Ja3X12Is1bV7ecZbStaw',\n",
       " 'https://i.ytimg.com/vi/j_NYgFDvhiM/hqdefault.jpg?sqp=-oaymwEcCPYBEIoBSFXyq4qpAw4IARUAAIhCGAFwAcABBg==&rs=AOn4CLBQ_K3GvQKGdVOiZvu5WId_TlW5Aw',\n",
       " 'https://i.ytimg.com/vi/bUdcqj22Yfg/hqdefault.jpg?sqp=-oaymwEcCPYBEIoBSFXyq4qpAw4IARUAAIhCGAFwAcABBg==&rs=AOn4CLB1H5nlkMuA0TgB3kqJj35Dc4jAPg',\n",
       " 'https://i.ytimg.com/vi/nli-Ln63zDE/hqdefault.jpg?sqp=-oaymwEcCPYBEIoBSFXyq4qpAw4IARUAAIhCGAFwAcABBg==&rs=AOn4CLBmnxw9N8xyhsX_3ayIQPEEuuBqYg',\n",
       " 'https://i.ytimg.com/vi/4d40l0-qNiw/hqdefault.jpg?sqp=-oaymwEcCPYBEIoBSFXyq4qpAw4IARUAAIhCGAFwAcABBg==&rs=AOn4CLB5ewo35p_CuA-xoxNOBI4pReioNw',\n",
       " 'https://i.ytimg.com/vi/3dFPQXupw3o/hqdefault.jpg?sqp=-oaymwEcCPYBEIoBSFXyq4qpAw4IARUAAIhCGAFwAcABBg==&rs=AOn4CLCsI0BoZNSJba_J8MqVPuQokl77fQ',\n",
       " 'https://i.ytimg.com/vi/wV1e49M6GAE/hqdefault.jpg?sqp=-oaymwEcCPYBEIoBSFXyq4qpAw4IARUAAIhCGAFwAcABBg==&rs=AOn4CLDE4Ia06ZQZ5I_hCLOOQKRsOW_OyA',\n",
       " 'https://i.ytimg.com/vi/GLZbjDKgx14/hqdefault.jpg?sqp=-oaymwEcCPYBEIoBSFXyq4qpAw4IARUAAIhCGAFwAcABBg==&rs=AOn4CLAlhcn6ilmjhZwoZR1Yq1G0NxjfaQ',\n",
       " 'https://i.ytimg.com/vi/bdOC_Kl79HY/hqdefault.jpg?sqp=-oaymwEcCPYBEIoBSFXyq4qpAw4IARUAAIhCGAFwAcABBg==&rs=AOn4CLCiXBSX_PQCqmMTRp6x7aaTu1Xl7Q',\n",
       " 'https://i.ytimg.com/vi/5acCkovFKks/hqdefault.jpg?sqp=-oaymwEcCPYBEIoBSFXyq4qpAw4IARUAAIhCGAFwAcABBg==&rs=AOn4CLCJ1arSulTAUVLjTIUTQbHI489IiA',\n",
       " 'https://i.ytimg.com/vi/mJz5_sf64DY/hqdefault.jpg?sqp=-oaymwEcCPYBEIoBSFXyq4qpAw4IARUAAIhCGAFwAcABBg==&rs=AOn4CLAj86TpD3NtDzgY--ztJHpDpgiBRA']"
      ]
     },
     "execution_count": 75,
     "metadata": {},
     "output_type": "execute_result"
    }
   ],
   "source": [
    "titles"
   ]
  },
  {
   "cell_type": "code",
   "execution_count": null,
   "id": "3b294ece-f27d-4267-a1c8-744ffdbd0716",
   "metadata": {},
   "outputs": [],
   "source": []
  }
 ],
 "metadata": {
  "kernelspec": {
   "display_name": "Python 3 (ipykernel)",
   "language": "python",
   "name": "python3"
  },
  "language_info": {
   "codemirror_mode": {
    "name": "ipython",
    "version": 3
   },
   "file_extension": ".py",
   "mimetype": "text/x-python",
   "name": "python",
   "nbconvert_exporter": "python",
   "pygments_lexer": "ipython3",
   "version": "3.8.8"
  }
 },
 "nbformat": 4,
 "nbformat_minor": 5
}
