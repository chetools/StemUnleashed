{
  "nbformat": 4,
  "nbformat_minor": 0,
  "metadata": {
    "colab": {
      "name": "GroceryData.ipynb",
      "provenance": [],
      "authorship_tag": "ABX9TyM0bUWmiCKyXGStTj4uhNMj",
      "include_colab_link": true
    },
    "kernelspec": {
      "name": "python3",
      "display_name": "Python 3"
    },
    "language_info": {
      "name": "python"
    }
  },
  "cells": [
    {
      "cell_type": "markdown",
      "metadata": {
        "id": "view-in-github",
        "colab_type": "text"
      },
      "source": [
        "<a href=\"https://colab.research.google.com/github/profteachkids/StemUnleashed/blob/main/GroceryData.ipynb\" target=\"_parent\"><img src=\"https://colab.research.google.com/assets/colab-badge.svg\" alt=\"Open In Colab\"/></a>"
      ]
    },
    {
      "cell_type": "code",
      "source": [
        "!pip install faker"
      ],
      "metadata": {
        "colab": {
          "base_uri": "https://localhost:8080/"
        },
        "id": "Ns9tjKpPLAXC",
        "outputId": "eebed89a-e856-48c8-ff7a-316ce0c7e2f4"
      },
      "execution_count": 3,
      "outputs": [
        {
          "output_type": "stream",
          "name": "stdout",
          "text": [
            "Collecting faker\n",
            "  Downloading Faker-13.11.0-py3-none-any.whl (1.5 MB)\n",
            "\u001b[?25l\r\u001b[K     |▏                               | 10 kB 18.2 MB/s eta 0:00:01\r\u001b[K     |▍                               | 20 kB 13.0 MB/s eta 0:00:01\r\u001b[K     |▋                               | 30 kB 10.3 MB/s eta 0:00:01\r\u001b[K     |▉                               | 40 kB 8.9 MB/s eta 0:00:01\r\u001b[K     |█                               | 51 kB 4.4 MB/s eta 0:00:01\r\u001b[K     |█▎                              | 61 kB 5.2 MB/s eta 0:00:01\r\u001b[K     |█▌                              | 71 kB 5.6 MB/s eta 0:00:01\r\u001b[K     |█▊                              | 81 kB 5.5 MB/s eta 0:00:01\r\u001b[K     |██                              | 92 kB 6.2 MB/s eta 0:00:01\r\u001b[K     |██▏                             | 102 kB 4.7 MB/s eta 0:00:01\r\u001b[K     |██▍                             | 112 kB 4.7 MB/s eta 0:00:01\r\u001b[K     |██▋                             | 122 kB 4.7 MB/s eta 0:00:01\r\u001b[K     |██▊                             | 133 kB 4.7 MB/s eta 0:00:01\r\u001b[K     |███                             | 143 kB 4.7 MB/s eta 0:00:01\r\u001b[K     |███▏                            | 153 kB 4.7 MB/s eta 0:00:01\r\u001b[K     |███▍                            | 163 kB 4.7 MB/s eta 0:00:01\r\u001b[K     |███▋                            | 174 kB 4.7 MB/s eta 0:00:01\r\u001b[K     |███▉                            | 184 kB 4.7 MB/s eta 0:00:01\r\u001b[K     |████                            | 194 kB 4.7 MB/s eta 0:00:01\r\u001b[K     |████▎                           | 204 kB 4.7 MB/s eta 0:00:01\r\u001b[K     |████▌                           | 215 kB 4.7 MB/s eta 0:00:01\r\u001b[K     |████▊                           | 225 kB 4.7 MB/s eta 0:00:01\r\u001b[K     |█████                           | 235 kB 4.7 MB/s eta 0:00:01\r\u001b[K     |█████▏                          | 245 kB 4.7 MB/s eta 0:00:01\r\u001b[K     |█████▎                          | 256 kB 4.7 MB/s eta 0:00:01\r\u001b[K     |█████▌                          | 266 kB 4.7 MB/s eta 0:00:01\r\u001b[K     |█████▊                          | 276 kB 4.7 MB/s eta 0:00:01\r\u001b[K     |██████                          | 286 kB 4.7 MB/s eta 0:00:01\r\u001b[K     |██████▏                         | 296 kB 4.7 MB/s eta 0:00:01\r\u001b[K     |██████▍                         | 307 kB 4.7 MB/s eta 0:00:01\r\u001b[K     |██████▋                         | 317 kB 4.7 MB/s eta 0:00:01\r\u001b[K     |██████▉                         | 327 kB 4.7 MB/s eta 0:00:01\r\u001b[K     |███████                         | 337 kB 4.7 MB/s eta 0:00:01\r\u001b[K     |███████▎                        | 348 kB 4.7 MB/s eta 0:00:01\r\u001b[K     |███████▌                        | 358 kB 4.7 MB/s eta 0:00:01\r\u001b[K     |███████▊                        | 368 kB 4.7 MB/s eta 0:00:01\r\u001b[K     |███████▉                        | 378 kB 4.7 MB/s eta 0:00:01\r\u001b[K     |████████                        | 389 kB 4.7 MB/s eta 0:00:01\r\u001b[K     |████████▎                       | 399 kB 4.7 MB/s eta 0:00:01\r\u001b[K     |████████▌                       | 409 kB 4.7 MB/s eta 0:00:01\r\u001b[K     |████████▊                       | 419 kB 4.7 MB/s eta 0:00:01\r\u001b[K     |█████████                       | 430 kB 4.7 MB/s eta 0:00:01\r\u001b[K     |█████████▏                      | 440 kB 4.7 MB/s eta 0:00:01\r\u001b[K     |█████████▍                      | 450 kB 4.7 MB/s eta 0:00:01\r\u001b[K     |█████████▋                      | 460 kB 4.7 MB/s eta 0:00:01\r\u001b[K     |█████████▉                      | 471 kB 4.7 MB/s eta 0:00:01\r\u001b[K     |██████████                      | 481 kB 4.7 MB/s eta 0:00:01\r\u001b[K     |██████████▎                     | 491 kB 4.7 MB/s eta 0:00:01\r\u001b[K     |██████████▍                     | 501 kB 4.7 MB/s eta 0:00:01\r\u001b[K     |██████████▋                     | 512 kB 4.7 MB/s eta 0:00:01\r\u001b[K     |██████████▉                     | 522 kB 4.7 MB/s eta 0:00:01\r\u001b[K     |███████████                     | 532 kB 4.7 MB/s eta 0:00:01\r\u001b[K     |███████████▎                    | 542 kB 4.7 MB/s eta 0:00:01\r\u001b[K     |███████████▌                    | 552 kB 4.7 MB/s eta 0:00:01\r\u001b[K     |███████████▊                    | 563 kB 4.7 MB/s eta 0:00:01\r\u001b[K     |████████████                    | 573 kB 4.7 MB/s eta 0:00:01\r\u001b[K     |████████████▏                   | 583 kB 4.7 MB/s eta 0:00:01\r\u001b[K     |████████████▍                   | 593 kB 4.7 MB/s eta 0:00:01\r\u001b[K     |████████████▋                   | 604 kB 4.7 MB/s eta 0:00:01\r\u001b[K     |████████████▉                   | 614 kB 4.7 MB/s eta 0:00:01\r\u001b[K     |█████████████                   | 624 kB 4.7 MB/s eta 0:00:01\r\u001b[K     |█████████████▏                  | 634 kB 4.7 MB/s eta 0:00:01\r\u001b[K     |█████████████▍                  | 645 kB 4.7 MB/s eta 0:00:01\r\u001b[K     |█████████████▋                  | 655 kB 4.7 MB/s eta 0:00:01\r\u001b[K     |█████████████▉                  | 665 kB 4.7 MB/s eta 0:00:01\r\u001b[K     |██████████████                  | 675 kB 4.7 MB/s eta 0:00:01\r\u001b[K     |██████████████▎                 | 686 kB 4.7 MB/s eta 0:00:01\r\u001b[K     |██████████████▌                 | 696 kB 4.7 MB/s eta 0:00:01\r\u001b[K     |██████████████▊                 | 706 kB 4.7 MB/s eta 0:00:01\r\u001b[K     |███████████████                 | 716 kB 4.7 MB/s eta 0:00:01\r\u001b[K     |███████████████▏                | 727 kB 4.7 MB/s eta 0:00:01\r\u001b[K     |███████████████▍                | 737 kB 4.7 MB/s eta 0:00:01\r\u001b[K     |███████████████▌                | 747 kB 4.7 MB/s eta 0:00:01\r\u001b[K     |███████████████▊                | 757 kB 4.7 MB/s eta 0:00:01\r\u001b[K     |████████████████                | 768 kB 4.7 MB/s eta 0:00:01\r\u001b[K     |████████████████▏               | 778 kB 4.7 MB/s eta 0:00:01\r\u001b[K     |████████████████▍               | 788 kB 4.7 MB/s eta 0:00:01\r\u001b[K     |████████████████▋               | 798 kB 4.7 MB/s eta 0:00:01\r\u001b[K     |████████████████▉               | 808 kB 4.7 MB/s eta 0:00:01\r\u001b[K     |█████████████████               | 819 kB 4.7 MB/s eta 0:00:01\r\u001b[K     |█████████████████▎              | 829 kB 4.7 MB/s eta 0:00:01\r\u001b[K     |█████████████████▌              | 839 kB 4.7 MB/s eta 0:00:01\r\u001b[K     |█████████████████▊              | 849 kB 4.7 MB/s eta 0:00:01\r\u001b[K     |██████████████████              | 860 kB 4.7 MB/s eta 0:00:01\r\u001b[K     |██████████████████              | 870 kB 4.7 MB/s eta 0:00:01\r\u001b[K     |██████████████████▎             | 880 kB 4.7 MB/s eta 0:00:01\r\u001b[K     |██████████████████▌             | 890 kB 4.7 MB/s eta 0:00:01\r\u001b[K     |██████████████████▊             | 901 kB 4.7 MB/s eta 0:00:01\r\u001b[K     |███████████████████             | 911 kB 4.7 MB/s eta 0:00:01\r\u001b[K     |███████████████████▏            | 921 kB 4.7 MB/s eta 0:00:01\r\u001b[K     |███████████████████▍            | 931 kB 4.7 MB/s eta 0:00:01\r\u001b[K     |███████████████████▋            | 942 kB 4.7 MB/s eta 0:00:01\r\u001b[K     |███████████████████▉            | 952 kB 4.7 MB/s eta 0:00:01\r\u001b[K     |████████████████████            | 962 kB 4.7 MB/s eta 0:00:01\r\u001b[K     |████████████████████▎           | 972 kB 4.7 MB/s eta 0:00:01\r\u001b[K     |████████████████████▌           | 983 kB 4.7 MB/s eta 0:00:01\r\u001b[K     |████████████████████▋           | 993 kB 4.7 MB/s eta 0:00:01\r\u001b[K     |████████████████████▉           | 1.0 MB 4.7 MB/s eta 0:00:01\r\u001b[K     |█████████████████████           | 1.0 MB 4.7 MB/s eta 0:00:01\r\u001b[K     |█████████████████████▎          | 1.0 MB 4.7 MB/s eta 0:00:01\r\u001b[K     |█████████████████████▌          | 1.0 MB 4.7 MB/s eta 0:00:01\r\u001b[K     |█████████████████████▊          | 1.0 MB 4.7 MB/s eta 0:00:01\r\u001b[K     |██████████████████████          | 1.1 MB 4.7 MB/s eta 0:00:01\r\u001b[K     |██████████████████████▏         | 1.1 MB 4.7 MB/s eta 0:00:01\r\u001b[K     |██████████████████████▍         | 1.1 MB 4.7 MB/s eta 0:00:01\r\u001b[K     |██████████████████████▋         | 1.1 MB 4.7 MB/s eta 0:00:01\r\u001b[K     |██████████████████████▉         | 1.1 MB 4.7 MB/s eta 0:00:01\r\u001b[K     |███████████████████████         | 1.1 MB 4.7 MB/s eta 0:00:01\r\u001b[K     |███████████████████████▏        | 1.1 MB 4.7 MB/s eta 0:00:01\r\u001b[K     |███████████████████████▍        | 1.1 MB 4.7 MB/s eta 0:00:01\r\u001b[K     |███████████████████████▋        | 1.1 MB 4.7 MB/s eta 0:00:01\r\u001b[K     |███████████████████████▉        | 1.1 MB 4.7 MB/s eta 0:00:01\r\u001b[K     |████████████████████████        | 1.2 MB 4.7 MB/s eta 0:00:01\r\u001b[K     |████████████████████████▎       | 1.2 MB 4.7 MB/s eta 0:00:01\r\u001b[K     |████████████████████████▌       | 1.2 MB 4.7 MB/s eta 0:00:01\r\u001b[K     |████████████████████████▊       | 1.2 MB 4.7 MB/s eta 0:00:01\r\u001b[K     |█████████████████████████       | 1.2 MB 4.7 MB/s eta 0:00:01\r\u001b[K     |█████████████████████████▏      | 1.2 MB 4.7 MB/s eta 0:00:01\r\u001b[K     |█████████████████████████▍      | 1.2 MB 4.7 MB/s eta 0:00:01\r\u001b[K     |█████████████████████████▋      | 1.2 MB 4.7 MB/s eta 0:00:01\r\u001b[K     |█████████████████████████▊      | 1.2 MB 4.7 MB/s eta 0:00:01\r\u001b[K     |██████████████████████████      | 1.2 MB 4.7 MB/s eta 0:00:01\r\u001b[K     |██████████████████████████▏     | 1.3 MB 4.7 MB/s eta 0:00:01\r\u001b[K     |██████████████████████████▍     | 1.3 MB 4.7 MB/s eta 0:00:01\r\u001b[K     |██████████████████████████▋     | 1.3 MB 4.7 MB/s eta 0:00:01\r\u001b[K     |██████████████████████████▉     | 1.3 MB 4.7 MB/s eta 0:00:01\r\u001b[K     |███████████████████████████     | 1.3 MB 4.7 MB/s eta 0:00:01\r\u001b[K     |███████████████████████████▎    | 1.3 MB 4.7 MB/s eta 0:00:01\r\u001b[K     |███████████████████████████▌    | 1.3 MB 4.7 MB/s eta 0:00:01\r\u001b[K     |███████████████████████████▊    | 1.3 MB 4.7 MB/s eta 0:00:01\r\u001b[K     |████████████████████████████    | 1.3 MB 4.7 MB/s eta 0:00:01\r\u001b[K     |████████████████████████████▏   | 1.4 MB 4.7 MB/s eta 0:00:01\r\u001b[K     |████████████████████████████▎   | 1.4 MB 4.7 MB/s eta 0:00:01\r\u001b[K     |████████████████████████████▌   | 1.4 MB 4.7 MB/s eta 0:00:01\r\u001b[K     |████████████████████████████▊   | 1.4 MB 4.7 MB/s eta 0:00:01\r\u001b[K     |█████████████████████████████   | 1.4 MB 4.7 MB/s eta 0:00:01\r\u001b[K     |█████████████████████████████▏  | 1.4 MB 4.7 MB/s eta 0:00:01\r\u001b[K     |█████████████████████████████▍  | 1.4 MB 4.7 MB/s eta 0:00:01\r\u001b[K     |█████████████████████████████▋  | 1.4 MB 4.7 MB/s eta 0:00:01\r\u001b[K     |█████████████████████████████▉  | 1.4 MB 4.7 MB/s eta 0:00:01\r\u001b[K     |██████████████████████████████  | 1.4 MB 4.7 MB/s eta 0:00:01\r\u001b[K     |██████████████████████████████▎ | 1.5 MB 4.7 MB/s eta 0:00:01\r\u001b[K     |██████████████████████████████▌ | 1.5 MB 4.7 MB/s eta 0:00:01\r\u001b[K     |██████████████████████████████▊ | 1.5 MB 4.7 MB/s eta 0:00:01\r\u001b[K     |██████████████████████████████▉ | 1.5 MB 4.7 MB/s eta 0:00:01\r\u001b[K     |███████████████████████████████ | 1.5 MB 4.7 MB/s eta 0:00:01\r\u001b[K     |███████████████████████████████▎| 1.5 MB 4.7 MB/s eta 0:00:01\r\u001b[K     |███████████████████████████████▌| 1.5 MB 4.7 MB/s eta 0:00:01\r\u001b[K     |███████████████████████████████▊| 1.5 MB 4.7 MB/s eta 0:00:01\r\u001b[K     |████████████████████████████████| 1.5 MB 4.7 MB/s eta 0:00:01\r\u001b[K     |████████████████████████████████| 1.5 MB 4.7 MB/s \n",
            "\u001b[?25hRequirement already satisfied: python-dateutil>=2.4 in /usr/local/lib/python3.7/dist-packages (from faker) (2.8.2)\n",
            "Requirement already satisfied: typing-extensions>=3.10.0.2 in /usr/local/lib/python3.7/dist-packages (from faker) (4.2.0)\n",
            "Requirement already satisfied: six>=1.5 in /usr/local/lib/python3.7/dist-packages (from python-dateutil>=2.4->faker) (1.15.0)\n",
            "Installing collected packages: faker\n",
            "Successfully installed faker-13.11.0\n"
          ]
        }
      ]
    },
    {
      "cell_type": "code",
      "source": [
        "!wget -q https://github.com/profteachkids/StemUnleashed/raw/main/GroceryPrices.xlsx -O GroceryPrices.xlsx"
      ],
      "metadata": {
        "id": "yJ1ho4fO9l3i"
      },
      "execution_count": 68,
      "outputs": []
    },
    {
      "cell_type": "code",
      "execution_count": 63,
      "metadata": {
        "id": "baPKf0w3y0yz"
      },
      "outputs": [],
      "source": [
        "import requests\n",
        "from lxml import html\n",
        "import numpy as np\n",
        "import pandas as pd\n",
        "from collections import deque\n",
        "from faker import Faker"
      ]
    },
    {
      "cell_type": "code",
      "source": [
        "idx=pd.IndexSlice"
      ],
      "metadata": {
        "id": "tRV_9mvGdtCP"
      },
      "execution_count": 252,
      "outputs": []
    },
    {
      "cell_type": "code",
      "source": [
        "rng=np.random.RandomState()"
      ],
      "metadata": {
        "id": "a4RGLPOU2gX4"
      },
      "execution_count": 64,
      "outputs": []
    },
    {
      "cell_type": "code",
      "source": [
        "df_grocery = pd.read_excel('GroceryPrices.xlsx')"
      ],
      "metadata": {
        "id": "sLZ0l8bG57aN"
      },
      "execution_count": 69,
      "outputs": []
    },
    {
      "cell_type": "code",
      "source": [
        "fake=Faker()\n",
        "names=[fake.name_nonbinary() for i in range(100)]"
      ],
      "metadata": {
        "id": "PxbwRWALBVXV"
      },
      "execution_count": 169,
      "outputs": []
    },
    {
      "cell_type": "code",
      "source": [
        "now = pd.to_datetime('now').round('s')\n",
        "df_names=[]\n",
        "for _ in range(100):\n",
        "    name = rng.choice(names)\n",
        "    starts = now + pd.to_timedelta(rng.randint(100,24*3600*30,size=rng.poisson(3)+1),'s')\n",
        "    df_start=[]\n",
        "    for start in starts:\n",
        "        n_items = rng.poisson(10)+1\n",
        "        times = start + pd.to_timedelta(np.cumsum(rng.poisson(5,n_items))+1,'s')\n",
        "        items = rng.choice(df_grocery['Item'],n_items)\n",
        "        quantity = rng.poisson(0.5, size=n_items)+1\n",
        "        df_start.append(pd.DataFrame(dict(time=times, item=items,quantity=quantity)))\n",
        "\n",
        "    df_name=pd.concat(df_start)\n",
        "    df_name['name']=name\n",
        "    df_names.append(df_name)\n",
        "df_shopping=pd.concat(df_names)"
      ],
      "metadata": {
        "id": "5uLRmMQP3i78"
      },
      "execution_count": 263,
      "outputs": []
    },
    {
      "cell_type": "code",
      "source": [
        "df_shopping2=df_shopping.sort_values(by=['name','time'])"
      ],
      "metadata": {
        "id": "qyf31QhKZKL6"
      },
      "execution_count": 268,
      "outputs": []
    },
    {
      "cell_type": "code",
      "source": [
        "def trip_count(d):\n",
        "    d['trip']=np.cumsum(d['time'].diff()>pd.to_timedelta(60,'s'))\n",
        "    return d "
      ],
      "metadata": {
        "id": "JwaYbo0QDwVF"
      },
      "execution_count": 293,
      "outputs": []
    },
    {
      "cell_type": "code",
      "source": [
        "df_trip = df_shopping2.groupby('name').apply(trip_count)"
      ],
      "metadata": {
        "id": "lFBGwDbtWxk5"
      },
      "execution_count": 297,
      "outputs": []
    },
    {
      "cell_type": "code",
      "source": [
        "def checkout_duration(d):\n",
        "    return (pd.Timedelta(d['time'].max()-d['time'].min()))/pd.to_timedelta(1,'s')"
      ],
      "metadata": {
        "id": "VobeSbvWg7uE"
      },
      "execution_count": 311,
      "outputs": []
    },
    {
      "cell_type": "code",
      "source": [
        "df_checkout_duration=df_trip.groupby(['name','trip']).apply(checkout_duration)"
      ],
      "metadata": {
        "id": "X1xvxH6FhU1j"
      },
      "execution_count": 313,
      "outputs": []
    },
    {
      "cell_type": "code",
      "source": [
        "df_checkout_duration"
      ],
      "metadata": {
        "colab": {
          "base_uri": "https://localhost:8080/"
        },
        "id": "IGVy4WzYiH1B",
        "outputId": "c70c8364-4ebe-4f21-9b2c-281e0b38ead1"
      },
      "execution_count": 314,
      "outputs": [
        {
          "output_type": "execute_result",
          "data": {
            "text/plain": [
              "name             trip\n",
              "Amanda Brown     0       47.0\n",
              "                 1       50.0\n",
              "                 2       32.0\n",
              "                 3       65.0\n",
              "                 4       48.0\n",
              "                         ... \n",
              "Yesenia Edwards  9       20.0\n",
              "                 10      36.0\n",
              "                 11      46.0\n",
              "                 12      43.0\n",
              "                 13      66.0\n",
              "Length: 421, dtype: float64"
            ]
          },
          "metadata": {},
          "execution_count": 314
        }
      ]
    },
    {
      "cell_type": "code",
      "source": [
        ""
      ],
      "metadata": {
        "id": "SkTe3r76iIpB"
      },
      "execution_count": null,
      "outputs": []
    }
  ]
}