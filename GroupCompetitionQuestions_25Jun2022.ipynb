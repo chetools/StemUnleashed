{
  "nbformat": 4,
  "nbformat_minor": 0,
  "metadata": {
    "colab": {
      "name": "GroupCompetitionQuestions_25Jun2022.ipynb",
      "provenance": [],
      "collapsed_sections": [],
      "authorship_tag": "ABX9TyOgb/Oso9StSvCcWnYwbTGR",
      "include_colab_link": true
    },
    "kernelspec": {
      "name": "python3",
      "display_name": "Python 3"
    },
    "language_info": {
      "name": "python"
    }
  },
  "cells": [
    {
      "cell_type": "markdown",
      "metadata": {
        "id": "view-in-github",
        "colab_type": "text"
      },
      "source": [
        "<a href=\"https://colab.research.google.com/github/profteachkids/StemUnleashed/blob/main/GroupCompetitionQuestions_25Jun2022.ipynb\" target=\"_parent\"><img src=\"https://colab.research.google.com/assets/colab-badge.svg\" alt=\"Open In Colab\"/></a>"
      ]
    },
    {
      "cell_type": "code",
      "source": [
        "import numpy as np\n",
        "import itertools as it"
      ],
      "metadata": {
        "id": "mlbNMxmnysYk"
      },
      "execution_count": 21,
      "outputs": []
    },
    {
      "cell_type": "code",
      "source": [
        "b=np.zeros((3,3,3,3),dtype=np.int8)\n",
        "b[0,0,0,0]=1\n",
        "b[0,0,0,2]=1\n",
        "b[0,0,2,0]=1\n",
        "b[0,0,2,2]=1\n",
        "b[0,1,0,2]=1\n",
        "b[0,1,1,1]=1\n",
        "b[0,2,0,0]=1\n",
        "b[0,2,0,1]=1\n",
        "b[0,2,0,2]=1\n",
        "b[0,2,1,0]=1\n",
        "b[0,2,2,0]=1\n",
        "b[0,2,2,2]=1\n",
        "b[1,0,1,1]=1\n",
        "b[1,1,0,1]=1\n",
        "b[1,1,1,1]=1\n",
        "b[2,0,2,1]=1\n",
        "b[2,1,1,1]=1\n",
        "b[2,1,2,0]=1\n",
        "b[2,2,0,0]=1\n",
        "b[2,2,1,1]=1\n",
        "b[2,2,2,2]=1"
      ],
      "metadata": {
        "id": "jmxqnoH1zUQR"
      },
      "execution_count": 37,
      "outputs": []
    },
    {
      "cell_type": "code",
      "source": [
        "def printboard(b):\n",
        "    br,bc,by,bx=b.shape\n",
        "    for r in range(br):\n",
        "        for y in range(by):\n",
        "            for c in range(bc):\n",
        "                for x in range(bx):\n",
        "                    print(f'{\"O-X\"[b[r,c,y,x]+1]}', end=' ')   #explain in detail\n",
        "                if c<bc-1:\n",
        "                    print('  |  ', end='')\n",
        "            print('\\n', end='')\n",
        "        if r<br-1:\n",
        "            print('-'*28, end='\\n')"
      ],
      "metadata": {
        "id": "aMB2SbJ7zlo4"
      },
      "execution_count": 38,
      "outputs": []
    },
    {
      "cell_type": "code",
      "source": [
        "printboard(b)"
      ],
      "metadata": {
        "colab": {
          "base_uri": "https://localhost:8080/"
        },
        "id": "7ba7LXGc0dqG",
        "outputId": "a6fe12e7-db38-47ea-d712-b6fc150fecb2"
      },
      "execution_count": 39,
      "outputs": [
        {
          "output_type": "stream",
          "name": "stdout",
          "text": [
            "X - X   |  - - X   |  X X X \n",
            "- - -   |  - X -   |  X - - \n",
            "X - X   |  - - -   |  X - X \n",
            "----------------------------\n",
            "- - -   |  - X -   |  - - - \n",
            "- X -   |  - X -   |  - - - \n",
            "- - -   |  - - -   |  - - - \n",
            "----------------------------\n",
            "- - -   |  - - -   |  X - - \n",
            "- - -   |  - X -   |  - X - \n",
            "- X -   |  X - -   |  - - X \n"
          ]
        }
      ]
    },
    {
      "cell_type": "code",
      "execution_count": 40,
      "metadata": {
        "id": "__BTD0bEyIqU"
      },
      "outputs": [],
      "source": [
        "#explain what it.product does, what the * does\n",
        "pos=np.array(list(it.product(*[[0,1,2]]*4)))"
      ]
    },
    {
      "cell_type": "code",
      "source": [
        "#what do diff0 and diff2 represent?  Why sum over the last axis?  Why the absolute value?  How does broadcasting work here?  Why check for equality to 0 and 2?\n",
        "diff0=np.sum(np.abs(pos[:,None,:] - pos[None,:,:])==0,axis=-1)\n",
        "diff2=np.sum(np.abs(pos[:,None,:] - pos[None,:,:])==2,axis=-1)"
      ],
      "metadata": {
        "id": "eDs1hMWBy1kZ"
      },
      "execution_count": 41,
      "outputs": []
    },
    {
      "cell_type": "code",
      "source": [
        "#what is the relationship between diff2 being 4 and the search for hyper-hyper-diagonal 3-row?\n",
        "i1,i2=np.where(np.all([diff2==4],axis=0))\n",
        "i1,i2=(np.c_[i1,i2][i2>i1]).T  #why is this necessary?\n",
        "step=(pos[i2]-pos[i1])//2  #what is step?\n",
        "d4 = np.stack([pos[i1], pos[i1]+step, pos[i1]+2*step],axis=1)\n",
        "d4true=np.sum(b[tuple(d4.reshape(-1,4).T)].reshape(-1,3),axis=1)==3  #explain the innermost reshape, transpose, tuple, outer reshape, and sum equality to 3\n",
        "nd4=np.sum(d4true)\n",
        "print(d4[d4true])\n",
        "print(f'Number of hyper-hyper-diagonal 3-row: {nd4}')"
      ],
      "metadata": {
        "colab": {
          "base_uri": "https://localhost:8080/"
        },
        "id": "CEXgj1ABy-xu",
        "outputId": "b5d60c29-a44d-477c-9d7b-e7229b0aaa44"
      },
      "execution_count": 50,
      "outputs": [
        {
          "output_type": "stream",
          "name": "stdout",
          "text": [
            "[[[0 0 0 0]\n",
            "  [1 1 1 1]\n",
            "  [2 2 2 2]]\n",
            "\n",
            " [[0 0 2 2]\n",
            "  [1 1 1 1]\n",
            "  [2 2 0 0]]]\n",
            "Number of hyper-hyper-diagonal 3-row: 2\n"
          ]
        }
      ]
    },
    {
      "cell_type": "code",
      "source": [
        "i1,i2=np.where(np.all([diff2==3,diff0==1],axis=0))\n",
        "i1,i2=(np.c_[i1,i2][i2>i1]).T\n",
        "step=(pos[i2]-pos[i1])//2\n",
        "d3 = np.stack([pos[i1], pos[i1]+step, pos[i1]+2*step],axis=1)\n",
        "d3true=np.sum(b[tuple(d3.reshape(-1,4).T)].reshape(-1,3),axis=1)==3\n",
        "nd3=np.sum(d3true)\n",
        "print(d3[d3true])\n",
        "print(f'Number of hyper-diagonal 3-row: {nd3}')"
      ],
      "metadata": {
        "colab": {
          "base_uri": "https://localhost:8080/"
        },
        "id": "wgBfK1j2ytTu",
        "outputId": "022fec00-68e9-41d6-bf83-bfc45a755f39"
      },
      "execution_count": 43,
      "outputs": [
        {
          "output_type": "stream",
          "name": "stdout",
          "text": [
            "[[[0 0 0 0]\n",
            "  [0 1 1 1]\n",
            "  [0 2 2 2]]\n",
            "\n",
            " [[0 0 0 2]\n",
            "  [0 1 1 1]\n",
            "  [0 2 2 0]]\n",
            "\n",
            " [[0 0 0 2]\n",
            "  [1 1 0 1]\n",
            "  [2 2 0 0]]\n",
            "\n",
            " [[0 0 2 0]\n",
            "  [0 1 1 1]\n",
            "  [0 2 0 2]]\n",
            "\n",
            " [[0 0 2 2]\n",
            "  [0 1 1 1]\n",
            "  [0 2 0 0]]\n",
            "\n",
            " [[0 1 0 2]\n",
            "  [1 1 1 1]\n",
            "  [2 1 2 0]]\n",
            "\n",
            " [[0 2 0 1]\n",
            "  [1 1 1 1]\n",
            "  [2 0 2 1]]]\n",
            "Number of hyper-diagonal 3-row: 7\n"
          ]
        }
      ]
    },
    {
      "cell_type": "code",
      "source": [
        "i1,i2=np.where(np.all([diff2==2,diff0==2],axis=0))\n",
        "i1,i2=(np.c_[i1,i2][i2>i1]).T\n",
        "step=(pos[i2]-pos[i1])//2\n",
        "d2 = np.stack([pos[i1], pos[i1]+step, pos[i1]+2*step],axis=1)\n",
        "d2true=np.sum(b[tuple(d2.reshape(-1,4).T)].reshape(-1,3),axis=1)==3\n",
        "nd2=np.sum(d2true)\n",
        "print(d2[d2true])\n",
        "print(f'Number of diagonal 3-row: {nd2}')"
      ],
      "metadata": {
        "colab": {
          "base_uri": "https://localhost:8080/"
        },
        "id": "2kEPB13-0Vi0",
        "outputId": "1532e5b3-cf29-4884-dc40-cb6a23b4e3c8"
      },
      "execution_count": 44,
      "outputs": [
        {
          "output_type": "stream",
          "name": "stdout",
          "text": [
            "[[[2 2 0 0]\n",
            "  [2 2 1 1]\n",
            "  [2 2 2 2]]]\n",
            "Number of diagonal 3-row: 1\n"
          ]
        }
      ]
    },
    {
      "cell_type": "code",
      "source": [
        "#never start from the beginning on any HW/Test!!!\n",
        "#why is diff2 and diff0 set equal to 1 and 3 respectively?\n",
        "i1,i2=np.where(np.all([diff2==1,diff0==3],axis=0))\n",
        "i1,i2=(np.c_[i1,i2][i2>i1]).T\n",
        "step=(pos[i2]-pos[i1])//2\n",
        "d1 = np.stack([pos[i1], pos[i1]+step, pos[i1]+2*step],axis=1)\n",
        "d1true=np.sum(b[tuple(d1.reshape(-1,4).T)].reshape(-1,3),axis=1)==3\n",
        "nd1=np.sum(d1true)\n",
        "print(d1[d1true])\n",
        "print(f'Number of non-diagonal 3-row: {nd1}')"
      ],
      "metadata": {
        "colab": {
          "base_uri": "https://localhost:8080/"
        },
        "id": "pka9FkjR0ZJ2",
        "outputId": "69f589c4-daaf-4a38-a0b3-d8154fc8e657"
      },
      "execution_count": 45,
      "outputs": [
        {
          "output_type": "stream",
          "name": "stdout",
          "text": [
            "[[[0 0 0 2]\n",
            "  [0 1 0 2]\n",
            "  [0 2 0 2]]\n",
            "\n",
            " [[0 1 1 1]\n",
            "  [1 1 1 1]\n",
            "  [2 1 1 1]]\n",
            "\n",
            " [[0 2 0 0]\n",
            "  [0 2 0 1]\n",
            "  [0 2 0 2]]\n",
            "\n",
            " [[0 2 0 0]\n",
            "  [0 2 1 0]\n",
            "  [0 2 2 0]]]\n",
            "Number of non-diagonal 3-row: 4\n"
          ]
        }
      ]
    },
    {
      "cell_type": "code",
      "source": [
        ""
      ],
      "metadata": {
        "id": "FCdaUgSd02kP"
      },
      "execution_count": null,
      "outputs": []
    }
  ]
}