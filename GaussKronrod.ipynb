{
  "nbformat": 4,
  "nbformat_minor": 0,
  "metadata": {
    "colab": {
      "provenance": [],
      "authorship_tag": "ABX9TyNAZ0mz9GHZrPtPbdFDQb5C",
      "include_colab_link": true
    },
    "kernelspec": {
      "name": "python3",
      "display_name": "Python 3"
    },
    "language_info": {
      "name": "python"
    }
  },
  "cells": [
    {
      "cell_type": "markdown",
      "metadata": {
        "id": "view-in-github",
        "colab_type": "text"
      },
      "source": [
        "<a href=\"https://colab.research.google.com/github/profteachkids/StemUnleashed/blob/main/GaussKronrod.ipynb\" target=\"_parent\"><img src=\"https://colab.research.google.com/assets/colab-badge.svg\" alt=\"Open In Colab\"/></a>"
      ]
    },
    {
      "cell_type": "code",
      "execution_count": 25,
      "metadata": {
        "id": "ABB_0r-j-MiS"
      },
      "outputs": [],
      "source": [
        "import jax.numpy as jnp\n",
        "import jax\n",
        "jax.config.update(\"jax_enable_x64\", True)\n",
        "jnp.set_printoptions(precision=15)\n",
        "import numpy as np"
      ]
    },
    {
      "cell_type": "code",
      "source": [
        "gauss_nodes = np.array([0.949107912342759,0.741531185599394,0.405845151377397,0])\n",
        "gauss_nodes = np.concatenate([-gauss_nodes,gauss_nodes[-2::-1]])\n",
        "gauss_weights = np.array([0.129484966168870, 0.279705391489277, 0.381830050505119, 0.417959183673469])\n",
        "gauss_weights = np.concatenate([gauss_weights, gauss_weights[-2::-1]])\n",
        "\n",
        "kronrod_nodes= np.array([0.991455371120813,0.949107912342759,0.864864423359769,0.741531185599394,\n",
        "                         0.586087235467691,0.405845151377397,0.207784955007898,0])\n",
        "kronrod_nodes = np.concatenate([-kronrod_nodes,kronrod_nodes[-2::-1]])\n",
        "kronrod_weights = np.array([0.022935322010529, 0.063092092629979, 0.104790010322250, 0.140653259715525,\n",
        "                            0.169004726639267, 0.190350578064785, 0.204432940075298, 0.209482141084728])\n",
        "kronrod_weights = np.concatenate([kronrod_weights, kronrod_weights[-2::-1]])\n"
      ],
      "metadata": {
        "id": "rgxDI2fK-PCG"
      },
      "execution_count": 26,
      "outputs": []
    },
    {
      "cell_type": "code",
      "source": [
        "def gauss_quad(f,a,b):\n",
        "    f_kronrod = f((b-a)/2*kronrod_nodes + (a+b)/2)\n",
        "    f_gauss = f_kronrod[1::2]\n",
        "    return (b-a)/2 *jnp.sum( f_kronrod * kronrod_weights), (b-a)/2 *jnp.sum( f_gauss * gauss_weights)"
      ],
      "metadata": {
        "id": "qsUC9qWc_IOc"
      },
      "execution_count": 35,
      "outputs": []
    },
    {
      "cell_type": "code",
      "source": [
        "gauss_quad(jnp.sin,1,9.)"
      ],
      "metadata": {
        "colab": {
          "base_uri": "https://localhost:8080/"
        },
        "id": "UHTln984_J5M",
        "outputId": "1a936731-a665-4d5c-d1d9-6b6883023bd2"
      },
      "execution_count": 36,
      "outputs": [
        {
          "output_type": "execute_result",
          "data": {
            "text/plain": [
              "(Array(1.451432567752805, dtype=float64),\n",
              " Array(1.451430863040542, dtype=float64))"
            ]
          },
          "metadata": {},
          "execution_count": 36
        }
      ]
    },
    {
      "cell_type": "code",
      "source": [
        "jnp.cos(9)-jnp.cos(1)"
      ],
      "metadata": {
        "colab": {
          "base_uri": "https://localhost:8080/"
        },
        "id": "ZxLWwvbh_kak",
        "outputId": "578f162c-b03c-4818-aa46-0cd907ad1b42"
      },
      "execution_count": 37,
      "outputs": [
        {
          "output_type": "execute_result",
          "data": {
            "text/plain": [
              "Array(-1.451432567752817, dtype=float64, weak_type=True)"
            ]
          },
          "metadata": {},
          "execution_count": 37
        }
      ]
    },
    {
      "cell_type": "code",
      "source": [
        "kronrod_nodes[1::2]"
      ],
      "metadata": {
        "colab": {
          "base_uri": "https://localhost:8080/"
        },
        "id": "s7oERZS4BNBI",
        "outputId": "2c4ce831-4e59-4355-be43-392993c32bd6"
      },
      "execution_count": 38,
      "outputs": [
        {
          "output_type": "execute_result",
          "data": {
            "text/plain": [
              "array([-0.949107912342759, -0.741531185599394, -0.405845151377397,\n",
              "       -0.               ,  0.405845151377397,  0.741531185599394,\n",
              "        0.949107912342759])"
            ]
          },
          "metadata": {},
          "execution_count": 38
        }
      ]
    },
    {
      "cell_type": "code",
      "source": [],
      "metadata": {
        "id": "RnpSIyRNCLwp"
      },
      "execution_count": null,
      "outputs": []
    }
  ]
}