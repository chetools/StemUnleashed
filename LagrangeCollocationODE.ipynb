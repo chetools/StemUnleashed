{
  "nbformat": 4,
  "nbformat_minor": 0,
  "metadata": {
    "colab": {
      "provenance": [],
      "authorship_tag": "ABX9TyNyyJw+HmXd7OXjWkLhyJVx",
      "include_colab_link": true
    },
    "kernelspec": {
      "name": "python3",
      "display_name": "Python 3"
    },
    "language_info": {
      "name": "python"
    }
  },
  "cells": [
    {
      "cell_type": "markdown",
      "metadata": {
        "id": "view-in-github",
        "colab_type": "text"
      },
      "source": [
        "<a href=\"https://colab.research.google.com/github/profteachkids/StemUnleashed/blob/main/LagrangeCollocationODE.ipynb\" target=\"_parent\"><img src=\"https://colab.research.google.com/assets/colab-badge.svg\" alt=\"Open In Colab\"/></a>"
      ]
    },
    {
      "cell_type": "code",
      "execution_count": 70,
      "metadata": {
        "id": "Zj_B9Q9E0kb9"
      },
      "outputs": [],
      "source": [
        "import jax.numpy as jnp\n",
        "import jax\n",
        "import numpy as np\n",
        "jax.config.update('jax_enable_x64',True)\n",
        "from plotly.subplots import make_subplots\n",
        "from scipy.special import roots_jacobi"
      ]
    },
    {
      "cell_type": "code",
      "source": [
        "N=7\n",
        "xs=np.r_[-1.,roots_jacobi(N-2,0,1)[0],1.]\n",
        "\n",
        "non_diag=np.logical_not(np.eye(N).astype(bool))\n",
        "xm = np.tile(xs, (N,1))[non_diag].reshape(N,-1)\n",
        "xj = np.tile(xs.reshape(N,1), N-1)\n",
        "xj_xm = 1/(xj-xm)\n",
        "\n",
        "\n",
        "def create_lagrange(h=2):\n",
        "\n",
        "    def lj(x):\n",
        "        m=(x-xm) * xj_xm\n",
        "        return jnp.prod(m,axis=1)\n",
        "\n",
        "    lj.grad=jax.jacobian(lj)\n",
        "    lj.gradvec = jax.vmap(lj.grad)\n",
        "\n",
        "    lj.grad2=jax.jacobian(lj.grad)\n",
        "    lj.grad2vec = jax.vmap(lj.grad2)\n",
        "\n",
        "    lj.yps = lj.gradvec(xs)\n",
        "    lj.yp2s = lj.grad2vec(xs)\n",
        "\n",
        "    def yp(ys):\n",
        "        return (lj.yps @ ys)*(2/h)\n",
        "    lj.yp=yp\n",
        "\n",
        "    def yp2(ys):\n",
        "        return (lj.yp2s @ ys)*(2/h)**2\n",
        "    lj.yp=yp\n",
        "    lj.yp2=yp2\n",
        "\n",
        "    return lj"
      ],
      "metadata": {
        "id": "VE0VTS_i0pDl"
      },
      "execution_count": 81,
      "outputs": []
    },
    {
      "cell_type": "code",
      "source": [
        "def x(a,b):\n",
        "    return (b-a)/2*xs + (a+b)/2\n",
        "\n",
        "ys = jnp.sin(x(0,0.2))"
      ],
      "metadata": {
        "id": "cmUjNP2p1lDM"
      },
      "execution_count": 82,
      "outputs": []
    },
    {
      "cell_type": "code",
      "source": [
        "jnp.cos(x(0,0.2))"
      ],
      "metadata": {
        "colab": {
          "base_uri": "https://localhost:8080/"
        },
        "id": "5SfY4jftQaQ_",
        "outputId": "7104521f-87a3-4494-eb93-b1af17af3111"
      },
      "execution_count": 83,
      "outputs": [
        {
          "output_type": "execute_result",
          "data": {
            "text/plain": [
              "Array([1.        , 0.99980582, 0.99814573, 0.9936892 , 0.98716391,\n",
              "       0.9816173 , 0.98006658], dtype=float64)"
            ]
          },
          "metadata": {},
          "execution_count": 83
        }
      ]
    },
    {
      "cell_type": "code",
      "source": [
        "lj=create_lagrange(h=0.2)\n",
        "lj.yp(ys)"
      ],
      "metadata": {
        "colab": {
          "base_uri": "https://localhost:8080/"
        },
        "id": "-isyTekz1pRc",
        "outputId": "0dfa26b0-c0cf-440f-d846-20c3723d65fe"
      },
      "execution_count": 84,
      "outputs": [
        {
          "output_type": "execute_result",
          "data": {
            "text/plain": [
              "Array([1.        , 0.99980582, 0.99814573, 0.9936892 , 0.98716391,\n",
              "       0.9816173 , 0.98006658], dtype=float64)"
            ]
          },
          "metadata": {},
          "execution_count": 84
        }
      ]
    },
    {
      "cell_type": "code",
      "source": [
        "lj.yp2(ys)"
      ],
      "metadata": {
        "colab": {
          "base_uri": "https://localhost:8080/"
        },
        "id": "2X9kW2GpOKAX",
        "outputId": "92d0fdef-5c9c-4082-d36f-7e13b321ba4a"
      },
      "execution_count": 85,
      "outputs": [
        {
          "output_type": "execute_result",
          "data": {
            "text/plain": [
              "Array([-3.03699288e-08, -1.97057412e-02, -6.08694950e-02, -1.12168483e-01,\n",
              "       -1.59710436e-01, -1.90859852e-01, -1.98669321e-01], dtype=float64)"
            ]
          },
          "metadata": {},
          "execution_count": 85
        }
      ]
    },
    {
      "cell_type": "code",
      "source": [
        "-jnp.sin(x(0,0.2))"
      ],
      "metadata": {
        "colab": {
          "base_uri": "https://localhost:8080/"
        },
        "id": "JclxvANfN7AB",
        "outputId": "e79d79b2-93db-4fb5-94c4-3122c92d1ab9"
      },
      "execution_count": 86,
      "outputs": [
        {
          "output_type": "execute_result",
          "data": {
            "text/plain": [
              "Array([-0.        , -0.01970574, -0.06086949, -0.11216848, -0.15971044,\n",
              "       -0.19085985, -0.19866933], dtype=float64)"
            ]
          },
          "metadata": {},
          "execution_count": 86
        }
      ]
    },
    {
      "cell_type": "code",
      "source": [],
      "metadata": {
        "id": "K-D_YtYpPeNZ"
      },
      "execution_count": 69,
      "outputs": []
    }
  ]
}