{
  "nbformat": 4,
  "nbformat_minor": 0,
  "metadata": {
    "colab": {
      "name": "ZoneSignal_DecisionTreeipynb",
      "provenance": [],
      "collapsed_sections": [],
      "authorship_tag": "ABX9TyPu1GnnMa/J3Vug0hEdzF/f",
      "include_colab_link": true
    },
    "kernelspec": {
      "name": "python3",
      "display_name": "Python 3"
    },
    "language_info": {
      "name": "python"
    }
  },
  "cells": [
    {
      "cell_type": "markdown",
      "metadata": {
        "id": "view-in-github",
        "colab_type": "text"
      },
      "source": [
        "<a href=\"https://colab.research.google.com/github/profteachkids/StemUnleashed/blob/main/ZoneSignal_DecisionTreeipynb.ipynb\" target=\"_parent\"><img src=\"https://colab.research.google.com/assets/colab-badge.svg\" alt=\"Open In Colab\"/></a>"
      ]
    },
    {
      "cell_type": "code",
      "source": [
        "!wget -q https://raw.githubusercontent.com/profteachkids/StemUnleashed/main/ZoneSignal.csv"
      ],
      "metadata": {
        "id": "0cxpq2ovANo2"
      },
      "execution_count": 1,
      "outputs": []
    },
    {
      "cell_type": "code",
      "execution_count": 2,
      "metadata": {
        "id": "Cn-H-wBYvOh-"
      },
      "outputs": [],
      "source": [
        "import numpy as np\n",
        "import pandas as pd"
      ]
    },
    {
      "cell_type": "code",
      "source": [
        "df=pd.read_csv('ZoneSignal.csv', index_col=0)"
      ],
      "metadata": {
        "id": "kzMsbW-782HZ"
      },
      "execution_count": 3,
      "outputs": []
    },
    {
      "cell_type": "code",
      "source": [
        "X=df.iloc[:,:-1].to_numpy()\n",
        "Y=df.iloc[:,-1].to_numpy()"
      ],
      "metadata": {
        "id": "GTfgd0GI-V8y"
      },
      "execution_count": 4,
      "outputs": []
    },
    {
      "cell_type": "code",
      "source": [
        "def splitGini(idxs, cols, X, Y, nCat):\n",
        "\n",
        "    N=idxs.size\n",
        "    bestGini=N\n",
        "    for col in cols:\n",
        "        sorted_idx = idxs[np.argsort(X[idxs,col])]\n",
        "        countsL=np.zeros((N,nCat))\n",
        "        countsL[range(N),Y[sorted_idx]]=1\n",
        "        countsL=np.cumsum(countsL,axis=0)\n",
        "        countsR=countsL[-1][None,:]-countsL\n",
        "\n",
        "        #do not split after last item\n",
        "        countsL=countsL[:-1]; countsR=countsR[:-1]\n",
        "        probL=countsL/np.arange(1,N)[:,None]\n",
        "        probR=countsR/(np.arange(N-1,0,-1)[:,None])\n",
        "\n",
        "        giniL = np.arange(1,N)*(1-np.sum(probL**2,axis=1))\n",
        "        giniR = np.arange(N-1,0,-1)*(1-np.sum(probR**2,axis=1))\n",
        "\n",
        "        gini = giniL+giniR\n",
        "        splitidx = np.argmin(gini)\n",
        "        if gini[splitidx] < bestGini:\n",
        "            bestGini= gini[splitidx]\n",
        "            bestIdx=splitidx\n",
        "            bestCol=col\n",
        "            thresh = (X[sorted_idx[bestIdx],col]+X[sorted_idx[bestIdx+1],col])/2\n",
        "            leftIdxs = sorted_idx[:bestIdx+1]\n",
        "            rightIdxs = sorted_idx[bestIdx+1:]        \n",
        "    return bestIdx, bestCol, thresh, leftIdxs, rightIdxs"
      ],
      "metadata": {
        "id": "FAJeycyWmOpp"
      },
      "execution_count": 5,
      "outputs": []
    },
    {
      "cell_type": "code",
      "source": [
        "def create_node(col, thresh, left_F=None, right_F=None):\n",
        "\n",
        "    def setL(left):\n",
        "        nonlocal left_F\n",
        "        left_F = left\n",
        "\n",
        "    def setR(right):\n",
        "        nonlocal right_F\n",
        "        right_F = right\n",
        "\n",
        "    def node(x):\n",
        "        if x[col]<thresh:\n",
        "            if callable(left_F): \n",
        "                return left_F(x)\n",
        "            else:\n",
        "                return left_F\n",
        "        else:\n",
        "            if callable(right_F): \n",
        "                return right_F(x)\n",
        "            else:\n",
        "                return right_F\n",
        "        \n",
        "    return node, setL, setR\n",
        "\n",
        "def createTree(stack, maxdepth, X, Y):\n",
        "\n",
        "    nCat = Y.max()+1\n",
        "    while stack:\n",
        "        level, idxs, set_parent = stack.pop()\n",
        "        vals, counts = np.unique(Y[idxs], return_counts=True)\n",
        "\n",
        "        if len(counts)==1:\n",
        "            set_parent(vals[0])\n",
        "            continue\n",
        "        if level==maxdepth:\n",
        "            set_parent(np.argmax(counts))\n",
        "            continue\n",
        "        bestIdx, bestCol, thresh, leftIdxs, rightIdxs = splitGini(idxs, np.arange(0,X.shape[1]), X, Y, nCat)\n",
        "        vals, counts = np.unique(Y[leftIdxs], return_counts=True)\n",
        "        node, setL, setR = create_node(bestCol, thresh)\n",
        "        stack.append((level+1, leftIdxs, setL))\n",
        "        stack.append((level+1, rightIdxs, setR))\n",
        "        if level == 0:\n",
        "            rootNode = node\n",
        "        else:\n",
        "            set_parent(node)\n",
        "\n",
        "\n",
        "    return rootNode"
      ],
      "metadata": {
        "id": "lLltgEWwzcGz"
      },
      "execution_count": 9,
      "outputs": []
    },
    {
      "cell_type": "code",
      "source": [
        "stack = [(0,np.arange(0,Y.size), None)]\n",
        "tree=createTree(stack, 6, X, Y)"
      ],
      "metadata": {
        "id": "G0971fW97W7V"
      },
      "execution_count": 12,
      "outputs": []
    },
    {
      "cell_type": "code",
      "source": [
        "correct = 0\n",
        "for x,y in zip(X,Y):\n",
        "    rank=tree(x)\n",
        "    if rank==y:\n",
        "        correct+=1\n",
        "\n",
        "print(f'fraction correct: {correct/Y.size}')"
      ],
      "metadata": {
        "id": "Lh_fXEMgZ5yG",
        "colab": {
          "base_uri": "https://localhost:8080/"
        },
        "outputId": "7516add0-c427-4ec7-991d-b1bb05c72950"
      },
      "execution_count": 13,
      "outputs": [
        {
          "output_type": "stream",
          "name": "stdout",
          "text": [
            "fraction correct: 0.940677966101695\n"
          ]
        }
      ]
    },
    {
      "cell_type": "code",
      "source": [
        ""
      ],
      "metadata": {
        "id": "IPw0MaRAb7IB"
      },
      "execution_count": 8,
      "outputs": []
    }
  ]
}