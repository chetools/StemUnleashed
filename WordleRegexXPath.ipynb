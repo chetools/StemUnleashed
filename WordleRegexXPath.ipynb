{
  "nbformat": 4,
  "nbformat_minor": 0,
  "metadata": {
    "colab": {
      "name": "WordleRegexXPath.ipynb",
      "provenance": [],
      "authorship_tag": "ABX9TyNSx0s61rWbpcEgekmu/CNn",
      "include_colab_link": true
    },
    "kernelspec": {
      "name": "python3",
      "display_name": "Python 3"
    },
    "language_info": {
      "name": "python"
    }
  },
  "cells": [
    {
      "cell_type": "markdown",
      "metadata": {
        "id": "view-in-github",
        "colab_type": "text"
      },
      "source": [
        "<a href=\"https://colab.research.google.com/github/profteachkids/StemUnleashed/blob/main/WordleRegexXPath.ipynb\" target=\"_parent\"><img src=\"https://colab.research.google.com/assets/colab-badge.svg\" alt=\"Open In Colab\"/></a>"
      ]
    },
    {
      "cell_type": "code",
      "execution_count": 1,
      "metadata": {
        "id": "v1LEW-kfkg06"
      },
      "outputs": [],
      "source": [
        "import requests\n",
        "from lxml import html\n",
        "import re\n",
        "import numpy as np\n"
      ]
    },
    {
      "cell_type": "code",
      "source": [
        "words=[]\n",
        "freqs=[]\n",
        "root=r'https://en.wiktionary.org/wiki/Wiktionary:Frequency_lists/PG/2006/04/'\n",
        "for start in range(0,40000,10000):\n",
        "    content=requests.get(root+f'{start+1}-{start+10000}').content\n",
        "    tree = html.fromstring(content)\n",
        "    for i in range(1,11):\n",
        "        rows=tree.xpath(rf'//table[{i}]//tr')\n",
        "        for row in rows[1:]:\n",
        "            words.append(''.join(row.xpath(r'td[2]//text()')))  #Some words like we're are contained in 2 a elements\n",
        "            freqs.extend(row.xpath(rf'td[3]/text()'))\n"
      ],
      "metadata": {
        "id": "MW_VBeGVkqdh"
      },
      "execution_count": 147,
      "outputs": []
    },
    {
      "cell_type": "code",
      "source": [
        "words[35000:]"
      ],
      "metadata": {
        "id": "6reW-6F0ON8I"
      },
      "execution_count": null,
      "outputs": []
    },
    {
      "cell_type": "code",
      "source": [
        "combined=[]\n",
        "freqpat = re.compile(r'\\d+')\n",
        "for word,freq in zip(words,freqs):\n",
        "    m=re.match(freqpat,freq)\n",
        "    if m:\n",
        "        combined.append(word+' '+m.group(0))\n",
        "words_freqs='\\n'.join(combined)"
      ],
      "metadata": {
        "id": "GyXfRw_oqW75"
      },
      "execution_count": 148,
      "outputs": []
    },
    {
      "cell_type": "code",
      "source": [
        "five_char_pat=re.compile(r'^\\w{5} \\d+$',re.MULTILINE)"
      ],
      "metadata": {
        "id": "cpRoPAnJwdWK"
      },
      "execution_count": 149,
      "outputs": []
    },
    {
      "cell_type": "code",
      "source": [
        "five_char=re.findall(five_char_pat,words_freqs)"
      ],
      "metadata": {
        "id": "bmldKrBdxKhR"
      },
      "execution_count": 150,
      "outputs": []
    },
    {
      "cell_type": "markdown",
      "source": [
        "![image](https://user-images.githubusercontent.com/69301642/175947573-74f55100-237a-4af1-aa1a-744ecb59e5f4.png)"
      ],
      "metadata": {
        "id": "6rEZnp7qQJMC"
      }
    },
    {
      "cell_type": "code",
      "source": [
        "pos1=[]\n",
        "pat=re.compile(r'(?=.*e+)(?=[^adiu]{5})(\\S{5}\\s\\d+)')\n",
        "for pos in five_char:\n",
        "    m=re.match(pat,pos)\n",
        "    if m:\n",
        "        pos1.append(pos)"
      ],
      "metadata": {
        "id": "u4K2svwB44ND"
      },
      "execution_count": 163,
      "outputs": []
    },
    {
      "cell_type": "code",
      "source": [
        "pos1[:25]"
      ],
      "metadata": {
        "colab": {
          "base_uri": "https://localhost:8080/"
        },
        "id": "I7YihpNt-fqe",
        "outputId": "eb24a4dc-64f9-4e63-851d-5cef1a62d65e"
      },
      "execution_count": 164,
      "outputs": [
        {
          "output_type": "execute_result",
          "data": {
            "text/plain": [
              "['there 1961200',\n",
              " 'other 1533530',\n",
              " 'these 1090510',\n",
              " 'never 899673',\n",
              " 'where 881975',\n",
              " 'those 878621',\n",
              " 'every 704444',\n",
              " 'three 502146',\n",
              " 'whole 435059',\n",
              " 'whose 344377',\n",
              " 'power 326243',\n",
              " 'money 315642',\n",
              " 'often 296798',\n",
              " 'women 239735',\n",
              " 'terms 196252',\n",
              " 'sense 192719',\n",
              " 'seems 192229',\n",
              " 'close 188915',\n",
              " 'force 175520',\n",
              " 'spoke 172990',\n",
              " 'comes 153299',\n",
              " 'below 146062',\n",
              " 'horse 144022',\n",
              " 'trees 126469',\n",
              " 'green 126431']"
            ]
          },
          "metadata": {},
          "execution_count": 164
        }
      ]
    },
    {
      "cell_type": "code",
      "source": [
        "pos2=[]\n",
        "exclude=re.compile(r'(?=.*t+)(?=[^h]{5})(\\S \\S \\S r \\S    \\s\\d+)',re.VERBOSE)\n",
        "for pos in pos1:\n",
        "    m=re.match(exclude,pos)\n",
        "    if m:\n",
        "        pos2.append(pos)"
      ],
      "metadata": {
        "id": "8neh7X_q69mw"
      },
      "execution_count": 165,
      "outputs": []
    },
    {
      "cell_type": "code",
      "source": [
        "pos2[:25]"
      ],
      "metadata": {
        "colab": {
          "base_uri": "https://localhost:8080/"
        },
        "id": "XWEt1QHS-ePc",
        "outputId": "eabb004c-1277-4725-9ce8-cbcfe3c3d385"
      },
      "execution_count": 166,
      "outputs": [
        {
          "output_type": "execute_result",
          "data": {
            "text/plain": [
              "['store 39566',\n",
              " 'stern 32284',\n",
              " 'entry 12775',\n",
              " 'exert 6672',\n",
              " 'metre 2881',\n",
              " 'overt 1058',\n",
              " 'retro 152',\n",
              " 'metro 35',\n",
              " 'evert 10',\n",
              " 'retry 10']"
            ]
          },
          "metadata": {},
          "execution_count": 166
        }
      ]
    },
    {
      "cell_type": "code",
      "source": [
        "pos3=[]\n",
        "exclude=re.compile(r'(?=.*o+)(?=[^s]{5})([^t] [^t] [^eo] r [^e]    \\s\\d+)',re.VERBOSE)\n",
        "for pos in pos2:\n",
        "    m=re.match(exclude,pos)\n",
        "    if m:\n",
        "        pos3.append(pos)"
      ],
      "metadata": {
        "id": "-5SyJxBH8M3P"
      },
      "execution_count": 167,
      "outputs": []
    },
    {
      "cell_type": "code",
      "source": [
        "pos3"
      ],
      "metadata": {
        "colab": {
          "base_uri": "https://localhost:8080/"
        },
        "id": "h6l5IhXm8h8n",
        "outputId": "b975e9e6-43ec-4f90-d96a-b65ba0c06a04"
      },
      "execution_count": 168,
      "outputs": [
        {
          "output_type": "execute_result",
          "data": {
            "text/plain": [
              "['retro 152', 'metro 35']"
            ]
          },
          "metadata": {},
          "execution_count": 168
        }
      ]
    }
  ]
}