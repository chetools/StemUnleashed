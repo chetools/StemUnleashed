{
  "nbformat": 4,
  "nbformat_minor": 0,
  "metadata": {
    "colab": {
      "name": "WordleRegexXPath.ipynb",
      "provenance": [],
      "authorship_tag": "ABX9TyNCbr2/nl4fT2Mhk7yB4DM0",
      "include_colab_link": true
    },
    "kernelspec": {
      "name": "python3",
      "display_name": "Python 3"
    },
    "language_info": {
      "name": "python"
    }
  },
  "cells": [
    {
      "cell_type": "markdown",
      "metadata": {
        "id": "view-in-github",
        "colab_type": "text"
      },
      "source": [
        "<a href=\"https://colab.research.google.com/github/profteachkids/StemUnleashed/blob/main/WordleRegexXPath.ipynb\" target=\"_parent\"><img src=\"https://colab.research.google.com/assets/colab-badge.svg\" alt=\"Open In Colab\"/></a>"
      ]
    },
    {
      "cell_type": "code",
      "execution_count": 2,
      "metadata": {
        "id": "v1LEW-kfkg06"
      },
      "outputs": [],
      "source": [
        "import requests\n",
        "from lxml import html\n",
        "import re\n",
        "import numpy as np"
      ]
    },
    {
      "cell_type": "code",
      "source": [
        "words=[]\n",
        "freqs=[]\n",
        "root=r'https://en.wiktionary.org/wiki/Wiktionary:Frequency_lists/PG/2006/04/'\n",
        "for start in range(0,40000,10000):\n",
        "    content=requests.get(root+f'{start+1}-{start+10000}').content\n",
        "    tree = html.fromstring(content)\n",
        "    for i in range(1,11):\n",
        "        rows=tree.xpath(rf'//table[{i}]//tr')\n",
        "        for row in rows[1:]:\n",
        "            words.append(''.join(row.xpath(r'td[2]//text()')))  #Some words like we're are contained in 2 a elements\n",
        "            freqs.extend(row.xpath(rf'td[3]/text()'))"
      ],
      "metadata": {
        "id": "MW_VBeGVkqdh"
      },
      "execution_count": 25,
      "outputs": []
    },
    {
      "cell_type": "code",
      "source": [
        "five_char=[]\n",
        "pat=re.compile(r'\\w{5} \\d+')\n",
        "for word,freq in zip(words,freqs):\n",
        "    comb=word+' '+freq[:-1]\n",
        "    m=re.match(pat,comb)\n",
        "    if m:\n",
        "        five_char.append(m.group(0))"
      ],
      "metadata": {
        "id": "8nhtas2lcFdt"
      },
      "execution_count": 38,
      "outputs": []
    },
    {
      "cell_type": "code",
      "source": [
        "pat=re.compile(r'(?=.*e+)(?=[^adiu]{5})(\\S{5}\\s\\d+)')\n",
        "pos1=re.findall(pat,'\\n'.join(five_char))\n",
        "pos1[:25]"
      ],
      "metadata": {
        "id": "u4K2svwB44ND",
        "colab": {
          "base_uri": "https://localhost:8080/"
        },
        "outputId": "263f20c5-f8f1-4d24-e260-0630cfd26103"
      },
      "execution_count": 39,
      "outputs": [
        {
          "output_type": "execute_result",
          "data": {
            "text/plain": [
              "['there 1961200',\n",
              " 'other 1533530',\n",
              " 'these 1090510',\n",
              " 'never 899673',\n",
              " 'where 881975',\n",
              " 'those 878621',\n",
              " 'every 704444',\n",
              " 'three 502146',\n",
              " 'whole 435059',\n",
              " 'whose 344377',\n",
              " 'power 326243',\n",
              " 'money 315642',\n",
              " 'often 296798',\n",
              " 'women 239735',\n",
              " 'terms 196252',\n",
              " 'sense 192719',\n",
              " 'seems 192229',\n",
              " 'close 188915',\n",
              " 'force 175520',\n",
              " 'spoke 172990',\n",
              " 'comes 153299',\n",
              " 'below 146062',\n",
              " 'horse 144022',\n",
              " 'trees 126469',\n",
              " 'green 126431']"
            ]
          },
          "metadata": {},
          "execution_count": 39
        }
      ]
    },
    {
      "cell_type": "code",
      "source": [
        "pat=re.compile(r'(?=.*t+)(?=[^h]{5})(\\S \\S \\S r \\S \\s \\d+)',re.VERBOSE)\n",
        "pos2=re.findall(pat,'\\n'.join(pos1))\n",
        "pos2[:25]"
      ],
      "metadata": {
        "id": "8neh7X_q69mw",
        "colab": {
          "base_uri": "https://localhost:8080/"
        },
        "outputId": "1a03b7b5-7ffe-4ff0-d314-cbb7351dc45a"
      },
      "execution_count": 40,
      "outputs": [
        {
          "output_type": "execute_result",
          "data": {
            "text/plain": [
              "['store 39566',\n",
              " 'stern 32284',\n",
              " 'entry 12775',\n",
              " 'exert 6672',\n",
              " 'metre 2881',\n",
              " 'overt 1058',\n",
              " 'retro 152',\n",
              " 'metro 35',\n",
              " 'evert 10',\n",
              " 'retry 10']"
            ]
          },
          "metadata": {},
          "execution_count": 40
        }
      ]
    },
    {
      "cell_type": "code",
      "source": [
        "pat=re.compile(r'(?=.*o+)(?=[^s]{5})([^t] [^t] [^eo] r [^e]    \\s\\d+)',re.VERBOSE)\n",
        "pos3=re.findall(pat,'\\n'.join(pos2))\n",
        "pos3[:25]"
      ],
      "metadata": {
        "id": "-5SyJxBH8M3P",
        "colab": {
          "base_uri": "https://localhost:8080/"
        },
        "outputId": "2fdeb9e6-378a-49ea-eb57-608354ee982b"
      },
      "execution_count": 41,
      "outputs": [
        {
          "output_type": "execute_result",
          "data": {
            "text/plain": [
              "['retro 152', 'metro 35']"
            ]
          },
          "metadata": {},
          "execution_count": 41
        }
      ]
    },
    {
      "cell_type": "markdown",
      "source": [
        "![image](https://user-images.githubusercontent.com/69301642/175947573-74f55100-237a-4af1-aa1a-744ecb59e5f4.png)"
      ],
      "metadata": {
        "id": "WahT98eAbkX0"
      }
    },
    {
      "cell_type": "code",
      "source": [
        ""
      ],
      "metadata": {
        "id": "6lLHMXOjbkzj"
      },
      "execution_count": null,
      "outputs": []
    }
  ]
}