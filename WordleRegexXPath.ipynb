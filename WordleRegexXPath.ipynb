{
  "nbformat": 4,
  "nbformat_minor": 0,
  "metadata": {
    "colab": {
      "name": "WordleRegexXPath.ipynb",
      "provenance": [],
      "authorship_tag": "ABX9TyM2/4g0/RGoQpys9yfhT9ok",
      "include_colab_link": true
    },
    "kernelspec": {
      "name": "python3",
      "display_name": "Python 3"
    },
    "language_info": {
      "name": "python"
    }
  },
  "cells": [
    {
      "cell_type": "markdown",
      "metadata": {
        "id": "view-in-github",
        "colab_type": "text"
      },
      "source": [
        "<a href=\"https://colab.research.google.com/github/profteachkids/StemUnleashed/blob/main/WordleRegexXPath.ipynb\" target=\"_parent\"><img src=\"https://colab.research.google.com/assets/colab-badge.svg\" alt=\"Open In Colab\"/></a>"
      ]
    },
    {
      "cell_type": "code",
      "execution_count": 2,
      "metadata": {
        "id": "v1LEW-kfkg06"
      },
      "outputs": [],
      "source": [
        "import requests\n",
        "from lxml import html\n",
        "import re\n",
        "import numpy as np"
      ]
    },
    {
      "cell_type": "code",
      "source": [
        "words=[]\n",
        "freqs=[]\n",
        "root=r'https://en.wiktionary.org/wiki/Wiktionary:Frequency_lists/PG/2006/04/'\n",
        "for start in range(0,40000,10000):\n",
        "    content=requests.get(root+f'{start+1}-{start+10000}').content\n",
        "    tree = html.fromstring(content)\n",
        "    for i in range(1,11):\n",
        "        rows=tree.xpath(rf'//table[{i}]//tr')\n",
        "        for row in rows[1:]:\n",
        "            words.append(''.join(row.xpath(r'td[2]//text()')))  #Some words like we're are contained in 2 a elements\n",
        "            freqs.extend(row.xpath(rf'td[3]/text()'))"
      ],
      "metadata": {
        "id": "MW_VBeGVkqdh"
      },
      "execution_count": 3,
      "outputs": []
    },
    {
      "cell_type": "code",
      "source": [
        "combined=[]\n",
        "freqpat = re.compile(r'\\d+')\n",
        "for word,freq in zip(words,freqs):\n",
        "    m=re.match(freqpat,freq)\n",
        "    if m:\n",
        "        combined.append(word+' '+m.group(0))\n",
        "words_freqs='\\n'.join(combined)\n",
        "five_char_pat=re.compile(r'^\\w{5} \\d+$',re.MULTILINE)\n",
        "five_char=re.findall(five_char_pat,words_freqs)"
      ],
      "metadata": {
        "id": "cpRoPAnJwdWK"
      },
      "execution_count": 16,
      "outputs": []
    },
    {
      "cell_type": "code",
      "source": [
        "\n",
        "pat=re.compile(r'(?=.*e+)(?=[^adiu]{5})(\\S{5}\\s\\d+)')\n",
        "pos1=re.findall(pat,'\\n'.join(five_char))\n",
        "pos1[:25]"
      ],
      "metadata": {
        "id": "u4K2svwB44ND"
      },
      "execution_count": null,
      "outputs": []
    },
    {
      "cell_type": "code",
      "source": [
        "pat=re.compile(r'(?=.*t+)(?=[^h]{5})(\\S \\S \\S r \\S \\s \\d+)',re.VERBOSE)\n",
        "pos2=re.findall(pat,'\\n'.join(pos1))\n",
        "pos2[:25]"
      ],
      "metadata": {
        "id": "8neh7X_q69mw"
      },
      "execution_count": null,
      "outputs": []
    },
    {
      "cell_type": "code",
      "source": [
        "pat=re.compile(r'(?=.*o+)(?=[^s]{5})([^t] [^t] [^eo] r [^e]    \\s\\d+)',re.VERBOSE)\n",
        "pos3=re.findall(pat,'\\n'.join(pos2))\n",
        "pos3[:25]"
      ],
      "metadata": {
        "id": "-5SyJxBH8M3P"
      },
      "execution_count": null,
      "outputs": []
    },
    {
      "cell_type": "markdown",
      "source": [
        "![image](https://user-images.githubusercontent.com/69301642/175947573-74f55100-237a-4af1-aa1a-744ecb59e5f4.png)"
      ],
      "metadata": {
        "id": "WahT98eAbkX0"
      }
    },
    {
      "cell_type": "code",
      "source": [
        ""
      ],
      "metadata": {
        "id": "6lLHMXOjbkzj"
      },
      "execution_count": null,
      "outputs": []
    }
  ]
}