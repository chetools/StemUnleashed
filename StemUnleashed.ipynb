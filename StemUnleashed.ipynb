{
  "nbformat": 4,
  "nbformat_minor": 0,
  "metadata": {
    "colab": {
      "name": "StemUnleashed",
      "provenance": [],
      "toc_visible": true,
      "authorship_tag": "ABX9TyPBoBiPAxinUgh46d99KC7n",
      "include_colab_link": true
    },
    "kernelspec": {
      "name": "python3",
      "display_name": "Python 3"
    },
    "language_info": {
      "name": "python"
    }
  },
  "cells": [
    {
      "cell_type": "markdown",
      "metadata": {
        "id": "view-in-github",
        "colab_type": "text"
      },
      "source": [
        "<a href=\"https://colab.research.google.com/github/profteachkids/StemUnleashed/blob/main/StemUnleashed.ipynb\" target=\"_parent\"><img src=\"https://colab.research.google.com/assets/colab-badge.svg\" alt=\"Open In Colab\"/></a>"
      ]
    },
    {
      "cell_type": "markdown",
      "source": [
        "# Stem Unleashed\n",
        "\n",
        "HS STEM is constrained to Ti84 calculators for many good reasons.  Unfortunately, this has the effect of disqualifying many interesting real world applications of math from the curriculum.  The purpose of this out-of-school summer educational program is to expose talented and highly motivated high school students to High Performance Computing (HPC) with Python to unleash the power and gamut of math they have and can learn.\n",
        "\n",
        "\n",
        "\n",
        "\n",
        "\n",
        "\n"
      ],
      "metadata": {
        "id": "RcmC3gcu9izk"
      }
    },
    {
      "cell_type": "markdown",
      "source": [
        "# Learning Framework\n",
        "With coding and computation to eliminate most constraints on complexity brought about by large systems of equations, non-linearities, and intractable integrals, we can connect the intuitive concepts of rates and accumulation to a broad gamut of chemistry and physics models of real processes.  \n",
        "\n",
        "The computational foundation centers around fluency in Python, Numpy broadcasting/vector/matrix operations, Pandas for data science, Plotly for visualization, and the following principal Numpy/Scipy routines.\n",
        "\n",
        "- numpy.random.default_rng\n",
        "- numpy.linalg.solve\n",
        "- scipy.optimize.root\n",
        "- scipy.optimize.minimize\n",
        "- scipy.integrate.solve_ivp"
      ],
      "metadata": {
        "id": "A24nT7eAINlI"
      }
    },
    {
      "cell_type": "markdown",
      "source": [
        "# Diploma or Certificate\n",
        "\n",
        "Will a student earn a diploma or certificate from this program?  Yes, but students make their diploma/certificate of accomplishment themselves by making a website and YouTube videos demonstrating their fluency in coding and explaining the concepts they have learned.  These would be all-in-one-go ~20 minute video recordings with no cuts nor referencing of notes.  For example: [charlie.works](https://charlie.works#portfolio)"
      ],
      "metadata": {
        "id": "8dX6mslPJold"
      }
    },
    {
      "cell_type": "markdown",
      "source": [
        "# Difficulty Level\n",
        "The estimated cognitive capacity and commitment to fully benefit from this program is equivalent roughly to that necessary to earn a score of 5 on the AP Calc BC.  But because there are no grades and therefore no fear of failure, dedicated students can go through this program multiple times, grasping the concepts and gaining ability in stages.  Learning does not have to be an all in one go sequential affair!\n",
        "\n",
        "Meetings times: 9-10 PM three times virtually on weekdays, and a 2hr in-person Saturday afternoon (8 weeks)"
      ],
      "metadata": {
        "id": "VOk_TAVbIS1L"
      }
    },
    {
      "cell_type": "markdown",
      "source": [
        "# Topics\n",
        "\n",
        "1.  Python intro and basics up to function currying and classes\n",
        "2.  Probabilistic simulations - central limit, Kelly criterion\n",
        "3.  Making professional charts and figures (Plotly)\n",
        "4.  Linear algebra (Numpy)\n",
        "5.  Data science basics (Pandas).\n",
        "6.  Linear regression - what makes it \"linear\" has absolutely nothing to do with straight lines.\n",
        "7.  Cluster analysis - We will implement the following algorithm from scratch: https://github.com/profteachkids/CHE5136_Fall2021/blob/main/Science-2014-Rodriguez-1492-6.pdf\n",
        "8.  STEM Topics in Calculus - Single and multivariate root finding/optimization, non-linear regression, Betz's Law for wind turbines \n",
        "9.  STEM Topics in differential equations - emphasis on applications and numerical solutions, tank drainage, proportional/integral control, Tsiolkovsky equation for rockets. \n"
      ],
      "metadata": {
        "id": "9nsufKByLkiB"
      }
    },
    {
      "cell_type": "markdown",
      "source": [
        "# Who are you?\n",
        "\n",
        "I am a tenured associate professor of Chemical Engineering at the University of Cincinnati since 2002: https://researchdirectory.uc.edu/p/cocc\n",
        "\n",
        "Unfortunate events including two laboratory explosions brought my research to a halt, and I have committed myself since to becoming the best educator in our undergraduate Chemical Engineering program (Teaching evaluations for [2020](https://github.com/profteachkids/StemUnleashed/blob/main/CoTeachingEval2020.PDF) and [2021](https://github.com/profteachkids/StemUnleashed/blob/main/CoTeachingEval2021.PDF).  With my own son, I've found that much of what I teach in college engineering can be explained in an intuitive way with computation to high school students. "
      ],
      "metadata": {
        "id": "HuIsoppJMadR"
      }
    },
    {
      "cell_type": "markdown",
      "source": [
        "# Contact\n",
        "\n",
        "carloscomail@gmail.com"
      ],
      "metadata": {
        "id": "JzrRlnU1PirZ"
      }
    }
  ]
}