{
  "nbformat": 4,
  "nbformat_minor": 0,
  "metadata": {
    "colab": {
      "name": "HW1.ipynb",
      "provenance": [],
      "authorship_tag": "ABX9TyMunrzPvxk2PcXdmI6AbO50",
      "include_colab_link": true
    },
    "kernelspec": {
      "name": "python3",
      "display_name": "Python 3"
    },
    "language_info": {
      "name": "python"
    }
  },
  "cells": [
    {
      "cell_type": "markdown",
      "metadata": {
        "id": "view-in-github",
        "colab_type": "text"
      },
      "source": [
        "<a href=\"https://colab.research.google.com/github/profteachkids/StemUnleashed/blob/main/HW1.ipynb\" target=\"_parent\"><img src=\"https://colab.research.google.com/assets/colab-badge.svg\" alt=\"Open In Colab\"/></a>"
      ]
    },
    {
      "cell_type": "markdown",
      "source": [
        "Work on the W3School Python tutorial https://www.w3schools.com/python/python_intro.asp starting from Python Intro to Python Arrays (1.5 hours)\n",
        "\n",
        "Examine/research (aka Google) to understand the following snippets of code and prepare to explain in class (1 hr)."
      ],
      "metadata": {
        "id": "hC0W6pm9C6HK"
      }
    },
    {
      "cell_type": "code",
      "execution_count": 63,
      "metadata": {
        "id": "r55-Ca8L5-lX"
      },
      "outputs": [],
      "source": [
        "#Notice 13, not 12?\n",
        "list1 = list(range(-6,13,2))"
      ]
    },
    {
      "cell_type": "code",
      "source": [
        "list1"
      ],
      "metadata": {
        "colab": {
          "base_uri": "https://localhost:8080/"
        },
        "id": "b_Cjeyc56MVw",
        "outputId": "f8efbf65-1dc2-420b-9fbe-8f4593fe878b"
      },
      "execution_count": 64,
      "outputs": [
        {
          "output_type": "execute_result",
          "data": {
            "text/plain": [
              "[-6, -4, -2, 0, 2, 4, 6, 8, 10, 12]"
            ]
          },
          "metadata": {},
          "execution_count": 64
        }
      ]
    },
    {
      "cell_type": "code",
      "source": [
        "#Notice -4, not -3\n",
        "list2 = list(range(30,-4,-3))"
      ],
      "metadata": {
        "id": "fxY5IfD46M62"
      },
      "execution_count": 65,
      "outputs": []
    },
    {
      "cell_type": "code",
      "source": [
        "list2"
      ],
      "metadata": {
        "colab": {
          "base_uri": "https://localhost:8080/"
        },
        "id": "0_wE-goP6gaN",
        "outputId": "96cfaad9-9113-464a-bb8c-6ae41c66867d"
      },
      "execution_count": 66,
      "outputs": [
        {
          "output_type": "execute_result",
          "data": {
            "text/plain": [
              "[30, 27, 24, 21, 18, 15, 12, 9, 6, 3, 0, -3]"
            ]
          },
          "metadata": {},
          "execution_count": 66
        }
      ]
    },
    {
      "cell_type": "code",
      "source": [
        "keys='abcdefghijklmn'"
      ],
      "metadata": {
        "id": "XKrPsFKZ6g-k"
      },
      "execution_count": 88,
      "outputs": []
    },
    {
      "cell_type": "code",
      "source": [
        "key_reversed = keys[::-1]"
      ],
      "metadata": {
        "id": "NVoD35ko_1j5"
      },
      "execution_count": 89,
      "outputs": []
    },
    {
      "cell_type": "code",
      "source": [
        "#Google/research the following Python functions/concepts:\n",
        "#dictionary comprehension\n",
        "#str\n",
        "#zip\n",
        "\n",
        "{k:str(v)+kr for k,v,kr in zip(keys,range(len(keys)),key_reversed)}"
      ],
      "metadata": {
        "colab": {
          "base_uri": "https://localhost:8080/"
        },
        "id": "Bb8VwLPH6sbE",
        "outputId": "68a2a119-5819-4395-ce18-756ea6c6013b"
      },
      "execution_count": 90,
      "outputs": [
        {
          "output_type": "execute_result",
          "data": {
            "text/plain": [
              "{'a': '0n',\n",
              " 'b': '1m',\n",
              " 'c': '2l',\n",
              " 'd': '3k',\n",
              " 'e': '4j',\n",
              " 'f': '5i',\n",
              " 'g': '6h',\n",
              " 'h': '7g',\n",
              " 'i': '8f',\n",
              " 'j': '9e',\n",
              " 'k': '10d',\n",
              " 'l': '11c',\n",
              " 'm': '12b',\n",
              " 'n': '13a'}"
            ]
          },
          "metadata": {},
          "execution_count": 90
        }
      ]
    },
    {
      "cell_type": "code",
      "source": [
        "def f(a,b,c):\n",
        "    return (a+b)*c\n",
        "\n",
        "def g(**args):\n",
        "    return args\n",
        "\n",
        "mytuple=(1,2,3)\n",
        "mylist=[1,2,3]\n",
        "mydict={'a':1, 'b':2, 'c':3}\n",
        "\n",
        "print(f(*mytuple))\n",
        "print(f(*mylist))\n",
        "print(f(**mydict))\n",
        "print(g(**mydict))"
      ],
      "metadata": {
        "colab": {
          "base_uri": "https://localhost:8080/"
        },
        "id": "Cm1VzEAxAYyz",
        "outputId": "c85bc56e-06bc-4baa-b196-fa83612da00e"
      },
      "execution_count": 84,
      "outputs": [
        {
          "output_type": "stream",
          "name": "stdout",
          "text": [
            "9\n",
            "9\n",
            "9\n",
            "{'a': 1, 'b': 2, 'c': 3}\n"
          ]
        }
      ]
    },
    {
      "cell_type": "code",
      "source": [
        "#nested list comprehension\n",
        "nested_list = [[i for i in range(j,j+5,2)] for j in range(1,5) ]\n",
        "nested_list"
      ],
      "metadata": {
        "colab": {
          "base_uri": "https://localhost:8080/"
        },
        "id": "JfyXkgV06xuz",
        "outputId": "239cb2b5-70cc-46c6-be82-f5a8238afb34"
      },
      "execution_count": 85,
      "outputs": [
        {
          "output_type": "execute_result",
          "data": {
            "text/plain": [
              "[[1, 3, 5], [2, 4, 6], [3, 5, 7], [4, 6, 8]]"
            ]
          },
          "metadata": {},
          "execution_count": 85
        }
      ]
    },
    {
      "cell_type": "code",
      "source": [
        "#Swap rows and columns (aka, transpose).\n",
        "[list(i) for i in zip(*nested_list)]"
      ],
      "metadata": {
        "colab": {
          "base_uri": "https://localhost:8080/"
        },
        "id": "BlnhPw6b7xoS",
        "outputId": "9e56b69a-4e09-4b57-dbf2-f93814e9d7cc"
      },
      "execution_count": 115,
      "outputs": [
        {
          "output_type": "execute_result",
          "data": {
            "text/plain": [
              "[[1, 2, 3, 4], [3, 4, 5, 6], [5, 6, 7, 8]]"
            ]
          },
          "metadata": {},
          "execution_count": 115
        }
      ]
    },
    {
      "cell_type": "code",
      "source": [
        "#List and dictionary of functions\n",
        "def f1(x):\n",
        "    return 2*x\n",
        "\n",
        "f2=lambda x: 3*x\n",
        "f3 = lambda z: 5*z\n",
        "\n",
        "f_list = [f1, f2, f3]\n",
        "f_dict = dict(frst=f1, scnd=f2, tird=f3)\n",
        "\n",
        "for i,f in enumerate(fs):\n",
        "    print('Eq:', i, '=>', f(4))\n",
        "\n",
        "for k,v in f_dict.items():\n",
        "    print(k, 'key evaluates 4 to:', v(4))"
      ],
      "metadata": {
        "colab": {
          "base_uri": "https://localhost:8080/"
        },
        "id": "Z6HIW8gC84r7",
        "outputId": "7e653a45-be6c-46ba-9c54-e0d00e4cf906"
      },
      "execution_count": 100,
      "outputs": [
        {
          "output_type": "stream",
          "name": "stdout",
          "text": [
            "Eq: 0 => 8\n",
            "Eq: 1 => 12\n",
            "Eq: 2 => 20\n",
            "frst key evaluates 4 to: 8\n",
            "scnd key evaluates 4 to: 12\n",
            "tird key evaluates 4 to: 20\n"
          ]
        }
      ]
    },
    {
      "cell_type": "code",
      "source": [
        ""
      ],
      "metadata": {
        "id": "4vza0cqvCeAW"
      },
      "execution_count": null,
      "outputs": []
    }
  ]
}