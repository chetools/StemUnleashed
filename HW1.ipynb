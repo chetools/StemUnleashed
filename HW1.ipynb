{
  "nbformat": 4,
  "nbformat_minor": 0,
  "metadata": {
    "colab": {
      "name": "HW1.ipynb",
      "provenance": [],
      "authorship_tag": "ABX9TyOthGnuFuzr03OFfMuu+6lO",
      "include_colab_link": true
    },
    "kernelspec": {
      "name": "python3",
      "display_name": "Python 3"
    },
    "language_info": {
      "name": "python"
    }
  },
  "cells": [
    {
      "cell_type": "markdown",
      "metadata": {
        "id": "view-in-github",
        "colab_type": "text"
      },
      "source": [
        "<a href=\"https://colab.research.google.com/github/profteachkids/StemUnleashed/blob/main/HW1.ipynb\" target=\"_parent\"><img src=\"https://colab.research.google.com/assets/colab-badge.svg\" alt=\"Open In Colab\"/></a>"
      ]
    },
    {
      "cell_type": "markdown",
      "source": [
        "Work on the W3School Python tutorial https://www.w3schools.com/python/python_intro.asp starting from Python Intro to Python Arrays (1.5 hours)\n",
        "\n",
        "Examine/research to understand the following snippets of code and prepare to explain in class (1.5 hr)."
      ],
      "metadata": {
        "id": "hC0W6pm9C6HK"
      }
    },
    {
      "cell_type": "code",
      "execution_count": 1,
      "metadata": {
        "colab": {
          "base_uri": "https://localhost:8080/"
        },
        "id": "r55-Ca8L5-lX",
        "outputId": "cb08bf68-3a99-4c03-8839-cabae303985f"
      },
      "outputs": [
        {
          "output_type": "execute_result",
          "data": {
            "text/plain": [
              "[-6, -4, -2, 0, 2, 4, 6, 8, 10, 12]"
            ]
          },
          "metadata": {},
          "execution_count": 1
        }
      ],
      "source": [
        "#Notice 13, not 12?\n",
        "list1 = list(range(-6,13,2))\n",
        "list1"
      ]
    },
    {
      "cell_type": "code",
      "source": [
        "#Notice -4, not -3\n",
        "list2 = list(range(30,-4,-3))\n",
        "list2"
      ],
      "metadata": {
        "colab": {
          "base_uri": "https://localhost:8080/"
        },
        "id": "fxY5IfD46M62",
        "outputId": "161d7b1c-f164-4ab6-fb59-298eed1ddf43"
      },
      "execution_count": 2,
      "outputs": [
        {
          "output_type": "execute_result",
          "data": {
            "text/plain": [
              "[30, 27, 24, 21, 18, 15, 12, 9, 6, 3, 0, -3]"
            ]
          },
          "metadata": {},
          "execution_count": 2
        }
      ]
    },
    {
      "cell_type": "code",
      "source": [
        "#Google the following Python functions/concepts:\n",
        "#dictionary comprehension\n",
        "#str\n",
        "#zip\n",
        "keys='abcdefghijklmn'\n",
        "key_reversed = keys[::-1]\n",
        "{k:str(v)+kr for k,v,kr in zip(keys,range(len(keys)),key_reversed)}"
      ],
      "metadata": {
        "colab": {
          "base_uri": "https://localhost:8080/"
        },
        "id": "Bb8VwLPH6sbE",
        "outputId": "80012239-77d2-40de-9d63-eb92dcd64624"
      },
      "execution_count": 3,
      "outputs": [
        {
          "output_type": "execute_result",
          "data": {
            "text/plain": [
              "{'a': '0n',\n",
              " 'b': '1m',\n",
              " 'c': '2l',\n",
              " 'd': '3k',\n",
              " 'e': '4j',\n",
              " 'f': '5i',\n",
              " 'g': '6h',\n",
              " 'h': '7g',\n",
              " 'i': '8f',\n",
              " 'j': '9e',\n",
              " 'k': '10d',\n",
              " 'l': '11c',\n",
              " 'm': '12b',\n",
              " 'n': '13a'}"
            ]
          },
          "metadata": {},
          "execution_count": 3
        }
      ]
    },
    {
      "cell_type": "code",
      "source": [
        "# Resource: https://www.geeksforgeeks.org/args-kwargs-python/\n",
        "\n",
        "def f(a,b,*c):\n",
        "    return [a,2*b,3*c[0],4*c[1]]\n",
        "\n",
        "def g(**kw):\n",
        "    return [kw['c'], kw['b'], kw['a']]\n",
        "\n",
        "#what happens if *kw is eliminated?\n",
        "def h(c,b, **kw):\n",
        "    return b+c\n",
        "\n",
        "mytuple=(1,2,3,4)\n",
        "mylist=[5,6,7,8]\n",
        "mydict={'a':1, 'b':2, 'c':3}\n",
        "\n",
        "print(f(*mytuple))\n",
        "print(f(*mylist))\n",
        "print(g(**mydict))\n",
        "print(h(**mydict))"
      ],
      "metadata": {
        "colab": {
          "base_uri": "https://localhost:8080/"
        },
        "id": "Cm1VzEAxAYyz",
        "outputId": "26a2a9f8-d581-4d2f-a903-19db7ba267e3"
      },
      "execution_count": 4,
      "outputs": [
        {
          "output_type": "stream",
          "name": "stdout",
          "text": [
            "[1, 4, 9, 16]\n",
            "[5, 12, 21, 32]\n",
            "[3, 2, 1]\n",
            "5\n"
          ]
        }
      ]
    },
    {
      "cell_type": "code",
      "source": [
        "#nested list comprehension\n",
        "nested_list = [[i for i in range(j,j+5,2)] for j in range(1,5) ]\n",
        "nested_list"
      ],
      "metadata": {
        "colab": {
          "base_uri": "https://localhost:8080/"
        },
        "id": "JfyXkgV06xuz",
        "outputId": "79d80ff4-5324-4f22-a2e1-d5282da8ddba"
      },
      "execution_count": 5,
      "outputs": [
        {
          "output_type": "execute_result",
          "data": {
            "text/plain": [
              "[[1, 3, 5], [2, 4, 6], [3, 5, 7], [4, 6, 8]]"
            ]
          },
          "metadata": {},
          "execution_count": 5
        }
      ]
    },
    {
      "cell_type": "code",
      "source": [
        "#Swap rows and columns (aka, transpose).\n",
        "[list(i) for i in zip(*nested_list)]"
      ],
      "metadata": {
        "colab": {
          "base_uri": "https://localhost:8080/"
        },
        "id": "BlnhPw6b7xoS",
        "outputId": "a66fbdbd-c6d6-44ba-e082-7c175861291d"
      },
      "execution_count": 6,
      "outputs": [
        {
          "output_type": "execute_result",
          "data": {
            "text/plain": [
              "[[1, 2, 3, 4], [3, 4, 5, 6], [5, 6, 7, 8]]"
            ]
          },
          "metadata": {},
          "execution_count": 6
        }
      ]
    },
    {
      "cell_type": "code",
      "source": [
        "#List and dictionary of functions\n",
        "def f1(x):\n",
        "    return 2*x\n",
        "\n",
        "f2=lambda x: 3*x\n",
        "f3 = lambda z: 5*z\n",
        "\n",
        "f_list = [f1, f2, f3]\n",
        "f_dict = dict(frst=f1, scnd=f2, tird=f3)\n",
        "\n",
        "for i,f in enumerate(fs):\n",
        "    print('Eq:', i, '=>', f(4))\n",
        "\n",
        "for k,v in f_dict.items():\n",
        "    print(k, 'key evaluates 4 to:', v(4))"
      ],
      "metadata": {
        "colab": {
          "base_uri": "https://localhost:8080/",
          "height": 235
        },
        "id": "Z6HIW8gC84r7",
        "outputId": "28b1c8f9-3763-4c7a-97e8-a3ba70132795"
      },
      "execution_count": 7,
      "outputs": [
        {
          "output_type": "error",
          "ename": "NameError",
          "evalue": "ignored",
          "traceback": [
            "\u001b[0;31m---------------------------------------------------------------------------\u001b[0m",
            "\u001b[0;31mNameError\u001b[0m                                 Traceback (most recent call last)",
            "\u001b[0;32m<ipython-input-7-8c985bf6bfcf>\u001b[0m in \u001b[0;36m<module>\u001b[0;34m()\u001b[0m\n\u001b[1;32m      9\u001b[0m \u001b[0mf_dict\u001b[0m \u001b[0;34m=\u001b[0m \u001b[0mdict\u001b[0m\u001b[0;34m(\u001b[0m\u001b[0mfrst\u001b[0m\u001b[0;34m=\u001b[0m\u001b[0mf1\u001b[0m\u001b[0;34m,\u001b[0m \u001b[0mscnd\u001b[0m\u001b[0;34m=\u001b[0m\u001b[0mf2\u001b[0m\u001b[0;34m,\u001b[0m \u001b[0mtird\u001b[0m\u001b[0;34m=\u001b[0m\u001b[0mf3\u001b[0m\u001b[0;34m)\u001b[0m\u001b[0;34m\u001b[0m\u001b[0;34m\u001b[0m\u001b[0m\n\u001b[1;32m     10\u001b[0m \u001b[0;34m\u001b[0m\u001b[0m\n\u001b[0;32m---> 11\u001b[0;31m \u001b[0;32mfor\u001b[0m \u001b[0mi\u001b[0m\u001b[0;34m,\u001b[0m\u001b[0mf\u001b[0m \u001b[0;32min\u001b[0m \u001b[0menumerate\u001b[0m\u001b[0;34m(\u001b[0m\u001b[0mfs\u001b[0m\u001b[0;34m)\u001b[0m\u001b[0;34m:\u001b[0m\u001b[0;34m\u001b[0m\u001b[0;34m\u001b[0m\u001b[0m\n\u001b[0m\u001b[1;32m     12\u001b[0m     \u001b[0mprint\u001b[0m\u001b[0;34m(\u001b[0m\u001b[0;34m'Eq:'\u001b[0m\u001b[0;34m,\u001b[0m \u001b[0mi\u001b[0m\u001b[0;34m,\u001b[0m \u001b[0;34m'=>'\u001b[0m\u001b[0;34m,\u001b[0m \u001b[0mf\u001b[0m\u001b[0;34m(\u001b[0m\u001b[0;36m4\u001b[0m\u001b[0;34m)\u001b[0m\u001b[0;34m)\u001b[0m\u001b[0;34m\u001b[0m\u001b[0;34m\u001b[0m\u001b[0m\n\u001b[1;32m     13\u001b[0m \u001b[0;34m\u001b[0m\u001b[0m\n",
            "\u001b[0;31mNameError\u001b[0m: name 'fs' is not defined"
          ]
        }
      ]
    },
    {
      "cell_type": "code",
      "source": [
        ""
      ],
      "metadata": {
        "id": "4vza0cqvCeAW"
      },
      "execution_count": null,
      "outputs": []
    }
  ]
}