{
  "nbformat": 4,
  "nbformat_minor": 0,
  "metadata": {
    "colab": {
      "name": "HW1.ipynb",
      "provenance": [],
      "authorship_tag": "ABX9TyMmqN+113s7JsJQzjnDLX5/",
      "include_colab_link": true
    },
    "kernelspec": {
      "name": "python3",
      "display_name": "Python 3"
    },
    "language_info": {
      "name": "python"
    }
  },
  "cells": [
    {
      "cell_type": "markdown",
      "metadata": {
        "id": "view-in-github",
        "colab_type": "text"
      },
      "source": [
        "<a href=\"https://colab.research.google.com/github/profteachkids/StemUnleashed/blob/main/HW1.ipynb\" target=\"_parent\"><img src=\"https://colab.research.google.com/assets/colab-badge.svg\" alt=\"Open In Colab\"/></a>"
      ]
    },
    {
      "cell_type": "markdown",
      "source": [
        "Work on the W3School Python tutorial https://www.w3schools.com/python/python_intro.asp starting from Python Intro to Python Arrays (1.5 hours)\n",
        "\n",
        "Examine/research to understand the following snippets of code and prepare to explain in class (1.5 hr)."
      ],
      "metadata": {
        "id": "hC0W6pm9C6HK"
      }
    },
    {
      "cell_type": "code",
      "execution_count": null,
      "metadata": {
        "colab": {
          "base_uri": "https://localhost:8080/"
        },
        "id": "r55-Ca8L5-lX",
        "outputId": "6a696a6f-442b-489d-f3b1-a90c617998e0"
      },
      "outputs": [
        {
          "output_type": "execute_result",
          "data": {
            "text/plain": [
              "[-6, -4, -2, 0, 2, 4, 6, 8, 10, 12]"
            ]
          },
          "metadata": {},
          "execution_count": 1
        }
      ],
      "source": [
        "#Notice 13, not 12?\n",
        "list1 = list(range(-6,13,2))\n",
        "list1"
      ]
    },
    {
      "cell_type": "code",
      "source": [
        "#Notice -4, not -3\n",
        "list2 = list(range(30,-4,-3))\n",
        "list2"
      ],
      "metadata": {
        "colab": {
          "base_uri": "https://localhost:8080/"
        },
        "id": "fxY5IfD46M62",
        "outputId": "96086257-7c97-4317-bd9d-3cfa68ce059b"
      },
      "execution_count": null,
      "outputs": [
        {
          "output_type": "execute_result",
          "data": {
            "text/plain": [
              "[30, 27, 24, 21, 18, 15, 12, 9, 6, 3, 0, -3]"
            ]
          },
          "metadata": {},
          "execution_count": 2
        }
      ]
    },
    {
      "cell_type": "code",
      "source": [
        "#Google the following Python functions/concepts:\n",
        "#dictionary comprehension\n",
        "#str\n",
        "#zip\n",
        "keys='abcdefghijklmn'\n",
        "key_reversed = keys[::-1]\n",
        "{k:str(v)+kr for k,v,kr in zip(keys,range(len(keys)),key_reversed)}"
      ],
      "metadata": {
        "colab": {
          "base_uri": "https://localhost:8080/"
        },
        "id": "Bb8VwLPH6sbE",
        "outputId": "69951772-8997-4bb6-e974-7f231e16abf7"
      },
      "execution_count": null,
      "outputs": [
        {
          "output_type": "execute_result",
          "data": {
            "text/plain": [
              "{'a': '0n',\n",
              " 'b': '1m',\n",
              " 'c': '2l',\n",
              " 'd': '3k',\n",
              " 'e': '4j',\n",
              " 'f': '5i',\n",
              " 'g': '6h',\n",
              " 'h': '7g',\n",
              " 'i': '8f',\n",
              " 'j': '9e',\n",
              " 'k': '10d',\n",
              " 'l': '11c',\n",
              " 'm': '12b',\n",
              " 'n': '13a'}"
            ]
          },
          "metadata": {},
          "execution_count": 3
        }
      ]
    },
    {
      "cell_type": "code",
      "source": [
        "# Resource: https://www.geeksforgeeks.org/args-kwargs-python/\n",
        "\n",
        "def f(a,b,*c):\n",
        "    return [a,2*b,3*c[0],4*c[1]]\n",
        "\n",
        "def g(**kw):\n",
        "    return [kw['c'], kw['b'], kw['a']]\n",
        "\n",
        "#what happens if **kw is eliminated?\n",
        "def h(c,b, **kw):\n",
        "    return b+c\n",
        "\n",
        "mytuple=(1,2,3,4)\n",
        "mylist=[5,6,7,8]\n",
        "mydict={'a':1, 'b':2, 'c':3}\n",
        "\n",
        "print(f(*mytuple))\n",
        "print(f(*mylist))\n",
        "print(g(**mydict))\n",
        "print(h(**mydict))"
      ],
      "metadata": {
        "colab": {
          "base_uri": "https://localhost:8080/"
        },
        "id": "Cm1VzEAxAYyz",
        "outputId": "7a38bee6-b4e6-4bfb-e8bd-97560fd53357"
      },
      "execution_count": null,
      "outputs": [
        {
          "output_type": "stream",
          "name": "stdout",
          "text": [
            "[1, 4, 9, 16]\n",
            "[5, 12, 21, 32]\n",
            "[3, 2, 1]\n",
            "5\n"
          ]
        }
      ]
    },
    {
      "cell_type": "code",
      "source": [
        "#nested list comprehension\n",
        "nested_list = [[i for i in range(j,j+5,2)] for j in range(1,5) ]\n",
        "nested_list"
      ],
      "metadata": {
        "colab": {
          "base_uri": "https://localhost:8080/"
        },
        "id": "JfyXkgV06xuz",
        "outputId": "12282745-71cb-445e-efef-577a571aed3b"
      },
      "execution_count": null,
      "outputs": [
        {
          "output_type": "execute_result",
          "data": {
            "text/plain": [
              "[[1, 3, 5], [2, 4, 6], [3, 5, 7], [4, 6, 8]]"
            ]
          },
          "metadata": {},
          "execution_count": 5
        }
      ]
    },
    {
      "cell_type": "code",
      "source": [
        "#Swap rows and columns (aka, transpose).\n",
        "[list(i) for i in zip(*nested_list)]"
      ],
      "metadata": {
        "colab": {
          "base_uri": "https://localhost:8080/"
        },
        "id": "BlnhPw6b7xoS",
        "outputId": "89dd7039-f5f9-492c-e1f8-5ee36fac6379"
      },
      "execution_count": null,
      "outputs": [
        {
          "output_type": "execute_result",
          "data": {
            "text/plain": [
              "[[1, 2, 3, 4], [3, 4, 5, 6], [5, 6, 7, 8]]"
            ]
          },
          "metadata": {},
          "execution_count": 6
        }
      ]
    },
    {
      "cell_type": "code",
      "source": [
        "#List and dictionary of functions\n",
        "def f1(x):\n",
        "    return 2*x\n",
        "\n",
        "f2=lambda x: 3*x\n",
        "f3 = lambda z: 5*z\n",
        "\n",
        "f_list = [f1, f2, f3]\n",
        "f_dict = dict(frst=f1, scnd=f2, tird=f3)\n",
        "\n",
        "for i,f in enumerate(f_list):\n",
        "    print('Eq:', i, '=>', f(4))\n",
        "\n",
        "for k,v in f_dict.items():\n",
        "    print(k, 'key evaluates 4 to:', v(4))"
      ],
      "metadata": {
        "colab": {
          "base_uri": "https://localhost:8080/"
        },
        "id": "Z6HIW8gC84r7",
        "outputId": "6b4899a3-7dcf-4142-8521-f3eef916105f"
      },
      "execution_count": null,
      "outputs": [
        {
          "output_type": "stream",
          "name": "stdout",
          "text": [
            "Eq: 0 => 8\n",
            "Eq: 1 => 12\n",
            "Eq: 2 => 20\n",
            "frst key evaluates 4 to: 8\n",
            "scnd key evaluates 4 to: 12\n",
            "tird key evaluates 4 to: 20\n"
          ]
        }
      ]
    },
    {
      "cell_type": "code",
      "source": [
        ""
      ],
      "metadata": {
        "id": "4vza0cqvCeAW"
      },
      "execution_count": null,
      "outputs": []
    }
  ]
}