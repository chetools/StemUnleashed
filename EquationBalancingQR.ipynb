{
  "nbformat": 4,
  "nbformat_minor": 0,
  "metadata": {
    "colab": {
      "provenance": [],
      "authorship_tag": "ABX9TyOcli7O9qT/vgY6oeh03avo",
      "include_colab_link": true
    },
    "kernelspec": {
      "name": "python3",
      "display_name": "Python 3"
    },
    "language_info": {
      "name": "python"
    }
  },
  "cells": [
    {
      "cell_type": "markdown",
      "metadata": {
        "id": "view-in-github",
        "colab_type": "text"
      },
      "source": [
        "<a href=\"https://colab.research.google.com/github/chetools/StemUnleashed/blob/main/EquationBalancingQR.ipynb\" target=\"_parent\"><img src=\"https://colab.research.google.com/assets/colab-badge.svg\" alt=\"Open In Colab\"/></a>"
      ]
    },
    {
      "cell_type": "code",
      "execution_count": 1,
      "metadata": {
        "id": "H_qbp22OHV7-"
      },
      "outputs": [],
      "source": [
        "import re\n",
        "from collections import Counter\n",
        "import numpy as np\n",
        "import pandas as pd\n",
        "import scipy as sp\n",
        "np.set_printoptions(precision=3, linewidth=200)"
      ]
    },
    {
      "cell_type": "code",
      "source": [
        "element_pattern = re.compile(r\"([A-Z][a-z]?)(\\d*)\")\n",
        "\n",
        "def str2int(s):\n",
        "    return (1 if ((s is None) or (s=='')) else int(s))\n",
        "\n",
        "def get_molecule_counts(s):\n",
        "    counts=Counter()\n",
        "    matches = re.finditer(element_pattern, s)\n",
        "    for m in matches:\n",
        "        counts=counts+Counter({m.group(1):str2int(m.group(2))})\n",
        "    return counts\n",
        "\n",
        "def get_span_counts(s):\n",
        "    span_counts=[]\n",
        "    molecules=re.finditer((r\"[A-Z][^\\(\\)]+\"),s)\n",
        "    for molecule in molecules:\n",
        "        span_counts.append((molecule.start(), get_molecule_counts(molecule.group(0))))\n",
        "    return span_counts\n",
        "\n",
        "def get_formula(s):\n",
        "    span_counts=get_span_counts(s)\n",
        "    multipliers=list(re.finditer((r\"([\\(\\)])(\\d+)?\"),s))\n",
        "    multipliers=[(m.start(),m.group(1),str2int(m.group(2))) for m in multipliers]\n",
        "    exp_stack = sorted(multipliers + span_counts,key=lambda tup:tup[0])\n",
        "    stack=[]\n",
        "    counts=Counter()\n",
        "    for exp in exp_stack:\n",
        "        if exp[1] == '(':\n",
        "            stack.append(counts)\n",
        "            counts=Counter()\n",
        "        elif exp[1] == ')':\n",
        "            counts = stack.pop() + Counter({k:v*exp[2] for k,v in counts.items()})\n",
        "        else:\n",
        "            counts += exp[1]\n",
        "    return counts"
      ],
      "metadata": {
        "id": "7dHvto51dwbs"
      },
      "execution_count": 2,
      "outputs": []
    },
    {
      "cell_type": "code",
      "source": [
        "def get_coeffs(rxn, fixedcol=0, fixedcoeff=1):\n",
        "    rxn=re.sub(r'\\s+','', rxn)\n",
        "    left,right=rxn.split('->')\n",
        "    left = [dict(get_formula(s)) for s in left.split(\"+\")]\n",
        "    right = [{k:-v for k,v in get_formula(s).items()} for s in right.split(\"+\")]\n",
        "    df=pd.DataFrame(left+right).fillna(0)\n",
        "    mat = df.values.T\n",
        "    A = np.delete(mat,fixedcol,1)\n",
        "    calc_coeff = np.linalg.solve(A,-mat[:,fixedcol]*fixedcoeff)\n",
        "    return np.insert(calc_coeff, fixedcol, fixedcoeff)"
      ],
      "metadata": {
        "id": "CsxjUH7UmB5n"
      },
      "execution_count": 36,
      "outputs": []
    },
    {
      "cell_type": "code",
      "source": [
        "rxn1 = \"Cu2S + HNO3 -> Cu(NO3)2 + CuSO4 + NO2 + H2O\"\n",
        "rxn2 = \"KNO3 + C12H22O11 -> N2 + CO2 + H2O + K2CO3\"\n",
        "rxn3 = \"Cu + HNO3 -> Cu(NO3)2 + NO + H2O\"\n",
        "q=get_coeffs(rxn1, 0,1)\n",
        "q"
      ],
      "metadata": {
        "id": "3GulMIeuhuJt",
        "outputId": "cac568da-843e-4590-d0fa-285cb30bf162",
        "colab": {
          "base_uri": "https://localhost:8080/"
        }
      },
      "execution_count": 37,
      "outputs": [
        {
          "output_type": "execute_result",
          "data": {
            "text/plain": [
              "array([ 1., 12.,  1.,  1., 10.,  6.])"
            ]
          },
          "metadata": {},
          "execution_count": 37
        }
      ]
    },
    {
      "cell_type": "code",
      "source": [],
      "metadata": {
        "colab": {
          "base_uri": "https://localhost:8080/"
        },
        "id": "ZTN9bM6qm7Of",
        "outputId": "f55abb12-b341-459e-bdff-221fa9b98fda"
      },
      "execution_count": 34,
      "outputs": [
        {
          "output_type": "execute_result",
          "data": {
            "text/plain": [
              "array([ 1., 12.,  1.,  1., 10.,  6.])"
            ]
          },
          "metadata": {},
          "execution_count": 34
        }
      ]
    },
    {
      "cell_type": "code",
      "source": [],
      "metadata": {
        "id": "wDYqGE9WvhdC"
      },
      "execution_count": null,
      "outputs": []
    }
  ]
}