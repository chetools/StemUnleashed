{
  "nbformat": 4,
  "nbformat_minor": 0,
  "metadata": {
    "colab": {
      "name": "TitrationCurvesRigorous.ipynb",
      "provenance": [],
      "collapsed_sections": [],
      "authorship_tag": "ABX9TyN4onCHbqXEGd7r6RJP/8dB",
      "include_colab_link": true
    },
    "kernelspec": {
      "name": "python3",
      "display_name": "Python 3"
    },
    "language_info": {
      "name": "python"
    }
  },
  "cells": [
    {
      "cell_type": "markdown",
      "metadata": {
        "id": "view-in-github",
        "colab_type": "text"
      },
      "source": [
        "<a href=\"https://colab.research.google.com/github/profteachkids/StemUnleashed/blob/main/TitrationCurvesRigorous.ipynb\" target=\"_parent\"><img src=\"https://colab.research.google.com/assets/colab-badge.svg\" alt=\"Open In Colab\"/></a>"
      ]
    },
    {
      "cell_type": "code",
      "execution_count": 189,
      "metadata": {
        "id": "8aJ7kRiR5LEM"
      },
      "outputs": [],
      "source": [
        "import numpy as np\n",
        "from scipy.optimize import root_scalar\n",
        "import matplotlib.pyplot as plt"
      ]
    },
    {
      "cell_type": "code",
      "source": [
        "#CH3COOH (1) <-> CH3COO- (2) + H+ (3)  pKa = 4.76       e1\n",
        "#NaOH -> Na+ (4) + OH- (5)                              e2\n",
        "#H2O (6) <-> H+ (3) + OH- (5)          pKw=14           e3\n"
      ],
      "metadata": {
        "id": "3bFUCCixiKSJ"
      },
      "execution_count": 190,
      "outputs": []
    },
    {
      "cell_type": "code",
      "source": [
        "c_CH3COOH = 0.1   #mol/L\n",
        "c_NaOH = 0.1        #mol/L\n",
        "\n",
        "v_init = 0.1    #L\n",
        "n_CH3COOH = c_CH3COOH * v_init\n",
        "\n",
        "def KwEq(pH, n_CH3COOH, n_NaOH, V):\n",
        "    r21 = 10**(-(4.76 - pH))        #n2/n1\n",
        "    n1 = n_CH3COOH/(1+r21)\n",
        "    e1 = n_CH3COOH - n1\n",
        "    e2 = n_NaOH\n",
        "\n",
        "    c3 = 10**(-pH)\n",
        "    e3 = V*c3 - e1\n",
        "    c5 = (e2+e3)/V\n",
        "    return c3*c5/1e-14 - 1.\n",
        "\n",
        "\n",
        "v_NaOHs = np.linspace(0,0.2,100)\n",
        "pH=[]\n",
        "for v_NaOH in v_NaOHs:\n",
        "    n_NaOH = v_NaOH * c_NaOH\n",
        "    v = v_init+v_NaOH\n",
        "    pH.append(root_scalar(lambda pH: KwEq(pH, n_CH3COOH, n_NaOH, v),method='brentq',bracket=[-1,15]).root)"
      ],
      "metadata": {
        "id": "TfE_qKzhVwfa"
      },
      "execution_count": 228,
      "outputs": []
    },
    {
      "cell_type": "code",
      "source": [
        "fig,ax = plt.subplots()\n",
        "ax.plot(v_NaOHs,pH)"
      ],
      "metadata": {
        "colab": {
          "base_uri": "https://localhost:8080/",
          "height": 282
        },
        "id": "FHfudQuyYaAw",
        "outputId": "64564e80-5962-4a60-ca5c-68c2a964fb19"
      },
      "execution_count": 229,
      "outputs": [
        {
          "output_type": "execute_result",
          "data": {
            "text/plain": [
              "[<matplotlib.lines.Line2D at 0x7f2d9c2d8c90>]"
            ]
          },
          "metadata": {},
          "execution_count": 229
        },
        {
          "output_type": "display_data",
          "data": {
            "text/plain": [
              "<Figure size 432x288 with 1 Axes>"
            ],
            "image/png": "[encoded data removed]"
          },
          "metadata": {
            "needs_background": "light"
          }
        }
      ]
    },
    {
      "cell_type": "code",
      "source": [
        "KwEq(res.root,n_CH3COOH, n_NaOH, v)"
      ],
      "metadata": {
        "colab": {
          "base_uri": "https://localhost:8080/"
        },
        "id": "D2hVsKrpEkKu",
        "outputId": "cbd1458f-86f6-4ec1-9cf0-9ef72ac170f8"
      },
      "execution_count": 193,
      "outputs": [
        {
          "output_type": "execute_result",
          "data": {
            "text/plain": [
              "2.1116441928370477e-13"
            ]
          },
          "metadata": {},
          "execution_count": 193
        }
      ]
    },
    {
      "cell_type": "code",
      "source": [
        "#CH3COOH (1) <-> CH3COO- (2) + H+ (6)  pKa = 4.76       e1\n",
        "#H2CO3 (3) <-> HCO3- (4) + H+ (6)       pKa = 6.37      e2\n",
        "#HCO3- (4) <-> CO3- (5) + H+ (6)       pKa = 10.32      e3\n",
        "#H2O -> H+ (6) + OH- (7)                pKw = 14        e4"
      ],
      "metadata": {
        "id": "LTvrmTU95QUn"
      },
      "execution_count": 194,
      "outputs": []
    },
    {
      "cell_type": "code",
      "source": [
        "def KwEqH2CO3(pH, n_CH3COOH, n_HCO3, V):\n",
        "    r21 = 10**(-(4.76 - pH))        #n2/n1\n",
        "    r43 = 10**(-(6.37-pH))          #n4/n3\n",
        "    r54 = 10**(-(10.32-pH))         #n5/n4\n",
        "\n",
        "    n1 = n_CH3COOH/(1+r21)\n",
        "    e1 = n_CH3COOH - n1\n",
        "\n",
        "    # n3 + n4 + n5 = n_HCO3\n",
        "    # n3 + r43*n3 + r54*r43*n3 = n_HCO3\n",
        "\n",
        "    n3 = n_HCO3/(1+r43+r54)\n",
        "    n4 = r43*n3\n",
        "    n5 = r54*n4\n",
        "\n",
        "    e2 = n4 - n_HCO3\n",
        "    e3 = n5\n",
        "\n",
        "    c6 = 10**(-pH)\n",
        "    e4 = V*c6 - e1 - e2 - e3\n",
        "    c7 = e4/V\n",
        "\n",
        "    return c6*c7- 1e-14\n"
      ],
      "metadata": {
        "id": "lDyvdj8l68Mh"
      },
      "execution_count": 235,
      "outputs": []
    },
    {
      "cell_type": "code",
      "source": [
        "root_scalar(lambda pH: KwEqH2CO3(pH, 0.1, 10 ,0.1),method='brentq',bracket=[-1,15])"
      ],
      "metadata": {
        "colab": {
          "base_uri": "https://localhost:8080/"
        },
        "id": "y07yxKEByv7x",
        "outputId": "f618c9ae-7e07-4188-b13c-3946cbf90f46"
      },
      "execution_count": 257,
      "outputs": [
        {
          "output_type": "execute_result",
          "data": {
            "text/plain": [
              "      converged: True\n",
              "           flag: 'converged'\n",
              " function_calls: 16\n",
              "     iterations: 15\n",
              "           root: 8.145968911715219"
            ]
          },
          "metadata": {},
          "execution_count": 257
        }
      ]
    },
    {
      "cell_type": "code",
      "source": [
        "c_CH3COOH = 0.1 #mol/L\n",
        "c_HCO3 = 0.1 #mol/L\n",
        "V_init = 0.1 #L\n",
        "\n",
        "n_CH3COOH = c_CH3COOH * V_init\n",
        "\n",
        "v_HCO3s = np.linspace(0,0.5,100)\n",
        "\n",
        "pH=[]\n",
        "for v_HCO3 in v_HCO3s:\n",
        "    V=V_init+v_HCO3\n",
        "    n_HCO3 = c_HCO3*v_HCO3\n",
        "    pH.append(root_scalar(lambda x: KwEqH2CO3(x, n_CH3COOH, n_HCO3,V),method='brentq',bracket=[-1,15]).root)"
      ],
      "metadata": {
        "id": "LC0-37BfPX1c"
      },
      "execution_count": 244,
      "outputs": []
    },
    {
      "cell_type": "code",
      "source": [
        "fig,ax = plt.subplots()\n",
        "ax.plot(v_HCO3s, pH)"
      ],
      "metadata": {
        "colab": {
          "base_uri": "https://localhost:8080/",
          "height": 282
        },
        "id": "SqALu34tU3ze",
        "outputId": "73e89dfd-ddcd-4041-c5f2-18518bb830df"
      },
      "execution_count": 245,
      "outputs": [
        {
          "output_type": "execute_result",
          "data": {
            "text/plain": [
              "[<matplotlib.lines.Line2D at 0x7f2d9bdf9050>]"
            ]
          },
          "metadata": {},
          "execution_count": 245
        },
        {
          "output_type": "display_data",
          "data": {
            "text/plain": [
              "<Figure size 432x288 with 1 Axes>"
            ],
            "image/png": "[encoded data removed]"
          },
          "metadata": {
            "needs_background": "light"
          }
        }
      ]
    },
    {
      "cell_type": "code",
      "source": [
        "pH"
      ],
      "metadata": {
        "id": "cUxu1NmEVKMm"
      },
      "execution_count": null,
      "outputs": []
    },
    {
      "cell_type": "code",
      "source": [
        ""
      ],
      "metadata": {
        "id": "AygKccw-N0JD"
      },
      "execution_count": null,
      "outputs": []
    }
  ]
}