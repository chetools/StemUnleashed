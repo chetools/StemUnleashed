{
 "cells": [
  {
   "cell_type": "code",
   "execution_count": 23,
   "id": "6d35fc24-bc84-4062-acc4-55bbbe242948",
   "metadata": {},
   "outputs": [],
   "source": [
    "from pathlib import Path\n",
    "import shutil"
   ]
  },
  {
   "cell_type": "code",
   "execution_count": 42,
   "id": "b2c9389e-0b90-48f3-8091-d7d80809615f",
   "metadata": {},
   "outputs": [],
   "source": [
    "root_source='mlb'\n",
    "root_out='mlb_nested'\n",
    "if Path(root_out).exists():\n",
    "    shutil.rmtree(Path(root_out))\n",
    "\n",
    "Path(root_out).mkdir()\n",
    "    \n",
    "     \n",
    "for file in Path(root_source).glob('*.*'):\n",
    "    team,player,year=(file.stem).split('__')\n",
    "    teamdir=Path(root_out, team)\n",
    "    if not(teamdir.exists()):\n",
    "        teamdir.mkdir()\n",
    "    playerdir=Path(teamdir,player)\n",
    "    if not(playerdir.exists()):\n",
    "        playerdir.mkdir()\n",
    "    shutil.copy(file,Path(playerdir,year+'.csv'))\n",
    "    "
   ]
  },
  {
   "cell_type": "code",
   "execution_count": 43,
   "id": "ff6fa08e-2644-44e9-ad23-ee982a4d28bf",
   "metadata": {},
   "outputs": [
    {
     "data": {
      "text/plain": [
       "'D:\\\\Github\\\\StemUnleashed\\\\mlb_batting.zip'"
      ]
     },
     "execution_count": 43,
     "metadata": {},
     "output_type": "execute_result"
    }
   ],
   "source": [
    "shutil.make_archive('mlb_batting','zip',root_dir='mlb_nested')"
   ]
  },
  {
   "cell_type": "code",
   "execution_count": 44,
   "id": "406b8e8c-9596-42ed-b9fb-8a2e69bc4a3b",
   "metadata": {},
   "outputs": [],
   "source": [
    "shutil.unpack_archive('mlb_batting.zip','mlb_unpacked')"
   ]
  },
  {
   "cell_type": "code",
   "execution_count": null,
   "id": "4301631f-aca8-4120-844b-a510305af52a",
   "metadata": {},
   "outputs": [],
   "source": []
  }
 ],
 "metadata": {
  "kernelspec": {
   "display_name": "Python 3 (ipykernel)",
   "language": "python",
   "name": "python3"
  },
  "language_info": {
   "codemirror_mode": {
    "name": "ipython",
    "version": 3
   },
   "file_extension": ".py",
   "mimetype": "text/x-python",
   "name": "python",
   "nbconvert_exporter": "python",
   "pygments_lexer": "ipython3",
   "version": "3.8.8"
  }
 },
 "nbformat": 4,
 "nbformat_minor": 5
}
