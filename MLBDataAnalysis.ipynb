{
  "nbformat": 4,
  "nbformat_minor": 0,
  "metadata": {
    "colab": {
      "name": "MLBDataAnalysis.ipynb",
      "provenance": [],
      "authorship_tag": "ABX9TyNXIphmQs9HtF7Vkw+L9SQw",
      "include_colab_link": true
    },
    "kernelspec": {
      "name": "python3",
      "display_name": "Python 3"
    },
    "language_info": {
      "name": "python"
    }
  },
  "cells": [
    {
      "cell_type": "markdown",
      "metadata": {
        "id": "view-in-github",
        "colab_type": "text"
      },
      "source": [
        "<a href=\"https://colab.research.google.com/github/profteachkids/StemUnleashed/blob/main/MLBDataAnalysis.ipynb\" target=\"_parent\"><img src=\"https://colab.research.google.com/assets/colab-badge.svg\" alt=\"Open In Colab\"/></a>"
      ]
    },
    {
      "cell_type": "code",
      "source": [
        "!wget -q https://github.com/profteachkids/StemUnleashed/raw/main/mlb_batting.zip -O mlb_batting.zip"
      ],
      "metadata": {
        "id": "oojkAgQWT5gl"
      },
      "execution_count": 1,
      "outputs": []
    },
    {
      "cell_type": "code",
      "execution_count": 2,
      "metadata": {
        "id": "datKiMlPb_up"
      },
      "outputs": [],
      "source": [
        "import numpy as np\n",
        "import pandas as pd\n",
        "import shutil\n",
        "from pathlib import Path"
      ]
    },
    {
      "cell_type": "code",
      "source": [
        "shutil.unpack_archive('mlb_batting.zip',extract_dir='mlb_batting')"
      ],
      "metadata": {
        "id": "Gpag36DUUAoB"
      },
      "execution_count": 3,
      "outputs": []
    },
    {
      "cell_type": "code",
      "source": [
        "files=list(Path('mlb_batting').glob('**/*.csv'))\n",
        "keys=[afile.as_posix().split('/')[1:] for afile in files]\n",
        "keys=[tuple((*key[:-1],key[-1].split('.')[0])) for key in keys]"
      ],
      "metadata": {
        "id": "ybqGGLsvUTy3"
      },
      "execution_count": 4,
      "outputs": []
    },
    {
      "cell_type": "code",
      "source": [
        "df_list=[]\n",
        "days=['Mon','Tue','Wed','Thu','Fri','Sat','Sun']\n",
        "for afile in files:\n",
        "    df= pd.read_csv(afile).iloc[:,1:]\n",
        "    df['home']=~df['OPP'].str.startswith('@')\n",
        "    df['win']=df['Result'].str.startswith('W')\n",
        "    df=df.loc[df['Date'].str[:3].isin(days),['Date','home','AB','HR', 'win']]\n",
        "    df[['day','Date']]=df.loc[:,'Date'].str.split(' ',expand=True).loc[:,:1]\n",
        "    df_list.append(df)"
      ],
      "metadata": {
        "id": "RYTjyps_VfPM"
      },
      "execution_count": 5,
      "outputs": []
    },
    {
      "cell_type": "code",
      "source": [
        "df=pd.concat(df_list,keys=keys)\n",
        "df.index=df.index.droplevel(3)\n",
        "df.index.names=['team','player','year']\n",
        "df=df.reset_index().set_index(['team','player'])\n",
        "df[['AB','HR']]=df[['AB','HR']].astype(int)\n",
        "df['day']=df['day'].astype('category')"
      ],
      "metadata": {
        "id": "IX1enQaUWGY8"
      },
      "execution_count": 6,
      "outputs": []
    },
    {
      "cell_type": "code",
      "source": [
        "#combine month/day with year\n",
        "df['date']=pd.to_datetime(df['Date']+'/' +df['year'])\n",
        "df=df.drop(['Date','year'],axis=1)"
      ],
      "metadata": {
        "id": "TTNcCIq4jRae"
      },
      "execution_count": 7,
      "outputs": []
    },
    {
      "cell_type": "code",
      "source": [
        "df_team=df.pivot_table(values=['AB','HR'],index=['team','home'],aggfunc=['sum'])"
      ],
      "metadata": {
        "id": "cRaxO0rQjVR6"
      },
      "execution_count": 8,
      "outputs": []
    },
    {
      "cell_type": "code",
      "source": [
        "df_team.columns=df_team.columns.droplevel(0)"
      ],
      "metadata": {
        "id": "C-nZZj5im7X4"
      },
      "execution_count": 9,
      "outputs": []
    },
    {
      "cell_type": "code",
      "source": [
        "df_team['HR_percentage']=df_team['HR']/df_team['AB']"
      ],
      "metadata": {
        "id": "dEtVhpMkSTjy"
      },
      "execution_count": 10,
      "outputs": []
    },
    {
      "cell_type": "code",
      "source": [
        "df_ratio=pd.pivot_table(df_team, index='team',columns='home',values='HR_percentage')"
      ],
      "metadata": {
        "id": "DvqVAohwm4I4"
      },
      "execution_count": 11,
      "outputs": []
    },
    {
      "cell_type": "code",
      "source": [
        "df_ratio"
      ],
      "metadata": {
        "id": "CUM3Rd5-pDJs",
        "outputId": "6997d74d-f6b6-45f8-d4e1-2f1904fb74b6",
        "colab": {
          "base_uri": "https://localhost:8080/",
          "height": 1000
        }
      },
      "execution_count": 12,
      "outputs": [
        {
          "output_type": "execute_result",
          "data": {
            "text/plain": [
              "home                      False      True\n",
              "team                                     \n",
              "arizona-diamondbacks   0.034471  0.030386\n",
              "atlanta-braves         0.043194  0.043789\n",
              "baltimore-orioles      0.035093  0.041690\n",
              "boston-red-sox         0.035879  0.040978\n",
              "chicago-cubs           0.030992  0.032380\n",
              "chicago-white-sox      0.032907  0.039290\n",
              "cincinnati-reds        0.035382  0.039470\n",
              "cleveland-guardians    0.034495  0.032419\n",
              "colorado-rockies       0.033055  0.042727\n",
              "detroit-tigers         0.039115  0.038777\n",
              "houston-astros         0.032262  0.036200\n",
              "kansas-city-royals     0.036741  0.031460\n",
              "los-angeles-angels     0.033204  0.036550\n",
              "los-angeles-dodgers    0.038326  0.044121\n",
              "miami-marlins          0.034942  0.031055\n",
              "milwaukee-brewers      0.035070  0.034682\n",
              "minnesota-twins        0.044797  0.044916\n",
              "new-york-mets          0.034037  0.034694\n",
              "new-york-yankees       0.044177  0.047693\n",
              "oakland-athletics      0.029947  0.023554\n",
              "philadelphia-phillies  0.037931  0.041000\n",
              "pittsburgh-pirates     0.030860  0.029315\n",
              "san-diego-padres       0.035341  0.041202\n",
              "san-francisco-giants   0.040949  0.037523\n",
              "seattle-mariners       0.039068  0.044925\n",
              "st-louis-cardinals     0.046259  0.042619\n",
              "tampa-bay-rays         0.036495  0.035884\n",
              "texas-rangers          0.036666  0.040511\n",
              "toronto-blue-jays      0.044898  0.047488\n",
              "washington-nationals   0.031820  0.032747"
            ],
            "text/html": [
              "\n",
              "  <div id=\"df-53a07f7c-defc-4cf8-afe6-f496af31164c\">\n",
              "    <div class=\"colab-df-container\">\n",
              "      <div>\n",
              "<style scoped>\n",
              "    .dataframe tbody tr th:only-of-type {\n",
              "        vertical-align: middle;\n",
              "    }\n",
              "\n",
              "    .dataframe tbody tr th {\n",
              "        vertical-align: top;\n",
              "    }\n",
              "\n",
              "    .dataframe thead th {\n",
              "        text-align: right;\n",
              "    }\n",
              "</style>\n",
              "<table border=\"1\" class=\"dataframe\">\n",
              "  <thead>\n",
              "    <tr style=\"text-align: right;\">\n",
              "      <th>home</th>\n",
              "      <th>False</th>\n",
              "      <th>True</th>\n",
              "    </tr>\n",
              "    <tr>\n",
              "      <th>team</th>\n",
              "      <th></th>\n",
              "      <th></th>\n",
              "    </tr>\n",
              "  </thead>\n",
              "  <tbody>\n",
              "    <tr>\n",
              "      <th>arizona-diamondbacks</th>\n",
              "      <td>0.034471</td>\n",
              "      <td>0.030386</td>\n",
              "    </tr>\n",
              "    <tr>\n",
              "      <th>atlanta-braves</th>\n",
              "      <td>0.043194</td>\n",
              "      <td>0.043789</td>\n",
              "    </tr>\n",
              "    <tr>\n",
              "      <th>baltimore-orioles</th>\n",
              "      <td>0.035093</td>\n",
              "      <td>0.041690</td>\n",
              "    </tr>\n",
              "    <tr>\n",
              "      <th>boston-red-sox</th>\n",
              "      <td>0.035879</td>\n",
              "      <td>0.040978</td>\n",
              "    </tr>\n",
              "    <tr>\n",
              "      <th>chicago-cubs</th>\n",
              "      <td>0.030992</td>\n",
              "      <td>0.032380</td>\n",
              "    </tr>\n",
              "    <tr>\n",
              "      <th>chicago-white-sox</th>\n",
              "      <td>0.032907</td>\n",
              "      <td>0.039290</td>\n",
              "    </tr>\n",
              "    <tr>\n",
              "      <th>cincinnati-reds</th>\n",
              "      <td>0.035382</td>\n",
              "      <td>0.039470</td>\n",
              "    </tr>\n",
              "    <tr>\n",
              "      <th>cleveland-guardians</th>\n",
              "      <td>0.034495</td>\n",
              "      <td>0.032419</td>\n",
              "    </tr>\n",
              "    <tr>\n",
              "      <th>colorado-rockies</th>\n",
              "      <td>0.033055</td>\n",
              "      <td>0.042727</td>\n",
              "    </tr>\n",
              "    <tr>\n",
              "      <th>detroit-tigers</th>\n",
              "      <td>0.039115</td>\n",
              "      <td>0.038777</td>\n",
              "    </tr>\n",
              "    <tr>\n",
              "      <th>houston-astros</th>\n",
              "      <td>0.032262</td>\n",
              "      <td>0.036200</td>\n",
              "    </tr>\n",
              "    <tr>\n",
              "      <th>kansas-city-royals</th>\n",
              "      <td>0.036741</td>\n",
              "      <td>0.031460</td>\n",
              "    </tr>\n",
              "    <tr>\n",
              "      <th>los-angeles-angels</th>\n",
              "      <td>0.033204</td>\n",
              "      <td>0.036550</td>\n",
              "    </tr>\n",
              "    <tr>\n",
              "      <th>los-angeles-dodgers</th>\n",
              "      <td>0.038326</td>\n",
              "      <td>0.044121</td>\n",
              "    </tr>\n",
              "    <tr>\n",
              "      <th>miami-marlins</th>\n",
              "      <td>0.034942</td>\n",
              "      <td>0.031055</td>\n",
              "    </tr>\n",
              "    <tr>\n",
              "      <th>milwaukee-brewers</th>\n",
              "      <td>0.035070</td>\n",
              "      <td>0.034682</td>\n",
              "    </tr>\n",
              "    <tr>\n",
              "      <th>minnesota-twins</th>\n",
              "      <td>0.044797</td>\n",
              "      <td>0.044916</td>\n",
              "    </tr>\n",
              "    <tr>\n",
              "      <th>new-york-mets</th>\n",
              "      <td>0.034037</td>\n",
              "      <td>0.034694</td>\n",
              "    </tr>\n",
              "    <tr>\n",
              "      <th>new-york-yankees</th>\n",
              "      <td>0.044177</td>\n",
              "      <td>0.047693</td>\n",
              "    </tr>\n",
              "    <tr>\n",
              "      <th>oakland-athletics</th>\n",
              "      <td>0.029947</td>\n",
              "      <td>0.023554</td>\n",
              "    </tr>\n",
              "    <tr>\n",
              "      <th>philadelphia-phillies</th>\n",
              "      <td>0.037931</td>\n",
              "      <td>0.041000</td>\n",
              "    </tr>\n",
              "    <tr>\n",
              "      <th>pittsburgh-pirates</th>\n",
              "      <td>0.030860</td>\n",
              "      <td>0.029315</td>\n",
              "    </tr>\n",
              "    <tr>\n",
              "      <th>san-diego-padres</th>\n",
              "      <td>0.035341</td>\n",
              "      <td>0.041202</td>\n",
              "    </tr>\n",
              "    <tr>\n",
              "      <th>san-francisco-giants</th>\n",
              "      <td>0.040949</td>\n",
              "      <td>0.037523</td>\n",
              "    </tr>\n",
              "    <tr>\n",
              "      <th>seattle-mariners</th>\n",
              "      <td>0.039068</td>\n",
              "      <td>0.044925</td>\n",
              "    </tr>\n",
              "    <tr>\n",
              "      <th>st-louis-cardinals</th>\n",
              "      <td>0.046259</td>\n",
              "      <td>0.042619</td>\n",
              "    </tr>\n",
              "    <tr>\n",
              "      <th>tampa-bay-rays</th>\n",
              "      <td>0.036495</td>\n",
              "      <td>0.035884</td>\n",
              "    </tr>\n",
              "    <tr>\n",
              "      <th>texas-rangers</th>\n",
              "      <td>0.036666</td>\n",
              "      <td>0.040511</td>\n",
              "    </tr>\n",
              "    <tr>\n",
              "      <th>toronto-blue-jays</th>\n",
              "      <td>0.044898</td>\n",
              "      <td>0.047488</td>\n",
              "    </tr>\n",
              "    <tr>\n",
              "      <th>washington-nationals</th>\n",
              "      <td>0.031820</td>\n",
              "      <td>0.032747</td>\n",
              "    </tr>\n",
              "  </tbody>\n",
              "</table>\n",
              "</div>\n",
              "      <button class=\"colab-df-convert\" onclick=\"convertToInteractive('df-53a07f7c-defc-4cf8-afe6-f496af31164c')\"\n",
              "              title=\"Convert this dataframe to an interactive table.\"\n",
              "              style=\"display:none;\">\n",
              "        \n",
              "  <svg xmlns=\"http://www.w3.org/2000/svg\" height=\"24px\"viewBox=\"0 0 24 24\"\n",
              "       width=\"24px\">\n",
              "    <path d=\"M0 0h24v24H0V0z\" fill=\"none\"/>\n",
              "    <path d=\"M18.56 5.44l.94 2.06.94-2.06 2.06-.94-2.06-.94-.94-2.06-.94 2.06-2.06.94zm-11 1L8.5 8.5l.94-2.06 2.06-.94-2.06-.94L8.5 2.5l-.94 2.06-2.06.94zm10 10l.94 2.06.94-2.06 2.06-.94-2.06-.94-.94-2.06-.94 2.06-2.06.94z\"/><path d=\"M17.41 7.96l-1.37-1.37c-.4-.4-.92-.59-1.43-.59-.52 0-1.04.2-1.43.59L10.3 9.45l-7.72 7.72c-.78.78-.78 2.05 0 2.83L4 21.41c.39.39.9.59 1.41.59.51 0 1.02-.2 1.41-.59l7.78-7.78 2.81-2.81c.8-.78.8-2.07 0-2.86zM5.41 20L4 18.59l7.72-7.72 1.47 1.35L5.41 20z\"/>\n",
              "  </svg>\n",
              "      </button>\n",
              "      \n",
              "  <style>\n",
              "    .colab-df-container {\n",
              "      display:flex;\n",
              "      flex-wrap:wrap;\n",
              "      gap: 12px;\n",
              "    }\n",
              "\n",
              "    .colab-df-convert {\n",
              "      background-color: #E8F0FE;\n",
              "      border: none;\n",
              "      border-radius: 50%;\n",
              "      cursor: pointer;\n",
              "      display: none;\n",
              "      fill: #1967D2;\n",
              "      height: 32px;\n",
              "      padding: 0 0 0 0;\n",
              "      width: 32px;\n",
              "    }\n",
              "\n",
              "    .colab-df-convert:hover {\n",
              "      background-color: #E2EBFA;\n",
              "      box-shadow: 0px 1px 2px rgba(60, 64, 67, 0.3), 0px 1px 3px 1px rgba(60, 64, 67, 0.15);\n",
              "      fill: #174EA6;\n",
              "    }\n",
              "\n",
              "    [theme=dark] .colab-df-convert {\n",
              "      background-color: #3B4455;\n",
              "      fill: #D2E3FC;\n",
              "    }\n",
              "\n",
              "    [theme=dark] .colab-df-convert:hover {\n",
              "      background-color: #434B5C;\n",
              "      box-shadow: 0px 1px 3px 1px rgba(0, 0, 0, 0.15);\n",
              "      filter: drop-shadow(0px 1px 2px rgba(0, 0, 0, 0.3));\n",
              "      fill: #FFFFFF;\n",
              "    }\n",
              "  </style>\n",
              "\n",
              "      <script>\n",
              "        const buttonEl =\n",
              "          document.querySelector('#df-53a07f7c-defc-4cf8-afe6-f496af31164c button.colab-df-convert');\n",
              "        buttonEl.style.display =\n",
              "          google.colab.kernel.accessAllowed ? 'block' : 'none';\n",
              "\n",
              "        async function convertToInteractive(key) {\n",
              "          const element = document.querySelector('#df-53a07f7c-defc-4cf8-afe6-f496af31164c');\n",
              "          const dataTable =\n",
              "            await google.colab.kernel.invokeFunction('convertToInteractive',\n",
              "                                                     [key], {});\n",
              "          if (!dataTable) return;\n",
              "\n",
              "          const docLinkHtml = 'Like what you see? Visit the ' +\n",
              "            '<a target=\"_blank\" href=https://colab.research.google.com/notebooks/data_table.ipynb>data table notebook</a>'\n",
              "            + ' to learn more about interactive tables.';\n",
              "          element.innerHTML = '';\n",
              "          dataTable['output_type'] = 'display_data';\n",
              "          await google.colab.output.renderOutput(dataTable, element);\n",
              "          const docLink = document.createElement('div');\n",
              "          docLink.innerHTML = docLinkHtml;\n",
              "          element.appendChild(docLink);\n",
              "        }\n",
              "      </script>\n",
              "    </div>\n",
              "  </div>\n",
              "  "
            ]
          },
          "metadata": {},
          "execution_count": 12
        }
      ]
    },
    {
      "cell_type": "code",
      "source": [
        ""
      ],
      "metadata": {
        "id": "r8JizeL7nEDY"
      },
      "execution_count": 12,
      "outputs": []
    }
  ]
}