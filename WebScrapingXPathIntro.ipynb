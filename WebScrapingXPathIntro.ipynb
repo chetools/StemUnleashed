{
  "nbformat": 4,
  "nbformat_minor": 0,
  "metadata": {
    "colab": {
      "name": "WebScrapingXPathIntro.ipynb",
      "provenance": [],
      "collapsed_sections": [],
      "authorship_tag": "ABX9TyOE7gDiyBJAY5m4vF92NgHN",
      "include_colab_link": true
    },
    "kernelspec": {
      "name": "python3",
      "display_name": "Python 3"
    }
  },
  "cells": [
    {
      "cell_type": "markdown",
      "metadata": {
        "id": "view-in-github",
        "colab_type": "text"
      },
      "source": [
        "<a href=\"https://colab.research.google.com/github/profteachkids/StemUnleashed/blob/main/WebScrapingXPathIntro.ipynb\" target=\"_parent\"><img src=\"https://colab.research.google.com/assets/colab-badge.svg\" alt=\"Open In Colab\"/></a>"
      ]
    },
    {
      "cell_type": "code",
      "metadata": {
        "id": "VTUStqy5Mhkp"
      },
      "source": [
        "from lxml import html\n",
        "import requests"
      ],
      "execution_count": 1,
      "outputs": []
    },
    {
      "cell_type": "code",
      "metadata": {
        "id": "M9koROWmMbCT"
      },
      "source": [
        "content = \"\"\"<html>\n",
        "  <head>Nothing - Duh!</head>\n",
        "  <body><div class='team-stats'>\n",
        "  <div class='points-per-game'>\n",
        "    <table class='category-table'> \n",
        "      <tr>\n",
        "        <a class='team-name'>Golden State Warriors</a>\n",
        "        <a class='team-value'>116.3</a>\n",
        "      </tr> \n",
        "      <tr>\n",
        "        <a class='team-name'>LA Clippers</a>\n",
        "        <a class='team-value'>114.7</a>\n",
        "      </tr> \n",
        "      <tr>\n",
        "        <a class='team-name'>Milwaukee Bucks</a>\n",
        "        <a class='team-value'>112.8</a>\n",
        "      </tr> \n",
        "    </table>\n",
        "  </div>\n",
        "  \n",
        "  <div class='rebounds-per-game'> \n",
        "    <table class='category-table'> \n",
        "      <tr>\n",
        "        <a class='team-name'>Milwaukee Bucks</a>\n",
        "        <a class='team-value'>51.9</a>\n",
        "      </tr> \n",
        "      <tr>\n",
        "        <a class='team-name'>Philadelphia 76ers</a>\n",
        "        <a class='team-value'>48.5</a>\n",
        "      </tr> \n",
        "      <tr>\n",
        "        <a class='team-name'>Boston Celtics</a>\n",
        "        <a class='team-value'>47.8</a>\n",
        "      </tr> \n",
        "    </table>\n",
        "  </div>\n",
        "</div></body></html>\"\"\""
      ],
      "execution_count": 2,
      "outputs": []
    },
    {
      "cell_type": "code",
      "metadata": {
        "id": "t9FQMf1JM4Zu"
      },
      "source": [
        "tree=html.fromstring(content)"
      ],
      "execution_count": 3,
      "outputs": []
    },
    {
      "cell_type": "code",
      "metadata": {
        "id": "T_28HcN14Fai"
      },
      "source": [
        "res=tree.xpath('/*')"
      ],
      "execution_count": 4,
      "outputs": []
    },
    {
      "cell_type": "code",
      "metadata": {
        "id": "zt9ZVlJ-4G9w",
        "colab": {
          "base_uri": "https://localhost:8080/"
        },
        "outputId": "4815a4de-45af-461a-ff5f-09d425ae71d6"
      },
      "source": [
        "res[0].xpath(r'//a[text()=\"51.9\"]/preceding-sibling::a/text()')"
      ],
      "execution_count": 39,
      "outputs": [
        {
          "output_type": "execute_result",
          "data": {
            "text/plain": [
              "['Milwaukee Bucks']"
            ]
          },
          "metadata": {},
          "execution_count": 39
        }
      ]
    },
    {
      "cell_type": "code",
      "metadata": {
        "id": "kPFDlUfG4gyJ"
      },
      "source": [
        ""
      ],
      "execution_count": null,
      "outputs": []
    }
  ]
}