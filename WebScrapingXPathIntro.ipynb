{
  "nbformat": 4,
  "nbformat_minor": 0,
  "metadata": {
    "colab": {
      "name": "WebScrapingXPathIntro.ipynb",
      "provenance": [],
      "collapsed_sections": [],
      "authorship_tag": "ABX9TyOefwnoVmTHmKCKSwhouMZz",
      "include_colab_link": true
    },
    "kernelspec": {
      "name": "python3",
      "display_name": "Python 3"
    }
  },
  "cells": [
    {
      "cell_type": "markdown",
      "metadata": {
        "id": "view-in-github",
        "colab_type": "text"
      },
      "source": [
        "<a href=\"https://colab.research.google.com/github/profteachkids/StemUnleashed/blob/main/WebScrapingXPathIntro.ipynb\" target=\"_parent\"><img src=\"https://colab.research.google.com/assets/colab-badge.svg\" alt=\"Open In Colab\"/></a>"
      ]
    },
    {
      "cell_type": "code",
      "metadata": {
        "id": "VTUStqy5Mhkp"
      },
      "source": [
        "from lxml import html\n",
        "import requests"
      ],
      "execution_count": 1,
      "outputs": []
    },
    {
      "cell_type": "code",
      "metadata": {
        "id": "M9koROWmMbCT"
      },
      "source": [
        "content = \"\"\"<html>\n",
        "  <head>Nothing - Duh!</head>\n",
        "  <body><div class='team-stats'>\n",
        "  <div class='points-per-game'>\n",
        "    <table class='category-table'> \n",
        "      <tr>\n",
        "        <a class='team-name'>Golden State Warriors</a>\n",
        "        <a class='team-value'>116.3</a>\n",
        "      </tr> \n",
        "      <tr>\n",
        "        <a class='team-name'>LA Clippers</a>\n",
        "        <a class='team-value'>114.7</a>\n",
        "      </tr> \n",
        "      <tr>\n",
        "        <a class='team-name'>Milwaukee Bucks</a>\n",
        "        <a class='team-value'>112.8</a>\n",
        "      </tr> \n",
        "    </table>\n",
        "  </div>\n",
        "  \n",
        "  <div class='rebounds-per-game'> \n",
        "    <table class='category-table'> \n",
        "      <tr>\n",
        "        <a class='team-name'>Milwaukee Bucks</a>\n",
        "        <a class='team-value'>51.9</a>\n",
        "      </tr> \n",
        "      <tr>\n",
        "        <a class='team-name'>Philadelphia 76ers</a>\n",
        "        <a class='team-value'>48.5</a>\n",
        "      </tr> \n",
        "      <tr>\n",
        "        <a class='team-name'>Boston Celtics</a>\n",
        "        <a class='team-value'>47.8</a>\n",
        "      </tr> \n",
        "    </table>\n",
        "  </div>\n",
        "</div></body></html>\"\"\""
      ],
      "execution_count": 80,
      "outputs": []
    },
    {
      "cell_type": "code",
      "metadata": {
        "id": "t9FQMf1JM4Zu"
      },
      "source": [
        "tree=html.fromstring(content)"
      ],
      "execution_count": 81,
      "outputs": []
    },
    {
      "cell_type": "code",
      "source": [
        "divs=tree.xpath('//div/div')\n",
        "for div in divs:\n",
        "    c=div.xpath('table/tr/a/text()')\n",
        "    print(c)"
      ],
      "metadata": {
        "id": "-a8cNENn3vRK",
        "outputId": "6ff78bfb-7aa3-462a-8399-14dcc16081e0",
        "colab": {
          "base_uri": "https://localhost:8080/"
        }
      },
      "execution_count": 85,
      "outputs": [
        {
          "output_type": "stream",
          "name": "stdout",
          "text": [
            "['Golden State Warriors', '116.3', 'LA Clippers', '114.7', 'Milwaukee Bucks', '112.8']\n",
            "['Milwaukee Bucks', '51.9', 'Philadelphia 76ers', '48.5', 'Boston Celtics', '47.8']\n"
          ]
        }
      ]
    },
    {
      "cell_type": "code",
      "metadata": {
        "id": "T_28HcN14Fai",
        "outputId": "30475350-5aff-4733-8e5f-a3f8ae2382e7",
        "colab": {
          "base_uri": "https://localhost:8080/"
        }
      },
      "source": [
        "type(tree)"
      ],
      "execution_count": 78,
      "outputs": [
        {
          "output_type": "execute_result",
          "data": {
            "text/plain": [
              "lxml.html.HtmlElement"
            ]
          },
          "metadata": {},
          "execution_count": 78
        }
      ]
    },
    {
      "cell_type": "code",
      "metadata": {
        "id": "zt9ZVlJ-4G9w",
        "colab": {
          "base_uri": "https://localhost:8080/"
        },
        "outputId": "992e1485-0e08-4176-c1ef-550dbb8f23bb"
      },
      "source": [
        "\"res"
      ],
      "execution_count": 23,
      "outputs": [
        {
          "output_type": "execute_result",
          "data": {
            "text/plain": [
              "12.0"
            ]
          },
          "metadata": {},
          "execution_count": 23
        }
      ]
    },
    {
      "cell_type": "code",
      "metadata": {
        "id": "kPFDlUfG4gyJ"
      },
      "source": [
        ""
      ],
      "execution_count": 5,
      "outputs": []
    }
  ]
}