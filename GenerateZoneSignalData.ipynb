{
  "nbformat": 4,
  "nbformat_minor": 0,
  "metadata": {
    "colab": {
      "name": "GenerateZoneSignalData.ipynb",
      "provenance": [],
      "collapsed_sections": [],
      "authorship_tag": "ABX9TyO6wi6HY49itYNok5MrQ7wM",
      "include_colab_link": true
    },
    "kernelspec": {
      "name": "python3",
      "display_name": "Python 3"
    },
    "language_info": {
      "name": "python"
    }
  },
  "cells": [
    {
      "cell_type": "markdown",
      "metadata": {
        "id": "view-in-github",
        "colab_type": "text"
      },
      "source": [
        "<a href=\"https://colab.research.google.com/github/profteachkids/StemUnleashed/blob/main/GenerateZoneSignalData.ipynb\" target=\"_parent\"><img src=\"https://colab.research.google.com/assets/colab-badge.svg\" alt=\"Open In Colab\"/></a>"
      ]
    },
    {
      "cell_type": "code",
      "execution_count": 1,
      "metadata": {
        "id": "Cn-H-wBYvOh-"
      },
      "outputs": [],
      "source": [
        "import numpy as np\n",
        "import pandas as pd"
      ]
    },
    {
      "cell_type": "code",
      "source": [
        "rng=np.random.RandomState(1234)\n",
        "nDataApprox = 1000\n",
        "nCenters = 10\n",
        "nDim = 6\n",
        "centers = rng.uniform(0,10, size=(nCenters, nDim))\n",
        "X=[]\n",
        "Y=[]\n",
        "for i,center in enumerate(centers):\n",
        "    nPoints = rng.randint(0.5*nDataApprox/nCenters, 1.5*nDataApprox/nCenters)\n",
        "    X.append(rng.normal(loc=center, scale=0.2, size=(nPoints,nDim)))\n",
        "    Y.append(np.full(nPoints,i))\n",
        "X=np.concatenate(X,axis=0)\n",
        "Y=np.concatenate(Y)\n",
        "random_idx=rng.permutation(range(Y.size))\n",
        "X=X[random_idx]\n",
        "Y=Y[random_idx]"
      ],
      "metadata": {
        "id": "TNTtvU3qvNqQ"
      },
      "execution_count": 2,
      "outputs": []
    },
    {
      "cell_type": "code",
      "source": [
        "df = pd.DataFrame(X, columns=[f'sig{i}' for i in range(1,nDim+1)])\n",
        "df['zone'] = Y\n",
        "df.to_csv('ZoneSignal.csv')"
      ],
      "metadata": {
        "id": "q3Mj0Htc77ej"
      },
      "execution_count": 3,
      "outputs": []
    },
    {
      "cell_type": "code",
      "source": [
        ""
      ],
      "metadata": {
        "id": "IPw0MaRAb7IB"
      },
      "execution_count": null,
      "outputs": []
    }
  ]
}