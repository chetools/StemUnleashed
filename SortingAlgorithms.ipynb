{
  "nbformat": 4,
  "nbformat_minor": 0,
  "metadata": {
    "colab": {
      "name": "SortingAlgorithms",
      "provenance": [],
      "authorship_tag": "ABX9TyP4rrVqwLg8plt14RhzyPm2",
      "include_colab_link": true
    },
    "kernelspec": {
      "name": "python3",
      "display_name": "Python 3"
    },
    "language_info": {
      "name": "python"
    }
  },
  "cells": [
    {
      "cell_type": "markdown",
      "metadata": {
        "id": "view-in-github",
        "colab_type": "text"
      },
      "source": [
        "<a href=\"https://colab.research.google.com/github/profteachkids/StemUnleashed/blob/main/SortingAlgorithms.ipynb\" target=\"_parent\"><img src=\"https://colab.research.google.com/assets/colab-badge.svg\" alt=\"Open In Colab\"/></a>"
      ]
    },
    {
      "cell_type": "code",
      "execution_count": 1,
      "metadata": {
        "id": "nBYePxkoD-V6"
      },
      "outputs": [],
      "source": [
        "import numpy as np"
      ]
    },
    {
      "cell_type": "code",
      "source": [
        "def bubblesort(x):\n",
        "    N = x.size\n",
        "    swap = True\n",
        "    while swap:\n",
        "        swap=False\n",
        "        for i in range(N-1):\n",
        "            if x[i]>x[i+1]:\n",
        "                x[i],x[i+1]=x[i+1],x[i]\n",
        "                swap=True\n"
      ],
      "metadata": {
        "id": "YnqIcmYjJ8wH"
      },
      "execution_count": 97,
      "outputs": []
    },
    {
      "cell_type": "code",
      "source": [
        "def min_node(x,n,i):\n",
        "\n",
        "    stack=[i]\n",
        "\n",
        "    while stack:\n",
        "        node = stack.pop()\n",
        "        left=2*node+1\n",
        "        right=2*node+2\n",
        "\n",
        "        largest = node\n",
        "        if left<n and x[left]>x[largest]:\n",
        "            largest = left\n",
        "\n",
        "        if right<n and x[right]>x[largest]:\n",
        "            largest = right\n",
        "\n",
        "        if largest!=node:\n",
        "            x[largest],x[node]=x[node],x[largest]\n",
        "            stack.append(largest)\n",
        "        \n",
        "\n",
        "def min_heap(x,n):\n",
        "    start=int(2**(np.floor(np.log2(n+1)))-1)\n",
        "    for i in range(start,-1,-1):\n",
        "        min_node(x,n,i)\n",
        "\n",
        "def heapsort(x):\n",
        "    N=x.size\n",
        "    min_heap(x,N)\n",
        "    for n in range(N-1,0,-1):\n",
        "        x[n],x[0]=x[0],x[n]\n",
        "        min_node(x,n,0)"
      ],
      "metadata": {
        "id": "tfPQdtruEAg2"
      },
      "execution_count": 104,
      "outputs": []
    },
    {
      "cell_type": "code",
      "source": [
        "def merge2(x,y,i,isize, j, jsize,k):\n",
        "    iend = i+isize\n",
        "    jend = j+jsize\n",
        "    kend = k+isize+jsize\n",
        "\n",
        "    while i<iend and j<jend:\n",
        "        if x[i]<=x[j]:\n",
        "            y[k]=x[i]\n",
        "            i+=1\n",
        "        else:\n",
        "            y[k]=x[j]\n",
        "            j+=1\n",
        "        k+=1\n",
        "    if i==iend:\n",
        "        y[k:kend]=x[j:jend]\n",
        "    else:\n",
        "        y[k:kend]=x[i:iend]\n",
        "\n",
        "\n",
        "def mergesort(xx):\n",
        "    x=xx.copy()\n",
        "    y=np.zeros_like(x)\n",
        "    N=x.size\n",
        "    size=1\n",
        "    while size<N:\n",
        "        for base in range(0,2*size*(N//(2*size)), 2*size):\n",
        "            merge2(x,y,base,size, base+size, size, base)\n",
        "\n",
        "\n",
        "        last2start = 2*size*(N//(2*size))\n",
        "        if last2start+size>=N:\n",
        "            y[last2start:]=x[last2start:]\n",
        "        else:\n",
        "            merge2(x,y, last2start, size, last2start+size, N-(last2start+size), last2start)\n",
        "\n",
        "        x=y.copy()\n",
        "        size*=2\n",
        "\n",
        "    return x"
      ],
      "metadata": {
        "id": "FzinNu7oNTfH"
      },
      "execution_count": 111,
      "outputs": []
    },
    {
      "cell_type": "code",
      "source": [
        "x=np.random.permutation(np.arange(1e4))\n",
        "%time bubblesort(x)"
      ],
      "metadata": {
        "colab": {
          "base_uri": "https://localhost:8080/"
        },
        "id": "we_DWek7NWhA",
        "outputId": "f318e004-0045-408f-fde6-d0fd3591aa4d"
      },
      "execution_count": 108,
      "outputs": [
        {
          "output_type": "stream",
          "name": "stdout",
          "text": [
            "CPU times: user 35.8 s, sys: 71.4 ms, total: 35.9 s\n",
            "Wall time: 36.1 s\n"
          ]
        }
      ]
    },
    {
      "cell_type": "code",
      "source": [
        "x=np.random.permutation(np.arange(1e4))\n",
        "%time heapsort(x)"
      ],
      "metadata": {
        "colab": {
          "base_uri": "https://localhost:8080/"
        },
        "id": "9hn8f_7qNXmQ",
        "outputId": "c6b2c605-7911-4ea3-9249-0726d7f14052"
      },
      "execution_count": 109,
      "outputs": [
        {
          "output_type": "stream",
          "name": "stdout",
          "text": [
            "CPU times: user 158 ms, sys: 1.89 ms, total: 160 ms\n",
            "Wall time: 162 ms\n"
          ]
        }
      ]
    },
    {
      "cell_type": "code",
      "source": [
        "x=np.random.permutation(np.arange(1e4))\n",
        "%time mergesort(x)"
      ],
      "metadata": {
        "colab": {
          "base_uri": "https://localhost:8080/"
        },
        "id": "8d6IxUAoQ8Wh",
        "outputId": "1da9991e-0746-432d-b57a-d2266c8ccae4"
      },
      "execution_count": 112,
      "outputs": [
        {
          "output_type": "stream",
          "name": "stdout",
          "text": [
            "CPU times: user 95.3 ms, sys: 0 ns, total: 95.3 ms\n",
            "Wall time: 98.1 ms\n"
          ]
        },
        {
          "output_type": "execute_result",
          "data": {
            "text/plain": [
              "array([0.000e+00, 1.000e+00, 2.000e+00, ..., 9.997e+03, 9.998e+03,\n",
              "       9.999e+03])"
            ]
          },
          "metadata": {},
          "execution_count": 112
        }
      ]
    },
    {
      "cell_type": "code",
      "source": [
        "x=np.random.permutation(np.arange(1e4))\n",
        "%time np.sort(x)"
      ],
      "metadata": {
        "colab": {
          "base_uri": "https://localhost:8080/"
        },
        "id": "A2P9DXmKPTXO",
        "outputId": "178e2b46-877c-465a-d55d-abf185e476de"
      },
      "execution_count": 110,
      "outputs": [
        {
          "output_type": "stream",
          "name": "stdout",
          "text": [
            "CPU times: user 1.34 ms, sys: 0 ns, total: 1.34 ms\n",
            "Wall time: 1.41 ms\n"
          ]
        },
        {
          "output_type": "execute_result",
          "data": {
            "text/plain": [
              "array([0.000e+00, 1.000e+00, 2.000e+00, ..., 9.997e+03, 9.998e+03,\n",
              "       9.999e+03])"
            ]
          },
          "metadata": {},
          "execution_count": 110
        }
      ]
    },
    {
      "cell_type": "code",
      "source": [
        ""
      ],
      "metadata": {
        "id": "uAyM1FzGQt_c"
      },
      "execution_count": null,
      "outputs": []
    }
  ]
}