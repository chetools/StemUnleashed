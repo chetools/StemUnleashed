{
  "nbformat": 4,
  "nbformat_minor": 0,
  "metadata": {
    "colab": {
      "provenance": [],
      "authorship_tag": "ABX9TyM6rXuo5v2XH087+GSqg63R",
      "include_colab_link": true
    },
    "kernelspec": {
      "name": "python3",
      "display_name": "Python 3"
    },
    "language_info": {
      "name": "python"
    }
  },
  "cells": [
    {
      "cell_type": "markdown",
      "metadata": {
        "id": "view-in-github",
        "colab_type": "text"
      },
      "source": [
        "<a href=\"https://colab.research.google.com/github/profteachkids/StemUnleashed/blob/main/StemUnleashedDec2022.ipynb\" target=\"_parent\"><img src=\"https://colab.research.google.com/assets/colab-badge.svg\" alt=\"Open In Colab\"/></a>"
      ]
    },
    {
      "cell_type": "markdown",
      "source": [
        "## Stem Unleashed Dec 2022: The Experience of Seeing the Peaks\n",
        "Even among students who complete an undergraduate science or engineering degree, only a very small fraction are exposed to the connection between the math they have learned (calculus, linear algebra, differential equations) and the computer algorithms used to solve real world problems.  The workings of these algorithms are like mountain peaks shrouded in clouds year-around.  This holiday season, experience a guided sight-seeing tour of one of these peaks.  No tests, no grades, just watch, listen, crack a joke, laugh, make friends, and enjoy.  If you play an instrument, the best analogy to this experience may be akin to having a professional musician play a very difficult piece while explaining the history, theory, technique, and challenges to you.  And you are encouraged to interrupt and ask questions any time.  The sessions are taught cooking-show style, i.e., no pre-made slides, and everything is coded keystroke by keystroke.  Zoom sessions will be at night (8 PM or later) when you are actually awake!  We will meet in person on some afternoons to watch the brave ones who will present orally what they have learned and compete for the $200.  Dates, times, and location to be determined."
      ],
      "metadata": {
        "id": "-sVLkXrtoxvc"
      }
    },
    {
      "cell_type": "markdown",
      "source": [
        "## Broyden's Method - What is it and why does it matter?\n",
        "\n",
        "Optimization and solving simultaneous non-linear equations in high dimensions are crucial in solving every real-world STEM problem.  The BFGS (Broyden-Fletcher-Goldfarb-Shanno) algorithm and its variants are the most well-known and used algorithms for large-scale optimization.  Broyden's method is a key step to understanding BFGS, and is itself an efficient high-dimensional root-finding algorithm.\n"
      ],
      "metadata": {
        "id": "EwfRvlvWZ5gf"
      }
    },
    {
      "cell_type": "markdown",
      "source": [
        "## Subtopics:\n",
        "\n",
        "\n",
        "1.  Derivatives - numeric, symbolic, and automatic differentiation.  (Python/Numpy/Plotly/JAX) (D1, 1 hr)\n",
        "2.  Secant and Newton's methods (Theory/Python) (D1, 1.5 hrs)\n",
        "3.  Linear algebra: dot product, outer vector-vector and matrix-vector products, matrix inverse, Sherman Morrison (Theory/Python/Numpy) (D1, 1.5 hrs)\n",
        "4.  Jacobian and multivariable Newton's method (Theory/Python/JAX) (D2, 3 hrs)\n",
        "5.  Broyden's method (Python/Numpy implementation) (D2, 1.5 hrs)\n",
        "6.  Demonstrate equivalence with minimum Frobenius norm (D3, 1.5 hrs)\n",
        "7.  Geometric derivation of Broyden's method (D4, 1 hr)\n",
        "8.  Minimum Frobenius norm derivation of Broyden's method (D5, 1 hr)\n",
        "\n",
        "\n",
        "Complexity/Difficulty (D1 to D5)\n",
        "Total: ~12 hours\n",
        "\n",
        "\n",
        "\n"
      ],
      "metadata": {
        "id": "nMheSHTMk-u7"
      }
    },
    {
      "cell_type": "markdown",
      "source": [
        "##Cost:\n",
        "\n",
        "Free"
      ],
      "metadata": {
        "id": "vYrcHQ5fltOA"
      }
    },
    {
      "cell_type": "markdown",
      "source": [
        "## Tour Guides:\n",
        "Prof. Carlos Co (Chemical Engineering, UC)  \n",
        "Lauren Ferguson (Physics/Biomedical Engineering, OSU)"
      ],
      "metadata": {
        "id": "uk9ybO1arLdF"
      }
    }
  ]
}