{
  "nbformat": 4,
  "nbformat_minor": 0,
  "metadata": {
    "colab": {
      "provenance": [],
      "authorship_tag": "ABX9TyNedru3bUHZf3xeCQwxT3pN",
      "include_colab_link": true
    },
    "kernelspec": {
      "name": "python3",
      "display_name": "Python 3"
    },
    "language_info": {
      "name": "python"
    }
  },
  "cells": [
    {
      "cell_type": "markdown",
      "metadata": {
        "id": "view-in-github",
        "colab_type": "text"
      },
      "source": [
        "<a href=\"https://colab.research.google.com/github/profteachkids/StemUnleashed/blob/main/StemUnleashedDec2022.ipynb\" target=\"_parent\"><img src=\"https://colab.research.google.com/assets/colab-badge.svg\" alt=\"Open In Colab\"/></a>"
      ]
    },
    {
      "cell_type": "markdown",
      "source": [
        "## Broyden's Method - What is it and why does it matter?\n",
        "\n",
        "Optimization and solving simultaneous non-linear equations in high dimensions are crucial in solving every real-world STEM problem.  The BFGS (Broyden-Fletcher-Goldfarb-Shanno) algorithm and its variants are the most well-known and used algorithms for large-scale optimization.  Broyden's method is a key step to understanding BFGS, and is itself an efficient high-dimensional root-finding algorithm.\n"
      ],
      "metadata": {
        "id": "EwfRvlvWZ5gf"
      }
    },
    {
      "cell_type": "markdown",
      "source": [
        "## Subtopics:\n",
        "\n",
        "\n",
        "1.  Derivatives - numeric, symbolic, and automatic differentiation.  (Python/Numpy/Plotly/JAX) (*)\n",
        "2.  Secant and Newton's methods (Theory/Python) (*)\n",
        "3.  Linear algebra: dot product, matrix-vector products, matrix inverse, Sherman Morrison (Theory/Python/Numpy) (*)\n",
        "4.  Jacobian and multivariable Newton's method (Theory/Python/JAX) (**)\n",
        "5.  Broyden's method (Python/Numpy implementation) (**)\n",
        "6.  Demonstrate equivalence with minimum Frobenius norm (***)\n",
        "7.  Geometric derivation of Broyden's method (*****)\n",
        "8.  Minimum Frobenius norm derivation of Broyden's method (*****)\n",
        "\n",
        "\n",
        "From Easy* to Hard*****\n",
        "\n",
        "\n",
        "\n"
      ],
      "metadata": {
        "id": "nMheSHTMk-u7"
      }
    },
    {
      "cell_type": "markdown",
      "source": [
        "## The Experience of Seeing the Peaks\n",
        "Even among students who complete an undergraduate science or engineering degree, only a very small fraction understand the connection between the math they have learned (calculus, linear algebra, differential equations) with the computer algorithms used to solve real world problems.  The workings of these algorithms are like mountain peaks shrouded in clouds year-around.  Approach this holiday experience as guided sight-seeing tour of one of these peaks.  No tests, no grades, just watch, listen, crack a joke, laugh, make friends, and enjoy.  All sessions will be at night (8 PM or later) when you are actually awake!  We will meet in person to watch the brave ones who will present orally what they have learned and compete for the $200.  Dates, times, and location to be determined."
      ],
      "metadata": {
        "id": "-sVLkXrtoxvc"
      }
    }
  ]
}