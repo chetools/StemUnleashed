{
  "cells": [
    {
      "cell_type": "markdown",
      "metadata": {
        "id": "view-in-github",
        "colab_type": "text"
      },
      "source": [
        "<a href=\"https://colab.research.google.com/github/profteachkids/StemUnleashed/blob/main/Pyomo_on_Google_Colab.ipynb\" target=\"_parent\"><img src=\"https://colab.research.google.com/assets/colab-badge.svg\" alt=\"Open In Colab\"/></a>"
      ]
    },
    {
      "cell_type": "markdown",
      "metadata": {
        "id": "GxSxNDFYuq6n",
        "pycharm": {}
      },
      "source": [
        "# Running Pyomo on Google Colab\n",
        "\n",
        "Keywords: installation"
      ]
    },
    {
      "cell_type": "markdown",
      "metadata": {
        "id": "pJHU-Rpkglqq",
        "pycharm": {}
      },
      "source": [
        "This note notebook shows how to install the basic pyomo package on Google Colab, and then demonstrates the subsequent installation and use of various solvers including\n",
        "\n",
        "* GLPK\n",
        "* COIN-OR CBC\n",
        "* COIN-OR Ipopt\n",
        "* COIN-OR Bonmin\n",
        "* COIN-OR Couenne\n",
        "* COIN-OR Gecode"
      ]
    },
    {
      "cell_type": "markdown",
      "metadata": {
        "id": "jJrxAaqcuzFw",
        "pycharm": {}
      },
      "source": [
        "## Basic installation of Pyomo\n",
        "\n",
        "We'll do a quiet installation of pyomo using `pip`.  This needs to be done once at the start of each Colab session."
      ]
    },
    {
      "cell_type": "code",
      "execution_count": null,
      "metadata": {
        "colab": {
          "base_uri": "https://localhost:8080/",
          "height": 68
        },
        "id": "yTGBrqQO3vT2",
        "outputId": "7350a7c8-06c0-4e2f-d47b-6b7304da142b",
        "pycharm": {}
      },
      "outputs": [
        {
          "name": "stdout",
          "output_type": "stream",
          "text": [
            "\u001b[K    100% |████████████████████████████████| 2.1MB 12.6MB/s \n",
            "\u001b[K    100% |████████████████████████████████| 51kB 19.4MB/s \n",
            "\u001b[K    100% |████████████████████████████████| 256kB 28.6MB/s \n",
            "\u001b[?25h"
          ]
        }
      ],
      "source": [
        "!pip install -q pyomo"
      ]
    },
    {
      "cell_type": "markdown",
      "metadata": {
        "id": "pa5VjPfw7Xfm",
        "pycharm": {}
      },
      "source": [
        "The installation of pyomo can be verified by entering a simple model. We'll use the model again in subsequent cells to demonstrate the installation and execution of various solvers."
      ]
    },
    {
      "cell_type": "code",
      "execution_count": null,
      "metadata": {
        "id": "LkpGUtiS60lD",
        "pycharm": {}
      },
      "outputs": [],
      "source": [
        "from pyomo.environ import *\n",
        "\n",
        "# create a model\n",
        "model = ConcreteModel()\n",
        "\n",
        "# declare decision variables\n",
        "model.x = Var(domain=NonNegativeReals)\n",
        "model.y = Var(domain=NonNegativeReals)\n",
        "\n",
        "# declare objective\n",
        "model.profit = Objective(expr = 40*model.x + 30*model.y, sense=maximize)\n",
        "\n",
        "# declare constraints\n",
        "model.demand = Constraint(expr = model.x <= 40)\n",
        "model.laborA = Constraint(expr = model.x + model.y <= 80)\n",
        "model.laborB = Constraint(expr = 2*model.x + model.y <= 100)\n",
        "\n",
        "model.pprint()"
      ]
    },
    {
      "cell_type": "markdown",
      "metadata": {
        "id": "dGbhGS4u7vyV",
        "pycharm": {}
      },
      "source": [
        "## GLPK installation\n",
        "\n",
        "Keywords: GLPK\n",
        "\n",
        "[GLPK](https://en.wikibooks.org/wiki/GLPK) is a the open-source **G**NU **L**inear **P**rogramming **K**it available for use under the GNU General Public License 3. GLPK is a single-threaded simplex solver generally suited to small to medium scale linear-integer programming problems. It is written in C with minimal dependencies and is therefore highly portable among computers and operating systems. GLPK is often 'good enough' for many examples. For larger problems users should consider higher-performance solvers, such as COIN-OR CBC, that can take advantage of multi-threaded processors."
      ]
    },
    {
      "cell_type": "code",
      "execution_count": null,
      "metadata": {
        "id": "aXNQCk6ywINU",
        "pycharm": {}
      },
      "outputs": [],
      "source": [
        "!apt-get install -y -qq glpk-utils"
      ]
    },
    {
      "cell_type": "code",
      "execution_count": null,
      "metadata": {
        "id": "HsTASLpi8sdg",
        "pycharm": {}
      },
      "outputs": [],
      "source": [
        "SolverFactory('glpk', executable='/usr/bin/glpsol').solve(model).write()"
      ]
    },
    {
      "cell_type": "markdown",
      "metadata": {
        "id": "4bV-uLVe8yu0",
        "pycharm": {}
      },
      "source": [
        "## COIN-OR CBC installation\n",
        "\n",
        "Keywords: cbc installation\n",
        "\n",
        "[COIN-OR CBC](https://github.com/coin-or/Cbc) is a multi-threaded open-source **C**oin-or **b**ranch and **c**ut mixed-integer linear programming solver written in C++ under the Eclipse Public License (EPL). CBC is generally a good choice for a general purpose MILP solver for medium to large scale problems."
      ]
    },
    {
      "cell_type": "code",
      "execution_count": null,
      "metadata": {
        "id": "gFF1UnKYwPOe",
        "pycharm": {}
      },
      "outputs": [],
      "source": [
        "!apt-get install -y -qq coinor-cbc"
      ]
    },
    {
      "cell_type": "code",
      "execution_count": null,
      "metadata": {
        "id": "SgtBao9G9K2R",
        "pycharm": {}
      },
      "outputs": [],
      "source": [
        "SolverFactory('cbc', executable='/usr/bin/cbc').solve(model).write()"
      ]
    },
    {
      "cell_type": "markdown",
      "metadata": {
        "id": "OdcuIo9yvA7E",
        "pycharm": {}
      },
      "source": [
        "## COIN-OR Ipopt installation\n",
        "\n",
        "Keywords: Ipopt installation\n",
        "\n",
        "[COIN-OR Ipopt](https://github.com/coin-or/Ipopt) is an open-source **I**nterior **P**oint **Opt**imizer for large-scale nonlinear optimization available under the Eclipse Public License (EPL). It is well-suited to solving nonlinear programming problems without integer or binary constraints."
      ]
    },
    {
      "cell_type": "code",
      "execution_count": null,
      "metadata": {
        "id": "dMyKsixjvCAj",
        "pycharm": {}
      },
      "outputs": [],
      "source": [
        "!wget -N -q \"https://ampl.com/dl/open/ipopt/ipopt-linux64.zip\"\n",
        "!unzip -o -q ipopt-linux64"
      ]
    },
    {
      "cell_type": "code",
      "execution_count": null,
      "metadata": {
        "id": "LvFczDKg96aX",
        "pycharm": {}
      },
      "outputs": [],
      "source": [
        "SolverFactory('ipopt', executable='/content/ipopt').solve(model).write()"
      ]
    },
    {
      "cell_type": "markdown",
      "metadata": {
        "id": "Q1ru4X2kuxdl",
        "pycharm": {}
      },
      "source": [
        "## COIN-OR Bonmin installation\n",
        "\n",
        "[COIN-OR Bonmin](https://www.coin-or.org/Bonmin/Intro.html) is a **b**asic **o**pen-source solver for **n**onlinear **m**ixed-**in**teger programming problems (MINLP). It utilizes CBC and Ipopt for solving relaxed subproblems."
      ]
    },
    {
      "cell_type": "code",
      "execution_count": null,
      "metadata": {
        "id": "PVB4C4rZGd_o",
        "pycharm": {}
      },
      "outputs": [],
      "source": [
        "!wget -N -q \"https://ampl.com/dl/open/bonmin/bonmin-linux64.zip\"\n",
        "!unzip -o -q bonmin-linux64"
      ]
    },
    {
      "cell_type": "code",
      "execution_count": null,
      "metadata": {
        "id": "BO_KJVUs-bwS",
        "pycharm": {}
      },
      "outputs": [],
      "source": [
        "SolverFactory('bonmin', executable='/content/bonmin').solve(model).write()"
      ]
    },
    {
      "cell_type": "markdown",
      "metadata": {
        "id": "TWi6TZIN_RFh",
        "pycharm": {}
      },
      "source": [
        "## COIN-OR Couenne installation\n",
        "\n",
        "[COIN-OR Couenne](https://www.coin-or.org/Couenne/)  is attempts to find global optima for mixed-integer nonlinear programming problems (MINLP)."
      ]
    },
    {
      "cell_type": "code",
      "execution_count": null,
      "metadata": {
        "id": "LDhJE0ba_RFi",
        "pycharm": {}
      },
      "outputs": [],
      "source": [
        "!wget -N -q \"https://ampl.com/dl/open/couenne/couenne-linux64.zip\"\n",
        "!unzip -o -q couenne-linux64"
      ]
    },
    {
      "cell_type": "code",
      "execution_count": null,
      "metadata": {
        "id": "rysHICYQ_RFl",
        "pycharm": {}
      },
      "outputs": [],
      "source": [
        "SolverFactory('couenne', executable='/content/couenne').solve(model).write()"
      ]
    },
    {
      "cell_type": "markdown",
      "metadata": {
        "id": "rJTfzez9AtRg",
        "pycharm": {}
      },
      "source": [
        "## Gecode installation\n",
        "\n",
        "Keywords: Gecode installation"
      ]
    },
    {
      "cell_type": "code",
      "execution_count": null,
      "metadata": {
        "id": "NcVDCv1qAtRi",
        "pycharm": {}
      },
      "outputs": [],
      "source": [
        "!wget -N -q \"https://ampl.com/dl/open/gecode/gecode-linux64.zip\"\n",
        "!unzip -o -q gecode-linux64"
      ]
    },
    {
      "cell_type": "markdown",
      "metadata": {
        "id": "GBVLdNHKBYdI",
        "pycharm": {}
      },
      "source": [
        "Gecode solves constraint programming problems and does not support continuous variables. We therefore create a second model using exclusively discrete variables."
      ]
    },
    {
      "cell_type": "code",
      "execution_count": null,
      "metadata": {
        "id": "l0XB0yXVA-Lq",
        "pycharm": {}
      },
      "outputs": [],
      "source": [
        "from pyomo.environ import *\n",
        "\n",
        "# create a model\n",
        "discrete_model = ConcreteModel()\n",
        "\n",
        "# declare decision variables\n",
        "discrete_model.x = Var(domain=NonNegativeIntegers)\n",
        "discrete_model.y = Var(domain=NonNegativeIntegers)\n",
        "\n",
        "# declare objective\n",
        "discrete_model.profit = Objective(expr = 40*discrete_model.x + 30*discrete_model.y, sense=maximize)\n",
        "\n",
        "# declare constraints\n",
        "discrete_model.demand = Constraint(expr = discrete_model.x <= 40)\n",
        "discrete_model.laborA = Constraint(expr = discrete_model.x + discrete_model.y <= 80)\n",
        "discrete_model.laborB = Constraint(expr = 2*discrete_model.x + discrete_model.y <= 100)\n",
        "\n",
        "discrete_model.pprint()"
      ]
    },
    {
      "cell_type": "code",
      "execution_count": null,
      "metadata": {
        "id": "7fu6Nb6lAtRm",
        "pycharm": {}
      },
      "outputs": [],
      "source": [
        "SolverFactory('gecode', executable='/content/gecode').solve(discrete_model).write()\n",
        "\n"
      ]
    }
  ],
  "metadata": {
    "colab": {
      "collapsed_sections": [],
      "name": "Pyomo-on-Google-Colab.ipynb",
      "provenance": [],
      "toc_visible": true,
      "include_colab_link": true
    },
    "kernelspec": {
      "display_name": "Python 3",
      "language": "python",
      "name": "python3"
    },
    "language_info": {
      "codemirror_mode": {
        "name": "ipython",
        "version": 3
      },
      "file_extension": ".py",
      "mimetype": "text/x-python",
      "name": "python",
      "nbconvert_exporter": "python",
      "pygments_lexer": "ipython3",
      "version": "3.7.3"
    }
  },
  "nbformat": 4,
  "nbformat_minor": 0
}