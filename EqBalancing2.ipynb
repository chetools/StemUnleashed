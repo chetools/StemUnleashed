{
  "nbformat": 4,
  "nbformat_minor": 0,
  "metadata": {
    "colab": {
      "name": "EqBalancing2.ipynb",
      "provenance": [],
      "authorship_tag": "ABX9TyNS+oe3aZ2fWuD0Yb61Hons",
      "include_colab_link": true
    },
    "kernelspec": {
      "name": "python3",
      "display_name": "Python 3"
    },
    "language_info": {
      "name": "python"
    }
  },
  "cells": [
    {
      "cell_type": "markdown",
      "metadata": {
        "id": "view-in-github",
        "colab_type": "text"
      },
      "source": [
        "<a href=\"https://colab.research.google.com/github/profteachkids/StemUnleashed/blob/main/EqBalancing2.ipynb\" target=\"_parent\"><img src=\"https://colab.research.google.com/assets/colab-badge.svg\" alt=\"Open In Colab\"/></a>"
      ]
    },
    {
      "cell_type": "code",
      "source": [
        "import re\n",
        "import pandas as pd\n",
        "import numpy as np"
      ],
      "metadata": {
        "id": "HUukXl4GMVgI"
      },
      "execution_count": 1,
      "outputs": []
    },
    {
      "cell_type": "code",
      "execution_count": 2,
      "metadata": {
        "id": "j6tB_eABLjqf"
      },
      "outputs": [],
      "source": [
        "rxn=r'aKNO3 + 5C12H22O11 -> bN2 + cCO2 + dH2O + eK2CO3'"
      ]
    },
    {
      "cell_type": "code",
      "source": [
        "rxn = re.sub(r'\\s+','',rxn)\n",
        "left_rxn,right_rxn = rxn.split('->')"
      ],
      "metadata": {
        "id": "wvstEZfVMQSj"
      },
      "execution_count": 3,
      "outputs": []
    },
    {
      "cell_type": "code",
      "source": [
        "stoic_pat=re.compile(r'(.*?)([A-Z].*)')\n",
        "atom_pat=re.compile(r'([A-Z][a-z]?)(\\d*)')"
      ],
      "metadata": {
        "id": "meWZhwL7NDSD"
      },
      "execution_count": 4,
      "outputs": []
    },
    {
      "cell_type": "code",
      "source": [
        "def process_side(side,sign):\n",
        "    stoic_mols = side.split('+')\n",
        "    mol_dict={}\n",
        "    for stoic_mol in stoic_mols:\n",
        "        res = stoic_pat.match(stoic_mol)\n",
        "        stoic=res[1]\n",
        "        stoic = 1 if stoic=='' else stoic\n",
        "        mol=res[2]\n",
        "        atom_nums = atom_pat.findall(mol)\n",
        "        d={'stoic':stoic}\n",
        "        for atom,num in atom_nums:\n",
        "            d[atom]=sign*(1 if num=='' else int(num))\n",
        "        mol_dict[mol]=d\n",
        "    df=pd.DataFrame(mol_dict)\n",
        "    df=df.fillna(0)\n",
        "    return df"
      ],
      "metadata": {
        "id": "vg7_1y6RMtVs"
      },
      "execution_count": 5,
      "outputs": []
    },
    {
      "cell_type": "code",
      "source": [
        "df_left=process_side(left_rxn,-1)\n",
        "df_right=process_side(right_rxn,1)\n",
        "df=pd.concat((df_left,df_right),axis=1)\n",
        "fixed_col=pd.to_numeric(df.loc['stoic',:],errors='coerce').notna()\n",
        "\n",
        "atom_num=df.iloc[1:,:].astype(int)\n",
        "fixed_atom_num=atom_num.loc[:,fixed_col].to_numpy()\n",
        "fixed_stoic=df.loc['stoic',fixed_col].astype(int).to_numpy()"
      ],
      "metadata": {
        "id": "_lENIlZKTV_r"
      },
      "execution_count": 6,
      "outputs": []
    },
    {
      "cell_type": "code",
      "source": [
        "rhs=-np.sum(fixed_stoic*fixed_atom_num,axis=1)\n",
        "A=atom_num.loc[:,~fixed_col].to_numpy()"
      ],
      "metadata": {
        "id": "VXo6WT1OTsug"
      },
      "execution_count": 7,
      "outputs": []
    },
    {
      "cell_type": "code",
      "source": [
        "unk_stoic=np.linalg.solve(A,rhs)\n",
        "df_stoic=df.loc['stoic',:]\n",
        "df_stoic[~fixed_col]=unk_stoic"
      ],
      "metadata": {
        "id": "nltWbmgoZ3uH"
      },
      "execution_count": 8,
      "outputs": []
    },
    {
      "cell_type": "code",
      "source": [
        "nleft=len(left_rxn.split('+'))\n",
        "nright=len(right_rxn.split('+'))"
      ],
      "metadata": {
        "id": "zrVuwB2gZLnk"
      },
      "execution_count": 9,
      "outputs": []
    },
    {
      "cell_type": "code",
      "source": [
        "for i,(stoic, mol) in enumerate(zip(df_stoic[:nleft],df.columns[:nleft])):\n",
        "    print(f'{int(stoic)}{mol}',end='')\n",
        "    if i<nleft-1:\n",
        "        print(' + ',end='')\n",
        "print(' -> ', end='')\n",
        "for i,(stoic, mol) in enumerate(zip(df_stoic[nleft:],df.columns[nleft:])):\n",
        "    print(f'{int(stoic)}{mol}',end='')\n",
        "    if i<nright-1:\n",
        "        print(' + ',end='')"
      ],
      "metadata": {
        "colab": {
          "base_uri": "https://localhost:8080/"
        },
        "id": "y1vD4kLzWCeO",
        "outputId": "3e0b7bb2-c202-432e-8801-f55090b63908"
      },
      "execution_count": 10,
      "outputs": [
        {
          "output_type": "stream",
          "name": "stdout",
          "text": [
            "48KNO3 + 5C12H22O11 -> 24N2 + 36CO2 + 55H2O + 24K2CO3"
          ]
        }
      ]
    },
    {
      "cell_type": "code",
      "source": [
        ""
      ],
      "metadata": {
        "id": "-FaSdkJxWZAe"
      },
      "execution_count": 10,
      "outputs": []
    }
  ]
}