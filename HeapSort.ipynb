{
  "nbformat": 4,
  "nbformat_minor": 0,
  "metadata": {
    "colab": {
      "name": "HeapSort",
      "provenance": [],
      "authorship_tag": "ABX9TyOIZvTizJhfEtvgmwmwj4Cu",
      "include_colab_link": true
    },
    "kernelspec": {
      "name": "python3",
      "display_name": "Python 3"
    },
    "language_info": {
      "name": "python"
    }
  },
  "cells": [
    {
      "cell_type": "markdown",
      "metadata": {
        "id": "view-in-github",
        "colab_type": "text"
      },
      "source": [
        "<a href=\"https://colab.research.google.com/github/profteachkids/StemUnleashed/blob/main/HeapSort.ipynb\" target=\"_parent\"><img src=\"https://colab.research.google.com/assets/colab-badge.svg\" alt=\"Open In Colab\"/></a>"
      ]
    },
    {
      "cell_type": "code",
      "execution_count": 1,
      "metadata": {
        "id": "nBYePxkoD-V6"
      },
      "outputs": [],
      "source": [
        "import numpy as np"
      ]
    },
    {
      "cell_type": "code",
      "source": [
        "def min_node(x,n,i):\n",
        "\n",
        "    stack=[i]\n",
        "\n",
        "    while stack:\n",
        "        node = stack.pop()\n",
        "        left=2*node+1\n",
        "        right=2*node+2\n",
        "\n",
        "        largest = node\n",
        "        if left<n and x[left]>x[largest]:\n",
        "            largest = left\n",
        "\n",
        "        if right<n and x[right]>x[largest]:\n",
        "            largest = right\n",
        "\n",
        "        if largest!=node:\n",
        "            x[largest],x[node]=x[node],x[largest]\n",
        "            stack.append(largest)\n",
        "        \n",
        "\n",
        "def min_heap(x,n):\n",
        "    start=int(2**(np.floor(np.log2(n+1)))-1)\n",
        "    for i in range(start,-1,-1):\n",
        "        min_node(x,n,i)\n",
        "\n",
        "def heapsort(x):\n",
        "    N=len(x)\n",
        "    min_heap(x,N)\n",
        "    for n in range(N-1,0,-1):\n",
        "        x[n],x[0]=x[0],x[n]\n",
        "        min_heap(x,n)"
      ],
      "metadata": {
        "id": "tfPQdtruEAg2"
      },
      "execution_count": 45,
      "outputs": []
    },
    {
      "cell_type": "code",
      "source": [
        "x=list(np.random.permutation(np.arange(1e2)))*2"
      ],
      "metadata": {
        "id": "DniyEFLZG6Sz"
      },
      "execution_count": 55,
      "outputs": []
    },
    {
      "cell_type": "code",
      "source": [
        "heapsort(x)"
      ],
      "metadata": {
        "id": "ZWWHrrFoHsvl"
      },
      "execution_count": 58,
      "outputs": []
    },
    {
      "cell_type": "code",
      "source": [
        ""
      ],
      "metadata": {
        "id": "YnqIcmYjJ8wH"
      },
      "execution_count": null,
      "outputs": []
    }
  ]
}