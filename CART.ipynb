{
  "nbformat": 4,
  "nbformat_minor": 0,
  "metadata": {
    "colab": {
      "provenance": [],
      "authorship_tag": "ABX9TyPVhXNhR0/ocotM/SYgrVug",
      "include_colab_link": true
    },
    "kernelspec": {
      "name": "python3",
      "display_name": "Python 3"
    },
    "language_info": {
      "name": "python"
    }
  },
  "cells": [
    {
      "cell_type": "markdown",
      "metadata": {
        "id": "view-in-github",
        "colab_type": "text"
      },
      "source": [
        "<a href=\"https://colab.research.google.com/github/profteachkids/StemUnleashed/blob/main/CART.ipynb\" target=\"_parent\"><img src=\"https://colab.research.google.com/assets/colab-badge.svg\" alt=\"Open In Colab\"/></a>"
      ]
    },
    {
      "cell_type": "code",
      "execution_count": 1,
      "metadata": {
        "id": "CpBOmmTMTuHU"
      },
      "outputs": [],
      "source": [
        "import numpy as np\n",
        "import pandas as pd"
      ]
    },
    {
      "cell_type": "code",
      "source": [
        "data_gen_param = [['a',10, [1., 3., 'ee']],\n",
        "       ['b',8, [1., 3., 'ff']],\n",
        "       ['c',5,[1.5, 3., 'ee']]]"
      ],
      "metadata": {
        "id": "enC3PiymTvq1"
      },
      "execution_count": 54,
      "outputs": []
    },
    {
      "cell_type": "code",
      "source": [
        "rand=np.random.RandomState(123)\n",
        "labels=[]\n",
        "xs=[]\n",
        "dfs=[]\n",
        "for [label, n, avgs] in data_gen_param:\n",
        "    labels.append(label)\n",
        "    df=pd.DataFrame()\n",
        "    for i,avg in enumerate(avgs):\n",
        "        if type(avg) is float:\n",
        "            df[f'P{i}']=rand.normal(avg,1.,size=n)\n",
        "        else:\n",
        "            df[f'P{i}']=avg\n",
        "    dfs.append(df)\n",
        "\n",
        "df=pd.concat(dfs, keys=labels).droplevel(1).reset_index().rename(columns={'index':'label'})\n",
        "df[['label','P2']]=df[['label','P2']].astype('category')\n",
        "features=df.iloc[:,1:]\n",
        "ilabels=df.iloc[:,0].cat.codes.values\n"
      ],
      "metadata": {
        "id": "uvGllcwXULpT"
      },
      "execution_count": 55,
      "outputs": []
    },
    {
      "cell_type": "code",
      "source": [
        "class Node():\n",
        "    def __init__(self,depth):\n",
        "        self.leftNode=None\n",
        "        self.rightNode=None\n",
        "        self.leftCounts=None\n",
        "        self.rightCounts=None\n",
        "        self.feature=None\n",
        "        self.split_value=None\n",
        "        self.depth=depth\n",
        "        self.leafCounts=None\n",
        "    \n",
        "    def __str__(self):\n",
        "        feature=split_value=leftNode=rightNode=leafCounts=''\n",
        "        if not(self.feature is None):\n",
        "            feature = '  '*self.depth + f'feature: {self.feature}\\n'\n",
        "        if not(self.split_value is None):\n",
        "            split_value = '  '*self.depth + f'split: {self.split_value}\\n'\n",
        "\n",
        "        if not(self.leftNode is None):\n",
        "            leftNode = '  '*self.depth + f'left: \\n{self.leftNode}\\n'\n",
        "        if not(self.rightNode is None):\n",
        "            rightNode = '  '*self.depth + f'right: \\n{self.rightNode}\\n'\n",
        "\n",
        "        if not(self.leafCounts is None):\n",
        "            leafCounts = '  '*self.depth + f'counts: {self.leafCounts}\\n'\n",
        "\n",
        "        return feature + split_value + leftNode + rightNode + leafCounts        \n"
      ],
      "metadata": {
        "id": "Uu9jo9yBSMlp"
      },
      "execution_count": 56,
      "outputs": []
    },
    {
      "cell_type": "code",
      "source": [
        "def find_split(idxs):\n",
        "    nidxs=idxs.size\n",
        "    nl=0\n",
        "    bins,counts=np.unique(ilabels[idxs],return_counts=True)\n",
        "    parent_counts=np.zeros(np.max(bins)+1)\n",
        "    np.add.at(parent_counts,bins,counts)\n",
        "    \n",
        "    best_gini=1-np.sum((parent_counts/nidxs)**2)\n",
        "\n",
        "    for feature_col in features.columns:\n",
        "        feature=features[feature_col].values[idxs]\n",
        "        if features[feature_col].dtype.name=='category':\n",
        "            categories, category_counts = np.unique(feature,return_counts=True)\n",
        "            if len(categories)<2:  #if less than 2, can't split\n",
        "                continue\n",
        "            for ncat, category in enumerate(categories):\n",
        "                rcounts=np.zeros_like(parent_counts)\n",
        "                iscategory = (feature == category)\n",
        "                bins, counts= np.unique(ilabels[idxs[iscategory]], return_counts=True)\n",
        "                np.add.at(rcounts,bins,counts)\n",
        "                lcounts = parent_counts-rcounts\n",
        "                nr, nl = np.sum(rcounts), np.sum(lcounts)\n",
        "                gini = nl/nidxs*(1-np.sum((lcounts/nl)**2)) + nr/nidxs*(1-np.sum((rcounts/nr)**2))\n",
        "                if gini < best_gini:\n",
        "                    best_gini=gini\n",
        "                    idxsL = idxs[iscategory]\n",
        "                    idxsR = idxs[np.logical_not(iscategory)]\n",
        "                    best_feature=feature_col\n",
        "                    best_feature_split_value = category\n",
        "\n",
        "        else:\n",
        "            rcounts=parent_counts.copy()\n",
        "            lcounts=np.zeros_like(rcounts)\n",
        "\n",
        "            sorted_feature_idx=np.argsort(feature)\n",
        "            sorted_ilabels=ilabels[idxs[sorted_feature_idx]]\n",
        "            gini=np.full(nidxs,best_gini)\n",
        "            for nl,i in enumerate(sorted_ilabels[:-1],1):\n",
        "                lcounts[i]+=1\n",
        "                rcounts[i]-=1\n",
        "                nr=nidxs-nl\n",
        "                xl=nl/nidxs\n",
        "                gini[nl-1]=xl*(1-np.sum((lcounts/nl)**2))+ (1-xl)*(1-np.sum((rcounts/nr)**2))\n",
        "            amin_gini = np.argmin(gini)\n",
        "            if gini[amin_gini]<best_gini:\n",
        "                best_gini=gini[amin_gini]\n",
        "                idxsL= idxs[sorted_feature_idx[:amin_gini+1]]\n",
        "                idxsR= idxs[sorted_feature_idx[amin_gini+1:]]\n",
        "                best_feature=feature_col\n",
        "                best_feature_split_value=(feature[sorted_feature_idx[amin_gini]]+feature[sorted_feature_idx[amin_gini+1]])/2\n",
        "\n",
        "    return best_feature,best_feature_split_value, idxsL, idxsR\n",
        "\n"
      ],
      "metadata": {
        "id": "tkdULx8DVQGk"
      },
      "execution_count": 70,
      "outputs": []
    },
    {
      "cell_type": "code",
      "source": [
        "depth=0\n",
        "root=Node(depth)\n",
        "stack=[(df.index.values,root,depth)]\n",
        "\n",
        "while len(stack)>0:\n",
        "    idxs,parent,depth=stack.pop()\n",
        "    bins,counts=np.unique(ilabels[idxs],return_counts=True)\n",
        "\n",
        "    if bins.size==1: #only one label, don't split.\n",
        "        parent.leafCounts=(bins,counts)\n",
        "        continue\n",
        "    \n",
        "    if depth>2:\n",
        "        parent.leafCounts=(bins,counts)\n",
        "        continue\n",
        "\n",
        "    feature, split_value, idxsL, idxsR = find_split(idxs)\n",
        "    parent.feature=feature\n",
        "    parent.split_value=split_value\n",
        "    parent.depth=depth\n",
        "\n",
        "    if len(idxsL)==0:\n",
        "        continue\n",
        "\n",
        "    parent.leftNode=Node(depth+1)\n",
        "    stack.append((idxsL, parent.leftNode, depth+1))\n",
        "    parent.rightNode=Node(depth+1)\n",
        "    stack.append((idxsR, parent.rightNode, depth+1))\n",
        "\n"
      ],
      "metadata": {
        "id": "R2i_nROPAdz9"
      },
      "execution_count": 85,
      "outputs": []
    },
    {
      "cell_type": "code",
      "source": [
        "print(root)"
      ],
      "metadata": {
        "id": "44peZYBrAhN5",
        "colab": {
          "base_uri": "https://localhost:8080/"
        },
        "outputId": "9effbad4-c3a3-40b6-f125-6d2870aeb8fa"
      },
      "execution_count": 86,
      "outputs": [
        {
          "output_type": "stream",
          "name": "stdout",
          "text": [
            "feature: P2\n",
            "split: ee\n",
            "left: \n",
            "  feature: P0\n",
            "  split: 0.5957755140673854\n",
            "  left: \n",
            "    counts: (array([0], dtype=int8), array([6]))\n",
            "\n",
            "  right: \n",
            "    feature: P0\n",
            "    split: 2.2270794849039097\n",
            "    left: \n",
            "      counts: (array([0, 2], dtype=int8), array([2, 5]))\n",
            "\n",
            "    right: \n",
            "      counts: (array([0], dtype=int8), array([2]))\n",
            "\n",
            "\n",
            "\n",
            "right: \n",
            "  counts: (array([1], dtype=int8), array([8]))\n",
            "\n",
            "\n"
          ]
        }
      ]
    },
    {
      "cell_type": "code",
      "source": [],
      "metadata": {
        "id": "JhY2O5lDOolk"
      },
      "execution_count": 8,
      "outputs": []
    }
  ]
}