{
  "nbformat": 4,
  "nbformat_minor": 0,
  "metadata": {
    "colab": {
      "provenance": [],
      "authorship_tag": "ABX9TyN4FRCm0uT3EyDV2RzXa+8a",
      "include_colab_link": true
    },
    "kernelspec": {
      "name": "python3",
      "display_name": "Python 3"
    },
    "language_info": {
      "name": "python"
    }
  },
  "cells": [
    {
      "cell_type": "markdown",
      "metadata": {
        "id": "view-in-github",
        "colab_type": "text"
      },
      "source": [
        "<a href=\"https://colab.research.google.com/github/profteachkids/StemUnleashed/blob/main/DiffraxPID.ipynb\" target=\"_parent\"><img src=\"https://colab.research.google.com/assets/colab-badge.svg\" alt=\"Open In Colab\"/></a>"
      ]
    },
    {
      "cell_type": "code",
      "source": [
        "!pip install diffrax"
      ],
      "metadata": {
        "colab": {
          "base_uri": "https://localhost:8080/"
        },
        "id": "KN5yYFW1hqfe",
        "outputId": "753ef10f-d6fe-4974-e7e1-b45e131d15c3"
      },
      "execution_count": 2,
      "outputs": [
        {
          "output_type": "stream",
          "name": "stdout",
          "text": [
            "Collecting diffrax\n",
            "  Downloading diffrax-0.4.0-py3-none-any.whl (159 kB)\n",
            "\u001b[?25l     \u001b[90m━━━━━━━━━━━━━━━━━━━━━━━━━━━━━━━━━━━━━━━━\u001b[0m \u001b[32m0.0/159.8 kB\u001b[0m \u001b[31m?\u001b[0m eta \u001b[36m-:--:--\u001b[0m\r\u001b[2K     \u001b[90m━━━━━━━━━━━━━━━━━━━━━━━━━━━━━━━━━━━━━━━\u001b[0m \u001b[32m159.8/159.8 kB\u001b[0m \u001b[31m9.4 MB/s\u001b[0m eta \u001b[36m0:00:00\u001b[0m\n",
            "\u001b[?25hRequirement already satisfied: jax>=0.4.3 in /usr/local/lib/python3.10/dist-packages (from diffrax) (0.4.13)\n",
            "Collecting equinox>=0.10.4 (from diffrax)\n",
            "  Downloading equinox-0.10.10-py3-none-any.whl (132 kB)\n",
            "\u001b[2K     \u001b[90m━━━━━━━━━━━━━━━━━━━━━━━━━━━━━━━━━━━━━━\u001b[0m \u001b[32m132.3/132.3 kB\u001b[0m \u001b[31m16.8 MB/s\u001b[0m eta \u001b[36m0:00:00\u001b[0m\n",
            "\u001b[?25hCollecting jaxtyping>=0.2.20 (from equinox>=0.10.4->diffrax)\n",
            "  Downloading jaxtyping-0.2.20-py3-none-any.whl (24 kB)\n",
            "Requirement already satisfied: typing-extensions>=4.5.0 in /usr/local/lib/python3.10/dist-packages (from equinox>=0.10.4->diffrax) (4.7.1)\n",
            "Requirement already satisfied: ml-dtypes>=0.1.0 in /usr/local/lib/python3.10/dist-packages (from jax>=0.4.3->diffrax) (0.2.0)\n",
            "Requirement already satisfied: numpy>=1.21 in /usr/local/lib/python3.10/dist-packages (from jax>=0.4.3->diffrax) (1.22.4)\n",
            "Requirement already satisfied: opt-einsum in /usr/local/lib/python3.10/dist-packages (from jax>=0.4.3->diffrax) (3.3.0)\n",
            "Requirement already satisfied: scipy>=1.7 in /usr/local/lib/python3.10/dist-packages (from jax>=0.4.3->diffrax) (1.10.1)\n",
            "Collecting typeguard>=2.13.3 (from jaxtyping>=0.2.20->equinox>=0.10.4->diffrax)\n",
            "  Downloading typeguard-4.0.0-py3-none-any.whl (33 kB)\n",
            "Installing collected packages: typeguard, jaxtyping, equinox, diffrax\n",
            "Successfully installed diffrax-0.4.0 equinox-0.10.10 jaxtyping-0.2.20 typeguard-4.0.0\n"
          ]
        }
      ]
    },
    {
      "cell_type": "code",
      "execution_count": 54,
      "metadata": {
        "id": "argMksJAhmGA"
      },
      "outputs": [],
      "source": [
        "from diffrax import diffeqsolve, ODETerm, Dopri5\n",
        "import jax.numpy as jnp\n",
        "import jax"
      ]
    },
    {
      "cell_type": "code",
      "source": [
        "a=0.01\n",
        "A = 1.\n",
        "qin_initial_ss = 0.1\n",
        "sq2g = jnp.sqrt(2*9.81)\n",
        "h10 = h20=qin_initial_ss**2/(a**2)/(2*9.81)\n",
        "args=dict(Kc=0.01)\n",
        "hsp = 1.1*h20\n",
        "\n",
        "def dhdt(t, hvec, args):\n",
        "    h1,h2=hvec\n",
        "    qin=qin_initial_ss\n",
        "    qcontrol= args['Kc']*(hsp - h20)\n",
        "    q12 = a*sq2g*(h1**0.5)\n",
        "    q2 = a*sq2g*(h2**0.5)\n",
        "    return jnp.array( [(qin + qcontrol - q12)/A, (q12 - q2)/A])\n",
        "\n",
        "\n",
        "dhdt_term = ODETerm(dhdt)\n",
        "solver = Dopri5()\n"
      ],
      "metadata": {
        "id": "-IN_1bVghn4b"
      },
      "execution_count": 152,
      "outputs": []
    },
    {
      "cell_type": "code",
      "source": [
        "def h(t, y, args):\n",
        "    return diffeqsolve(dhdt_term, solver, t0=0, t1=t, dt0=0.1, y0=jnp.array([h10, h20]), args=args).ys[0]"
      ],
      "metadata": {
        "id": "wcsjiDFZhxFd"
      },
      "execution_count": 153,
      "outputs": []
    },
    {
      "cell_type": "code",
      "source": [
        "def loss_integrand(t,y,args):\n",
        "    return (hsp-h(t,None,args)[1])\n",
        "\n",
        "loss_integrand_term = ODETerm(loss_integrand)\n",
        "\n",
        "def integrated_loss(args):\n",
        "    integral=diffeqsolve(loss_integrand_term, solver, t0=0,t1=2., dt0=0.1, y0=jnp.array(0.), args=args)\n",
        "    return integral.ys[0]"
      ],
      "metadata": {
        "id": "5t3hHS04jOIb"
      },
      "execution_count": 164,
      "outputs": []
    },
    {
      "cell_type": "code",
      "source": [
        "integrated_loss(args)"
      ],
      "metadata": {
        "colab": {
          "base_uri": "https://localhost:8080/"
        },
        "id": "JIbcyLuij477",
        "outputId": "31e9c0b0-c438-4836-c392-25aaccd1472f"
      },
      "execution_count": 165,
      "outputs": [
        {
          "output_type": "execute_result",
          "data": {
            "text/plain": [
              "Array(1.0135515, dtype=float32, weak_type=True)"
            ]
          },
          "metadata": {},
          "execution_count": 165
        }
      ]
    },
    {
      "cell_type": "code",
      "source": [
        "valgrad=jax.jit(jax.value_and_grad(integrated_loss))"
      ],
      "metadata": {
        "id": "gBl5gp5ll6bA"
      },
      "execution_count": 166,
      "outputs": []
    },
    {
      "cell_type": "code",
      "source": [
        "args=dict(Kc=0.9)\n",
        "valgrad(args)"
      ],
      "metadata": {
        "colab": {
          "base_uri": "https://localhost:8080/"
        },
        "id": "NO726iMOmUrp",
        "outputId": "6ef5495d-8768-44b8-c473-cbf0c70c155b"
      },
      "execution_count": 167,
      "outputs": [
        {
          "output_type": "execute_result",
          "data": {
            "text/plain": [
              "(Array(1.0135515, dtype=float32, weak_type=True),\n",
              " {'Kc': Array(-0.00632896, dtype=float32, weak_type=True)})"
            ]
          },
          "metadata": {},
          "execution_count": 167
        }
      ]
    },
    {
      "cell_type": "code",
      "source": [],
      "metadata": {
        "id": "FFGLKF0SoVNt"
      },
      "execution_count": null,
      "outputs": []
    }
  ]
}