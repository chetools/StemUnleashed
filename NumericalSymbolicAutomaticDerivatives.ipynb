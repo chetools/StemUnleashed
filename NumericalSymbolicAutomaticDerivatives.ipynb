{
  "nbformat": 4,
  "nbformat_minor": 0,
  "metadata": {
    "colab": {
      "provenance": [],
      "authorship_tag": "ABX9TyOzULy23jDz61w0b9GTtsza",
      "include_colab_link": true
    },
    "kernelspec": {
      "name": "python3",
      "display_name": "Python 3"
    },
    "language_info": {
      "name": "python"
    }
  },
  "cells": [
    {
      "cell_type": "markdown",
      "metadata": {
        "id": "view-in-github",
        "colab_type": "text"
      },
      "source": [
        "<a href=\"https://colab.research.google.com/github/profteachkids/StemUnleashed/blob/main/NumericalSymbolicAutomaticDerivatives.ipynb\" target=\"_parent\"><img src=\"https://colab.research.google.com/assets/colab-badge.svg\" alt=\"Open In Colab\"/></a>"
      ]
    },
    {
      "cell_type": "code",
      "execution_count": 1,
      "metadata": {
        "id": "rPGDdaA6XLk8"
      },
      "outputs": [],
      "source": [
        "import numpy as np\n",
        "import jax.numpy as jnp\n",
        "import jax\n",
        "from jax.config import config\n",
        "config.update(\"jax_enable_x64\", True)"
      ]
    },
    {
      "cell_type": "code",
      "source": [
        "def f(x):\n",
        "    return jnp.cos(x)"
      ],
      "metadata": {
        "id": "pE15DjMxXOPf"
      },
      "execution_count": 2,
      "outputs": []
    },
    {
      "cell_type": "code",
      "source": [
        "def get_d2f(f):\n",
        "\n",
        "    def d2f(x,h):\n",
        "        return (f(x+h)-2*f(x)+f(x-h))/h**2\n",
        "\n",
        "    return d2f"
      ],
      "metadata": {
        "id": "Kq7tCZD1XRTQ"
      },
      "execution_count": 3,
      "outputs": []
    },
    {
      "cell_type": "code",
      "source": [
        "d2f=get_d2f(f)\n",
        "jax_d2f=jax.grad(jax.grad(f))"
      ],
      "metadata": {
        "id": "U_iCoayAXfmQ"
      },
      "execution_count": 4,
      "outputs": []
    },
    {
      "cell_type": "code",
      "source": [
        "for h in range(0,-16,-1):\n",
        "    \n",
        "    print(f'{h:3d}, {d2f(np.pi/6,10**h):25.16e} {-np.cos(np.pi/6):25.16e}  {jax_d2f(np.pi/6):25.16e}')"
      ],
      "metadata": {
        "colab": {
          "base_uri": "https://localhost:8080/"
        },
        "id": "NQ7cS_KuXiTt",
        "outputId": "a85768a2-14f3-4a8e-a08e-fa597a6e93d3"
      },
      "execution_count": 5,
      "outputs": [
        {
          "output_type": "stream",
          "name": "stderr",
          "text": [
            "WARNING:absl:No GPU/TPU found, falling back to CPU. (Set TF_CPP_MIN_LOG_LEVEL=0 and rerun for more info.)\n"
          ]
        },
        {
          "output_type": "stream",
          "name": "stdout",
          "text": [
            "  0,   -7.9621976235863934e-01   -8.6602540378443871e-01    -8.6602540378443871e-01\n",
            " -1,   -8.6530395646761105e-01   -8.6602540378443871e-01    -8.6602540378443871e-01\n",
            " -2,   -8.6601818693132770e-01   -8.6602540378443871e-01    -8.6602540378443871e-01\n",
            " -3,   -8.6602533166946216e-01   -8.6602540378443871e-01    -8.6602540378443871e-01\n",
            " -4,   -8.6602541804481348e-01   -8.6602540378443871e-01    -8.6602540378443871e-01\n",
            " -5,   -8.6602613968977937e-01   -8.6602540378443871e-01    -8.6602540378443871e-01\n",
            " -6,   -8.6608498151008462e-01   -8.6602540378443871e-01    -8.6602540378443871e-01\n",
            " -7,   -8.7707618945387378e-01   -8.6602540378443871e-01    -8.6602540378443871e-01\n",
            " -8,   -1.1102230246251563e+00   -8.6602540378443871e-01    -8.6602540378443871e-01\n",
            " -9,   -1.1102230246251564e+02   -8.6602540378443871e-01    -8.6602540378443871e-01\n",
            "-10,    0.0000000000000000e+00   -8.6602540378443871e-01    -8.6602540378443871e-01\n",
            "-11,    0.0000000000000000e+00   -8.6602540378443871e-01    -8.6602540378443871e-01\n",
            "-12,   -1.1102230246251567e+08   -8.6602540378443871e-01    -8.6602540378443871e-01\n",
            "-13,   -1.1102230246251564e+10   -8.6602540378443871e-01    -8.6602540378443871e-01\n",
            "-14,    0.0000000000000000e+00   -8.6602540378443871e-01    -8.6602540378443871e-01\n",
            "-15,   -1.1102230246251564e+14   -8.6602540378443871e-01    -8.6602540378443871e-01\n"
          ]
        }
      ]
    },
    {
      "cell_type": "code",
      "source": [
        "jax_d2f(np.pi/6)"
      ],
      "metadata": {
        "colab": {
          "base_uri": "https://localhost:8080/"
        },
        "id": "PT91MW36Xow2",
        "outputId": "86ee2810-84b4-4ebf-a3d7-d526f8663eb8"
      },
      "execution_count": 6,
      "outputs": [
        {
          "output_type": "execute_result",
          "data": {
            "text/plain": [
              "DeviceArray(-0.8660254, dtype=float64, weak_type=True)"
            ]
          },
          "metadata": {},
          "execution_count": 6
        }
      ]
    },
    {
      "cell_type": "code",
      "source": [],
      "metadata": {
        "id": "caWjOZTUY511"
      },
      "execution_count": 6,
      "outputs": []
    }
  ]
}