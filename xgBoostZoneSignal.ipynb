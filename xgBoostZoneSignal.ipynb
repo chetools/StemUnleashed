{
  "nbformat": 4,
  "nbformat_minor": 0,
  "metadata": {
    "colab": {
      "name": "xgBoostZoneSignal.ipynb",
      "provenance": [],
      "authorship_tag": "ABX9TyNBwZiUQdwFIFgoRg2f03Jc",
      "include_colab_link": true
    },
    "kernelspec": {
      "name": "python3",
      "display_name": "Python 3"
    },
    "language_info": {
      "name": "python"
    }
  },
  "cells": [
    {
      "cell_type": "markdown",
      "metadata": {
        "id": "view-in-github",
        "colab_type": "text"
      },
      "source": [
        "<a href=\"https://colab.research.google.com/github/profteachkids/StemUnleashed/blob/main/xgBoostZoneSignal.ipynb\" target=\"_parent\"><img src=\"https://colab.research.google.com/assets/colab-badge.svg\" alt=\"Open In Colab\"/></a>"
      ]
    },
    {
      "cell_type": "code",
      "source": [
        "!wget -q https://raw.githubusercontent.com/profteachkids/StemUnleashed/main/ZoneSignal.csv -O ZoneSignal.csv"
      ],
      "metadata": {
        "id": "dX0JiDvlUi9O"
      },
      "execution_count": null,
      "outputs": []
    },
    {
      "cell_type": "code",
      "execution_count": null,
      "metadata": {
        "id": "chyfWpoWUObN"
      },
      "outputs": [],
      "source": [
        "import xgboost as xgb\n",
        "import pandas as pd\n",
        "import numpy as np"
      ]
    },
    {
      "cell_type": "code",
      "source": [
        "df = pd.read_csv('ZoneSignal.csv',index_col=None)"
      ],
      "metadata": {
        "id": "3HXF4K9mUs3b"
      },
      "execution_count": null,
      "outputs": []
    },
    {
      "cell_type": "code",
      "source": [
        "df[[column for column in df.columns if column.startswith('sig')]]"
      ],
      "metadata": {
        "colab": {
          "base_uri": "https://localhost:8080/",
          "height": 424
        },
        "id": "7ppiDzevVtLs",
        "outputId": "4284eec9-3b79-4022-a8c3-fa73c252c939"
      },
      "execution_count": null,
      "outputs": [
        {
          "output_type": "execute_result",
          "data": {
            "text/plain": [
              "         sig1      sig2      sig3      sig4      sig5      sig6\n",
              "0    3.026623  5.320474  1.296976  5.832483  5.548093  0.264843\n",
              "1    2.293431  8.950831  4.387669  9.054688  0.699717  1.556249\n",
              "2    7.732456  8.867546  3.555100  6.381053  0.568196  3.532965\n",
              "3    3.509973  5.096478  1.265424  6.180144  5.626308  0.035215\n",
              "4    1.632062  6.316934  4.424000  7.828496  7.742988  2.778147\n",
              "..        ...       ...       ...       ...       ...       ...\n",
              "939  1.981237  6.110125  4.447232  7.808184  7.960261  2.652341\n",
              "940  8.723233  4.556490  7.830059  1.158852  6.848499  6.856138\n",
              "941  1.910268  6.234471  4.169279  7.802381  7.753280  2.524415\n",
              "942  3.126592  5.255111  0.999153  5.969900  5.779855  0.179822\n",
              "943  8.469710  4.276395  7.470346  1.207999  6.795674  6.927923\n",
              "\n",
              "[944 rows x 6 columns]"
            ],
            "text/html": [
              "\n",
              "  <div id=\"df-6d9d68ac-0461-4f7a-a728-36273f413843\">\n",
              "    <div class=\"colab-df-container\">\n",
              "      <div>\n",
              "<style scoped>\n",
              "    .dataframe tbody tr th:only-of-type {\n",
              "        vertical-align: middle;\n",
              "    }\n",
              "\n",
              "    .dataframe tbody tr th {\n",
              "        vertical-align: top;\n",
              "    }\n",
              "\n",
              "    .dataframe thead th {\n",
              "        text-align: right;\n",
              "    }\n",
              "</style>\n",
              "<table border=\"1\" class=\"dataframe\">\n",
              "  <thead>\n",
              "    <tr style=\"text-align: right;\">\n",
              "      <th></th>\n",
              "      <th>sig1</th>\n",
              "      <th>sig2</th>\n",
              "      <th>sig3</th>\n",
              "      <th>sig4</th>\n",
              "      <th>sig5</th>\n",
              "      <th>sig6</th>\n",
              "    </tr>\n",
              "  </thead>\n",
              "  <tbody>\n",
              "    <tr>\n",
              "      <th>0</th>\n",
              "      <td>3.026623</td>\n",
              "      <td>5.320474</td>\n",
              "      <td>1.296976</td>\n",
              "      <td>5.832483</td>\n",
              "      <td>5.548093</td>\n",
              "      <td>0.264843</td>\n",
              "    </tr>\n",
              "    <tr>\n",
              "      <th>1</th>\n",
              "      <td>2.293431</td>\n",
              "      <td>8.950831</td>\n",
              "      <td>4.387669</td>\n",
              "      <td>9.054688</td>\n",
              "      <td>0.699717</td>\n",
              "      <td>1.556249</td>\n",
              "    </tr>\n",
              "    <tr>\n",
              "      <th>2</th>\n",
              "      <td>7.732456</td>\n",
              "      <td>8.867546</td>\n",
              "      <td>3.555100</td>\n",
              "      <td>6.381053</td>\n",
              "      <td>0.568196</td>\n",
              "      <td>3.532965</td>\n",
              "    </tr>\n",
              "    <tr>\n",
              "      <th>3</th>\n",
              "      <td>3.509973</td>\n",
              "      <td>5.096478</td>\n",
              "      <td>1.265424</td>\n",
              "      <td>6.180144</td>\n",
              "      <td>5.626308</td>\n",
              "      <td>0.035215</td>\n",
              "    </tr>\n",
              "    <tr>\n",
              "      <th>4</th>\n",
              "      <td>1.632062</td>\n",
              "      <td>6.316934</td>\n",
              "      <td>4.424000</td>\n",
              "      <td>7.828496</td>\n",
              "      <td>7.742988</td>\n",
              "      <td>2.778147</td>\n",
              "    </tr>\n",
              "    <tr>\n",
              "      <th>...</th>\n",
              "      <td>...</td>\n",
              "      <td>...</td>\n",
              "      <td>...</td>\n",
              "      <td>...</td>\n",
              "      <td>...</td>\n",
              "      <td>...</td>\n",
              "    </tr>\n",
              "    <tr>\n",
              "      <th>939</th>\n",
              "      <td>1.981237</td>\n",
              "      <td>6.110125</td>\n",
              "      <td>4.447232</td>\n",
              "      <td>7.808184</td>\n",
              "      <td>7.960261</td>\n",
              "      <td>2.652341</td>\n",
              "    </tr>\n",
              "    <tr>\n",
              "      <th>940</th>\n",
              "      <td>8.723233</td>\n",
              "      <td>4.556490</td>\n",
              "      <td>7.830059</td>\n",
              "      <td>1.158852</td>\n",
              "      <td>6.848499</td>\n",
              "      <td>6.856138</td>\n",
              "    </tr>\n",
              "    <tr>\n",
              "      <th>941</th>\n",
              "      <td>1.910268</td>\n",
              "      <td>6.234471</td>\n",
              "      <td>4.169279</td>\n",
              "      <td>7.802381</td>\n",
              "      <td>7.753280</td>\n",
              "      <td>2.524415</td>\n",
              "    </tr>\n",
              "    <tr>\n",
              "      <th>942</th>\n",
              "      <td>3.126592</td>\n",
              "      <td>5.255111</td>\n",
              "      <td>0.999153</td>\n",
              "      <td>5.969900</td>\n",
              "      <td>5.779855</td>\n",
              "      <td>0.179822</td>\n",
              "    </tr>\n",
              "    <tr>\n",
              "      <th>943</th>\n",
              "      <td>8.469710</td>\n",
              "      <td>4.276395</td>\n",
              "      <td>7.470346</td>\n",
              "      <td>1.207999</td>\n",
              "      <td>6.795674</td>\n",
              "      <td>6.927923</td>\n",
              "    </tr>\n",
              "  </tbody>\n",
              "</table>\n",
              "<p>944 rows × 6 columns</p>\n",
              "</div>\n",
              "      <button class=\"colab-df-convert\" onclick=\"convertToInteractive('df-6d9d68ac-0461-4f7a-a728-36273f413843')\"\n",
              "              title=\"Convert this dataframe to an interactive table.\"\n",
              "              style=\"display:none;\">\n",
              "        \n",
              "  <svg xmlns=\"http://www.w3.org/2000/svg\" height=\"24px\"viewBox=\"0 0 24 24\"\n",
              "       width=\"24px\">\n",
              "    <path d=\"M0 0h24v24H0V0z\" fill=\"none\"/>\n",
              "    <path d=\"M18.56 5.44l.94 2.06.94-2.06 2.06-.94-2.06-.94-.94-2.06-.94 2.06-2.06.94zm-11 1L8.5 8.5l.94-2.06 2.06-.94-2.06-.94L8.5 2.5l-.94 2.06-2.06.94zm10 10l.94 2.06.94-2.06 2.06-.94-2.06-.94-.94-2.06-.94 2.06-2.06.94z\"/><path d=\"M17.41 7.96l-1.37-1.37c-.4-.4-.92-.59-1.43-.59-.52 0-1.04.2-1.43.59L10.3 9.45l-7.72 7.72c-.78.78-.78 2.05 0 2.83L4 21.41c.39.39.9.59 1.41.59.51 0 1.02-.2 1.41-.59l7.78-7.78 2.81-2.81c.8-.78.8-2.07 0-2.86zM5.41 20L4 18.59l7.72-7.72 1.47 1.35L5.41 20z\"/>\n",
              "  </svg>\n",
              "      </button>\n",
              "      \n",
              "  <style>\n",
              "    .colab-df-container {\n",
              "      display:flex;\n",
              "      flex-wrap:wrap;\n",
              "      gap: 12px;\n",
              "    }\n",
              "\n",
              "    .colab-df-convert {\n",
              "      background-color: #E8F0FE;\n",
              "      border: none;\n",
              "      border-radius: 50%;\n",
              "      cursor: pointer;\n",
              "      display: none;\n",
              "      fill: #1967D2;\n",
              "      height: 32px;\n",
              "      padding: 0 0 0 0;\n",
              "      width: 32px;\n",
              "    }\n",
              "\n",
              "    .colab-df-convert:hover {\n",
              "      background-color: #E2EBFA;\n",
              "      box-shadow: 0px 1px 2px rgba(60, 64, 67, 0.3), 0px 1px 3px 1px rgba(60, 64, 67, 0.15);\n",
              "      fill: #174EA6;\n",
              "    }\n",
              "\n",
              "    [theme=dark] .colab-df-convert {\n",
              "      background-color: #3B4455;\n",
              "      fill: #D2E3FC;\n",
              "    }\n",
              "\n",
              "    [theme=dark] .colab-df-convert:hover {\n",
              "      background-color: #434B5C;\n",
              "      box-shadow: 0px 1px 3px 1px rgba(0, 0, 0, 0.15);\n",
              "      filter: drop-shadow(0px 1px 2px rgba(0, 0, 0, 0.3));\n",
              "      fill: #FFFFFF;\n",
              "    }\n",
              "  </style>\n",
              "\n",
              "      <script>\n",
              "        const buttonEl =\n",
              "          document.querySelector('#df-6d9d68ac-0461-4f7a-a728-36273f413843 button.colab-df-convert');\n",
              "        buttonEl.style.display =\n",
              "          google.colab.kernel.accessAllowed ? 'block' : 'none';\n",
              "\n",
              "        async function convertToInteractive(key) {\n",
              "          const element = document.querySelector('#df-6d9d68ac-0461-4f7a-a728-36273f413843');\n",
              "          const dataTable =\n",
              "            await google.colab.kernel.invokeFunction('convertToInteractive',\n",
              "                                                     [key], {});\n",
              "          if (!dataTable) return;\n",
              "\n",
              "          const docLinkHtml = 'Like what you see? Visit the ' +\n",
              "            '<a target=\"_blank\" href=https://colab.research.google.com/notebooks/data_table.ipynb>data table notebook</a>'\n",
              "            + ' to learn more about interactive tables.';\n",
              "          element.innerHTML = '';\n",
              "          dataTable['output_type'] = 'display_data';\n",
              "          await google.colab.output.renderOutput(dataTable, element);\n",
              "          const docLink = document.createElement('div');\n",
              "          docLink.innerHTML = docLinkHtml;\n",
              "          element.appendChild(docLink);\n",
              "        }\n",
              "      </script>\n",
              "    </div>\n",
              "  </div>\n",
              "  "
            ]
          },
          "metadata": {},
          "execution_count": 21
        }
      ]
    },
    {
      "cell_type": "code",
      "source": [
        "dtrain = xgb.DMatrix(df[[column for column in df.columns if column.startswith('sig')]].iloc[:-100], label=df['zone'].iloc[:-100])\n",
        "dtest = xgb.DMatrix(df[[column for column in df.columns if column.startswith('sig')]].iloc[-100:], label=df['zone'].iloc[-100:])\n",
        "# specify parameters via map\n",
        "param = {'max_depth':2, 'eta':1}\n",
        "num_round = 2\n",
        "bst = xgb.train(param, dtrain, num_round)\n",
        "# make prediction\n",
        "preds = bst.predict(dtest)"
      ],
      "metadata": {
        "id": "FcJjKx6_UUAD"
      },
      "execution_count": null,
      "outputs": []
    },
    {
      "cell_type": "code",
      "source": [
        ""
      ],
      "metadata": {
        "id": "kZU9wRRPUPYJ"
      },
      "execution_count": null,
      "outputs": []
    },
    {
      "cell_type": "code",
      "source": [
        "np.round(preds,0).astype(np.int32)"
      ],
      "metadata": {
        "colab": {
          "base_uri": "https://localhost:8080/"
        },
        "id": "vwb2evWBWlNw",
        "outputId": "bcd17ba3-5548-46a8-a94e-5d54d3464bfd"
      },
      "execution_count": null,
      "outputs": [
        {
          "output_type": "execute_result",
          "data": {
            "text/plain": [
              "array([4, 2, 8, 0, 4, 8, 9, 0, 0, 6, 3, 0, 6, 6, 6, 6, 3, 9, 4, 8, 4, 6,\n",
              "       8, 2, 0, 0, 2, 6, 2, 3, 6, 6, 4, 9, 0, 2, 6, 6, 8, 8, 4, 6, 0, 2,\n",
              "       6, 0, 9, 3, 6, 9, 9, 3, 3, 8, 0, 6, 9, 2, 2, 0, 6, 9, 6, 9, 3, 6,\n",
              "       6, 4, 9, 6, 6, 6, 6, 2, 6, 0, 3, 6, 4, 4, 3, 2, 3, 2, 8, 6, 6, 0,\n",
              "       2, 9, 4, 0, 2, 3, 0, 0, 6, 0, 8, 6], dtype=int32)"
            ]
          },
          "metadata": {},
          "execution_count": 40
        }
      ]
    },
    {
      "cell_type": "code",
      "source": [
        "df['zone'].iloc[-100:].to_numpy()"
      ],
      "metadata": {
        "colab": {
          "base_uri": "https://localhost:8080/"
        },
        "id": "r90y3u8RXCfv",
        "outputId": "cb69e8eb-f785-4c91-8822-24a53a8092b7"
      },
      "execution_count": null,
      "outputs": [
        {
          "output_type": "execute_result",
          "data": {
            "text/plain": [
              "array([4, 2, 8, 0, 1, 8, 9, 0, 0, 5, 3, 0, 6, 5, 6, 5, 3, 9, 4, 8, 4, 5,\n",
              "       8, 3, 0, 1, 7, 5, 7, 3, 5, 6, 4, 9, 1, 2, 6, 7, 8, 8, 4, 5, 0, 3,\n",
              "       5, 0, 9, 3, 5, 9, 9, 3, 3, 8, 0, 6, 9, 2, 2, 0, 6, 9, 5, 9, 3, 7,\n",
              "       6, 4, 9, 7, 7, 7, 5, 7, 6, 0, 3, 5, 4, 1, 3, 2, 3, 3, 8, 5, 7, 1,\n",
              "       2, 9, 4, 0, 2, 3, 4, 0, 5, 0, 8, 5])"
            ]
          },
          "metadata": {},
          "execution_count": 41
        }
      ]
    },
    {
      "cell_type": "code",
      "source": [
        ""
      ],
      "metadata": {
        "id": "YdZbrfS-XHTP"
      },
      "execution_count": null,
      "outputs": []
    }
  ]
}