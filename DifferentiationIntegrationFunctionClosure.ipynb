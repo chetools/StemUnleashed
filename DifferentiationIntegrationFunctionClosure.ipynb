{
  "nbformat": 4,
  "nbformat_minor": 0,
  "metadata": {
    "colab": {
      "name": "DifferentiationIntegrationFunctionClosure.ipynb",
      "provenance": [],
      "authorship_tag": "ABX9TyPnJRSdjpJGw2VNtNmlI1WS",
      "include_colab_link": true
    },
    "kernelspec": {
      "name": "python3",
      "display_name": "Python 3"
    },
    "language_info": {
      "name": "python"
    }
  },
  "cells": [
    {
      "cell_type": "markdown",
      "metadata": {
        "id": "view-in-github",
        "colab_type": "text"
      },
      "source": [
        "<a href=\"https://colab.research.google.com/github/profteachkids/StemUnleashed/blob/main/DifferentiationIntegrationFunctionClosure.ipynb\" target=\"_parent\"><img src=\"https://colab.research.google.com/assets/colab-badge.svg\" alt=\"Open In Colab\"/></a>"
      ]
    },
    {
      "cell_type": "code",
      "execution_count": 1,
      "metadata": {
        "id": "SOF7swinfqt7"
      },
      "outputs": [],
      "source": [
        "import numpy as np\n",
        "import jax.numpy as jnp\n",
        "import jax\n",
        "from jax.config import config\n",
        "config.update(\"jax_enable_x64\", True)"
      ]
    },
    {
      "cell_type": "code",
      "source": [
        "def derivative(f):\n",
        "    def df(x,h=1e-6):\n",
        "        return (f(x+h)-f(x))/h\n",
        "    return df"
      ],
      "metadata": {
        "id": "BL7hTqMKfurG"
      },
      "execution_count": 2,
      "outputs": []
    },
    {
      "cell_type": "code",
      "source": [
        "def fun(x):\n",
        "    return 3*x**2"
      ],
      "metadata": {
        "id": "jtXgTsfjhhLI"
      },
      "execution_count": 31,
      "outputs": []
    },
    {
      "cell_type": "code",
      "source": [
        "df = derivative(fun)"
      ],
      "metadata": {
        "id": "Rgw4NzZ-hrZH"
      },
      "execution_count": 32,
      "outputs": []
    },
    {
      "cell_type": "code",
      "source": [
        "df(2.)"
      ],
      "metadata": {
        "colab": {
          "base_uri": "https://localhost:8080/"
        },
        "id": "1RHfBhzyhs9f",
        "outputId": "2217fdc3-eaa7-4efd-a5c4-0a5ed74097be"
      },
      "execution_count": 33,
      "outputs": [
        {
          "output_type": "execute_result",
          "data": {
            "text/plain": [
              "12.000003001944037"
            ]
          },
          "metadata": {},
          "execution_count": 33
        }
      ]
    },
    {
      "cell_type": "code",
      "source": [
        "jax_df = jax.grad(fun)"
      ],
      "metadata": {
        "id": "9td1-_j2ihbR"
      },
      "execution_count": 35,
      "outputs": []
    },
    {
      "cell_type": "code",
      "source": [
        "np.array(jax_df(2.))+1e-14"
      ],
      "metadata": {
        "colab": {
          "base_uri": "https://localhost:8080/"
        },
        "id": "dS5TD4QOilGP",
        "outputId": "4ab5bd5e-70aa-4e62-c85f-682170aed980"
      },
      "execution_count": 36,
      "outputs": [
        {
          "output_type": "execute_result",
          "data": {
            "text/plain": [
              "12.00000000000001"
            ]
          },
          "metadata": {},
          "execution_count": 36
        }
      ]
    },
    {
      "cell_type": "code",
      "source": [
        "def trap_integral(f):\n",
        "    def F(a,b,n=10):\n",
        "        h=(b-a)/n\n",
        "        x=np.linspace(a+h/2,b-h/2,n)\n",
        "        return h*np.sum(f(x))\n",
        "    return F\n"
      ],
      "metadata": {
        "id": "ZLhkTnzAi7EB"
      },
      "execution_count": 42,
      "outputs": []
    },
    {
      "cell_type": "code",
      "source": [
        "F=trap_integral(fun)"
      ],
      "metadata": {
        "id": "9lxIULo0j3FX"
      },
      "execution_count": 43,
      "outputs": []
    },
    {
      "cell_type": "code",
      "source": [
        "F(1.0, 5.0,n=1000)"
      ],
      "metadata": {
        "colab": {
          "base_uri": "https://localhost:8080/"
        },
        "id": "QYnPMSBLj4tG",
        "outputId": "619d64fd-2452-4a0b-e40d-a32f538b62f4"
      },
      "execution_count": 46,
      "outputs": [
        {
          "output_type": "execute_result",
          "data": {
            "text/plain": [
              "123.99998400000001"
            ]
          },
          "metadata": {},
          "execution_count": 46
        }
      ]
    },
    {
      "cell_type": "code",
      "source": [
        "def gauss_quad(f):\n",
        "    def F(a,b,n=2):\n",
        "        qx,w = np.polynomial.legendre.leggauss(n)\n",
        "        x=(b-a)/2 * qx + (b+a)/2\n",
        "        return (b-a)/2*np.sum(w*f(x))\n",
        "    return F"
      ],
      "metadata": {
        "id": "G50rO79SkmWm"
      },
      "execution_count": 57,
      "outputs": []
    },
    {
      "cell_type": "code",
      "source": [
        "F_gauss=gauss_quad(fun)"
      ],
      "metadata": {
        "id": "SrX0D461lO9f"
      },
      "execution_count": 58,
      "outputs": []
    },
    {
      "cell_type": "code",
      "source": [
        "F_gauss(1., 5.,)"
      ],
      "metadata": {
        "colab": {
          "base_uri": "https://localhost:8080/"
        },
        "id": "alLVAfRRlVoe",
        "outputId": "1162f843-5e97-40a8-c7cb-093581695260"
      },
      "execution_count": 59,
      "outputs": [
        {
          "output_type": "execute_result",
          "data": {
            "text/plain": [
              "124.0"
            ]
          },
          "metadata": {},
          "execution_count": 59
        }
      ]
    },
    {
      "cell_type": "code",
      "source": [
        ""
      ],
      "metadata": {
        "id": "7WW8w-ZalXrW"
      },
      "execution_count": null,
      "outputs": []
    }
  ]
}