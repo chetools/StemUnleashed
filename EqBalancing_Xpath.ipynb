{
  "nbformat": 4,
  "nbformat_minor": 0,
  "metadata": {
    "colab": {
      "name": "EqBalancing_Xpath.ipynb",
      "provenance": [],
      "collapsed_sections": [],
      "authorship_tag": "ABX9TyPr2p0kgA+hTIfaRcLyARcK",
      "include_colab_link": true
    },
    "kernelspec": {
      "name": "python3",
      "display_name": "Python 3"
    },
    "language_info": {
      "name": "python"
    }
  },
  "cells": [
    {
      "cell_type": "markdown",
      "metadata": {
        "id": "view-in-github",
        "colab_type": "text"
      },
      "source": [
        "<a href=\"https://colab.research.google.com/github/profteachkids/StemUnleashed/blob/main/EqBalancing_Xpath.ipynb\" target=\"_parent\"><img src=\"https://colab.research.google.com/assets/colab-badge.svg\" alt=\"Open In Colab\"/></a>"
      ]
    },
    {
      "cell_type": "code",
      "execution_count": 1,
      "metadata": {
        "id": "DlJR1ruG1WkE"
      },
      "outputs": [],
      "source": [
        "import requests\n",
        "from lxml import html\n",
        "import re\n",
        "import pandas as pd\n",
        "import numpy as np"
      ]
    },
    {
      "cell_type": "code",
      "source": [
        "content=requests.get(\"https://en.wikipedia.org/wiki/Chemical_element\").content\n",
        "tree = html.fromstring(content)"
      ],
      "metadata": {
        "id": "HDMni1fr1in4"
      },
      "execution_count": 2,
      "outputs": []
    },
    {
      "cell_type": "code",
      "source": [
        "symbol_names=tree.xpath(r'//table//td//a/span[@title]/@title')\n",
        "mws = tree.xpath(r'//table//td//a//span[@data-sort-value]/../text()')"
      ],
      "metadata": {
        "id": "y5NKJJtL1pS3"
      },
      "execution_count": 3,
      "outputs": []
    },
    {
      "cell_type": "code",
      "source": [
        "mws=[float(mw) for mw in mws]"
      ],
      "metadata": {
        "id": "Ri6x0wgL4BAz"
      },
      "execution_count": 4,
      "outputs": []
    },
    {
      "cell_type": "code",
      "source": [
        "sns=[symbol_name.replace(' ','').split(',') for symbol_name in symbol_names]\n",
        "symbol, name=[list(i) for i in zip(*sns)]"
      ],
      "metadata": {
        "id": "hTSUo0ss4EHM"
      },
      "execution_count": 5,
      "outputs": []
    },
    {
      "cell_type": "code",
      "source": [
        "rxn = 'aKNO3 + 5C12H22O11 -> bN2 + cCO2 + dH2O + eK2CO3'"
      ],
      "metadata": {
        "id": "jEzta3Mp9TYH"
      },
      "execution_count": 6,
      "outputs": []
    },
    {
      "cell_type": "code",
      "source": [
        "\n",
        "left,right = rxn.replace(' ','').split('->')\n",
        "\n",
        "atom_pat=re.compile(r'([A-Z][a-z]*)([0-9]*)')\n",
        "stoic_pat = re.compile(r'^([a-z]+?|[0-9]+?)(?:[A-Z][a-z]?[0-9]*)')\n",
        "\n",
        "\n",
        "\n",
        "def elementalize(side,df,sign=-1):\n",
        "    molecules = side.split('+')\n",
        "    for molecule in molecules:\n",
        "        stoic = stoic_pat.findall(molecule)\n",
        "        name=molecule[len(stoic):]\n",
        "        if len(stoic)==0:\n",
        "            n=sign\n",
        "        elif stoic[0].isnumeric():\n",
        "            n=int(stoic[0])*sign\n",
        "        else:\n",
        "            n=stoic[0]\n",
        "        df.loc['stoic',name]=n\n",
        "        atoms = atom_pat.findall(molecule)\n",
        "        for atom, num in atoms:\n",
        "            val= 1 if num=='' else int(num)\n",
        "            if atom in df.index:\n",
        "                if pd.isna(df.loc[atom,name]):\n",
        "                    df.loc[atom,name]=val\n",
        "                else:\n",
        "                    df.loc[atom,name]+=val\n",
        "            else:\n",
        "                df.loc[atom,name]=val\n",
        "    df.fillna(0,inplace=True)\n",
        "    return df\n",
        "\n",
        "def atomize(molecule):\n",
        "    atoms={}\n",
        "    print(molecule)\n",
        "\n",
        "    return atoms\n",
        "\n",
        "df=pd.DataFrame()\n",
        "df= elementalize(left,df,sign=1)\n",
        "df= elementalize(right,df,sign=-1)\n",
        "fixed_col = pd.to_numeric(df.loc['stoic'],errors='coerce').notna()\n",
        "var_col=pd.to_numeric(df.loc['stoic'],errors='coerce').isna()\n",
        "fixed_sum=(df.loc[df.index[1:],fixed_col]*pd.to_numeric(df.loc['stoic',fixed_col])).sum(axis=1)\n",
        "np.linalg.solve(df.loc[df.index[1:],var_col].to_numpy().astype(np.float64),fixed_sum.to_numpy())"
      ],
      "metadata": {
        "colab": {
          "base_uri": "https://localhost:8080/"
        },
        "id": "sHPSz-Cn-UOI",
        "outputId": "ee42e823-6897-41b8-b1fd-40edb0f98a8a"
      },
      "execution_count": 7,
      "outputs": [
        {
          "output_type": "execute_result",
          "data": {
            "text/plain": [
              "array([-48.,  24.,  36.,  55.,  24.])"
            ]
          },
          "metadata": {},
          "execution_count": 7
        }
      ]
    },
    {
      "cell_type": "code",
      "source": [
        ""
      ],
      "metadata": {
        "id": "WWtX-fw7JMeG"
      },
      "execution_count": 7,
      "outputs": []
    }
  ]
}