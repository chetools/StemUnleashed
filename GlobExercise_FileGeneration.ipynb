{
  "nbformat": 4,
  "nbformat_minor": 0,
  "metadata": {
    "colab": {
      "name": "GlobExercise_FileGeneration.ipynb",
      "provenance": [],
      "collapsed_sections": [],
      "authorship_tag": "ABX9TyP1ueKflWkyj0Fu1EuQt5OP",
      "include_colab_link": true
    },
    "kernelspec": {
      "name": "python3",
      "display_name": "Python 3"
    }
  },
  "cells": [
    {
      "cell_type": "markdown",
      "metadata": {
        "id": "view-in-github",
        "colab_type": "text"
      },
      "source": [
        "<a href=\"https://colab.research.google.com/github/profteachkids/StemUnleashed/blob/main/GlobExercise_FileGeneration.ipynb\" target=\"_parent\"><img src=\"https://colab.research.google.com/assets/colab-badge.svg\" alt=\"Open In Colab\"/></a>"
      ]
    },
    {
      "cell_type": "code",
      "metadata": {
        "id": "8WhlNcOH3ars"
      },
      "source": [
        "import numpy as np\n",
        "import datetime\n",
        "import time\n",
        "import os\n",
        "import shutil\n",
        "from pathlib import Path\n",
        "\n"
      ],
      "execution_count": null,
      "outputs": []
    },
    {
      "cell_type": "code",
      "metadata": {
        "id": "0uxhNNHc52Ze"
      },
      "source": [
        "shutil.rmtree('/content/data', ignore_errors=True)\n",
        "os.chdir('/content')\n",
        "\n",
        "os.mkdir('data')\n",
        "os.chdir('data')\n",
        "for name in ['SampleA', 'SampleB', 'SampleC', 'SampleD']:\n",
        "  os.mkdir(name)\n",
        "  os.chdir(name)\n",
        "  for month in ['Jan', 'Feb', 'Mar']:\n",
        "    os.mkdir(month)\n",
        "    os.chdir(month)\n",
        "    for day in range(1,28,3):\n",
        "      x=np.random.normal(loc=np.linspace(0,10,50), scale=0.5)\n",
        "      y=np.random.randint(-5,5)*x + np.random.randint(-5,5)\n",
        "      y=np.random.normal(loc=y,scale=np.abs(0.1*y))\n",
        "      data = np.stack((x,y),axis=-1)\n",
        "      np.savetxt(f'Day:{day}',data,delimiter=',',fmt='%10.4f')\n",
        "    os.chdir('..')\n",
        "  os.chdir('..')\n"
      ],
      "execution_count": null,
      "outputs": []
    },
    {
      "cell_type": "code",
      "metadata": {
        "id": "bwCMHsts3oYk",
        "colab": {
          "base_uri": "https://localhost:8080/",
          "height": 35
        },
        "outputId": "1a222276-3923-4a17-de97-3ca2398a3b9c"
      },
      "source": [
        "shutil.make_archive('glob_data','zip',Path('/content/data'))"
      ],
      "execution_count": null,
      "outputs": [
        {
          "output_type": "execute_result",
          "data": {
            "application/vnd.google.colaboratory.intrinsic+json": {
              "type": "string"
            },
            "text/plain": [
              "'/content/data/glob_data.zip'"
            ]
          },
          "metadata": {},
          "execution_count": 6
        }
      ]
    },
    {
      "cell_type": "code",
      "metadata": {
        "id": "cfr_DAJQ_b_Z"
      },
      "source": [
        ""
      ],
      "execution_count": null,
      "outputs": []
    }
  ]
}