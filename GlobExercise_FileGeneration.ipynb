{
  "nbformat": 4,
  "nbformat_minor": 0,
  "metadata": {
    "colab": {
      "name": "GlobExercise_FileGeneration.ipynb",
      "provenance": [],
      "collapsed_sections": [],
      "authorship_tag": "ABX9TyNAp4aB8uxyJ3vNc9ahN4mp",
      "include_colab_link": true
    },
    "kernelspec": {
      "name": "python3",
      "display_name": "Python 3"
    }
  },
  "cells": [
    {
      "cell_type": "markdown",
      "metadata": {
        "id": "view-in-github",
        "colab_type": "text"
      },
      "source": [
        "<a href=\"https://colab.research.google.com/github/profteachkids/StemUnleashed/blob/main/GlobExercise_FileGeneration.ipynb\" target=\"_parent\"><img src=\"https://colab.research.google.com/assets/colab-badge.svg\" alt=\"Open In Colab\"/></a>"
      ]
    },
    {
      "cell_type": "code",
      "metadata": {
        "id": "8WhlNcOH3ars"
      },
      "source": [
        "import numpy as np\n",
        "import datetime\n",
        "import time\n",
        "import os\n",
        "import shutil\n",
        "from pathlib import Path\n",
        "import pandas as pd"
      ],
      "execution_count": 1,
      "outputs": []
    },
    {
      "cell_type": "code",
      "source": [
        "tech = ['Josh', 'Noah', 'Charlie', 'Lauren', 'Shobhit', 'Zach', 'ThanhTu', 'Jimmy', 'Sameer', 'Jacob', 'Luca']"
      ],
      "metadata": {
        "id": "KqCcLMYRn0Ym"
      },
      "execution_count": 32,
      "outputs": []
    },
    {
      "cell_type": "code",
      "source": [
        "dates=pd.to_datetime('now')-pd.to_timedelta(np.random.randint(1000,size=20)+10,'D')\n",
        "months=dates.month_name().str[:3]\n",
        "years=dates.year\n",
        "days=dates.day"
      ],
      "metadata": {
        "id": "Hui9z79okyV4"
      },
      "execution_count": 35,
      "outputs": []
    },
    {
      "cell_type": "code",
      "source": [
        "shutil.rmtree('/content/data', ignore_errors=True)\n",
        "root = Path('/content/data')\n",
        "root.mkdir()\n",
        "for day, month, year in zip(days, months,years):\n",
        "    file_path = Path(root, str(year), np.random.choice(tech) , month , f'{day}.csv')\n",
        "    file_path.parent.mkdir(parents=True,exist_ok=True)\n",
        "    x=np.random.normal(loc=np.linspace(0,10,50), scale=0.5)\n",
        "    y=np.random.randint(-5,5)*x + np.random.randint(-5,5)\n",
        "    y=np.random.normal(loc=y,scale=np.abs(0.1*y))\n",
        "    data = np.stack((x,y),axis=-1)\n",
        "    np.savetxt(file_path,data,delimiter=',',fmt='%10.4f')"
      ],
      "metadata": {
        "id": "-HK1S4KBlKbi"
      },
      "execution_count": 43,
      "outputs": []
    },
    {
      "cell_type": "code",
      "metadata": {
        "id": "bwCMHsts3oYk",
        "colab": {
          "base_uri": "https://localhost:8080/",
          "height": 35
        },
        "outputId": "c89652ca-8497-467d-f995-4210fcf1c35c"
      },
      "source": [
        "shutil.make_archive('glob_data','zip',Path('/content/data'))"
      ],
      "execution_count": 44,
      "outputs": [
        {
          "output_type": "execute_result",
          "data": {
            "text/plain": [
              "'/content/glob_data.zip'"
            ],
            "application/vnd.google.colaboratory.intrinsic+json": {
              "type": "string"
            }
          },
          "metadata": {},
          "execution_count": 44
        }
      ]
    },
    {
      "cell_type": "code",
      "metadata": {
        "id": "cfr_DAJQ_b_Z"
      },
      "source": [
        ""
      ],
      "execution_count": null,
      "outputs": []
    }
  ]
}