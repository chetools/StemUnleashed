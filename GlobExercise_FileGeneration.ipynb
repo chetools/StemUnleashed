{
  "nbformat": 4,
  "nbformat_minor": 0,
  "metadata": {
    "colab": {
      "name": "GlobExercise_FileGeneration.ipynb",
      "provenance": [],
      "collapsed_sections": [],
      "authorship_tag": "ABX9TyNTsknhT99tw3zrQs9PrqtS",
      "include_colab_link": true
    },
    "kernelspec": {
      "name": "python3",
      "display_name": "Python 3"
    }
  },
  "cells": [
    {
      "cell_type": "markdown",
      "metadata": {
        "id": "view-in-github",
        "colab_type": "text"
      },
      "source": [
        "<a href=\"https://colab.research.google.com/github/profteachkids/StemUnleashed/blob/main/GlobExercise_FileGeneration.ipynb\" target=\"_parent\"><img src=\"https://colab.research.google.com/assets/colab-badge.svg\" alt=\"Open In Colab\"/></a>"
      ]
    },
    {
      "cell_type": "code",
      "metadata": {
        "id": "8WhlNcOH3ars"
      },
      "source": [
        "import numpy as np\n",
        "import shutil\n",
        "from pathlib import Path\n",
        "import pandas as pd"
      ],
      "execution_count": 46,
      "outputs": []
    },
    {
      "cell_type": "code",
      "source": [
        "tech = ['Josh', 'Noah', 'Charlie', 'Lauren', 'Shobhit', 'Zach', 'ThanhTu', 'Jimmy', 'Sameer', 'Jacob', 'Luca']"
      ],
      "metadata": {
        "id": "KqCcLMYRn0Ym"
      },
      "execution_count": 47,
      "outputs": []
    },
    {
      "cell_type": "code",
      "source": [
        "dates=pd.to_datetime('now')-pd.to_timedelta(np.random.randint(1000,size=5000)+10,'D')\n",
        "months=dates.month_name().str[:3]\n",
        "years=dates.year\n",
        "days=dates.day"
      ],
      "metadata": {
        "id": "Hui9z79okyV4"
      },
      "execution_count": 52,
      "outputs": []
    },
    {
      "cell_type": "code",
      "source": [
        "shutil.rmtree('/content/data', ignore_errors=True)\n",
        "root = Path('/content/data')\n",
        "root.mkdir()\n",
        "for day, month, year in zip(days, months,years):\n",
        "    techn=np.random.randint(len(tech))\n",
        "    file_path = Path(root, str(year), tech[techn] , month , f'{day}.csv')\n",
        "    file_path.parent.mkdir(parents=True,exist_ok=True)\n",
        "    x=np.random.normal(loc=np.linspace(0,10,50), scale=0.5)\n",
        "    y=np.random.normal(loc=day//5, scale=0.1)*x + np.random.normal(techn*10, scale=0.1)\n",
        "    y=np.random.normal(loc=y,scale=np.abs(0.1*y))\n",
        "    data = np.stack((x,y),axis=-1)\n",
        "    np.savetxt(file_path,data,delimiter=',',fmt='%10.4f')"
      ],
      "metadata": {
        "id": "-HK1S4KBlKbi"
      },
      "execution_count": 56,
      "outputs": []
    },
    {
      "cell_type": "code",
      "metadata": {
        "id": "bwCMHsts3oYk",
        "colab": {
          "base_uri": "https://localhost:8080/",
          "height": 36
        },
        "outputId": "38900ba2-50a0-4544-ffd5-5520afb894db"
      },
      "source": [
        "shutil.make_archive('glob_data','zip',Path('/content/data'))"
      ],
      "execution_count": 57,
      "outputs": [
        {
          "output_type": "execute_result",
          "data": {
            "text/plain": [
              "'/content/glob_data.zip'"
            ],
            "application/vnd.google.colaboratory.intrinsic+json": {
              "type": "string"
            }
          },
          "metadata": {},
          "execution_count": 57
        }
      ]
    },
    {
      "cell_type": "code",
      "metadata": {
        "id": "cfr_DAJQ_b_Z"
      },
      "source": [
        ""
      ],
      "execution_count": null,
      "outputs": []
    }
  ]
}