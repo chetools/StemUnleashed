{
  "nbformat": 4,
  "nbformat_minor": 0,
  "metadata": {
    "colab": {
      "name": "GenerateLocationData.ipynb",
      "provenance": [],
      "authorship_tag": "ABX9TyPUvQYlnygsI/8e6FdHve0+",
      "include_colab_link": true
    },
    "kernelspec": {
      "name": "python3",
      "display_name": "Python 3"
    },
    "language_info": {
      "name": "python"
    }
  },
  "cells": [
    {
      "cell_type": "markdown",
      "metadata": {
        "id": "view-in-github",
        "colab_type": "text"
      },
      "source": [
        "<a href=\"https://colab.research.google.com/github/profteachkids/StemUnleashed/blob/main/GenerateLocationData.ipynb\" target=\"_parent\"><img src=\"https://colab.research.google.com/assets/colab-badge.svg\" alt=\"Open In Colab\"/></a>"
      ]
    },
    {
      "cell_type": "code",
      "source": [
        "!pip install Faker  "
      ],
      "metadata": {
        "colab": {
          "base_uri": "https://localhost:8080/"
        },
        "id": "GvRjyFt9PlXY",
        "outputId": "b1a01a8a-c3db-496e-f353-06ba52defa82"
      },
      "execution_count": 1,
      "outputs": [
        {
          "output_type": "stream",
          "name": "stdout",
          "text": [
            "Collecting Faker\n",
            "  Downloading Faker-13.7.0-py3-none-any.whl (1.5 MB)\n",
            "\u001b[K     |████████████████████████████████| 1.5 MB 3.9 MB/s \n",
            "\u001b[?25hRequirement already satisfied: python-dateutil>=2.4 in /usr/local/lib/python3.7/dist-packages (from Faker) (2.8.2)\n",
            "Requirement already satisfied: typing-extensions>=3.10.0.2 in /usr/local/lib/python3.7/dist-packages (from Faker) (4.2.0)\n",
            "Requirement already satisfied: six>=1.5 in /usr/local/lib/python3.7/dist-packages (from python-dateutil>=2.4->Faker) (1.15.0)\n",
            "Installing collected packages: Faker\n",
            "Successfully installed Faker-13.7.0\n"
          ]
        }
      ]
    },
    {
      "cell_type": "code",
      "execution_count": 18,
      "metadata": {
        "id": "IAIBRt3iL8aM"
      },
      "outputs": [],
      "source": [
        "import pandas as pd\n",
        "import plotly.express as px\n",
        "from faker import Faker\n",
        "import numpy as np"
      ]
    },
    {
      "cell_type": "code",
      "source": [
        "fake = Faker()\n",
        "rng=np.random.RandomState(123)\n"
      ],
      "metadata": {
        "id": "2QxgcNclPncf"
      },
      "execution_count": 21,
      "outputs": []
    },
    {
      "cell_type": "code",
      "source": [
        "base = np.array((39.1057, -84.3671))\n",
        "Nset=9\n",
        "df_list = []\n",
        "names = [fake.name_nonbinary() for _ in range(Nset)]\n",
        "for _ in names:\n",
        "    name = fake.name_nonbinary()\n",
        "    startpos = base +rng.normal(scale=0.05, size =2)\n",
        "    N=rng.randint(5,20)\n",
        "    timestart = pd.Timestamp.now(tz='EST')-pd.to_timedelta(rng.randint(50,100),unit='D')\n",
        "    pos = startpos + np.cumsum(rng.normal(scale=0.03, size =(N,2)),axis=0)\n",
        "    time = timestart + pd.to_timedelta(np.cumsum(rng.randint(10,50,size=N)),unit='s')\n",
        "    posdf = pd.DataFrame(pos,columns=['lat','long'], index=time.round('1s'))\n",
        "    posdf.index.name='time'\n",
        "    df_list.append(posdf)\n",
        "df = pd.concat(df_list,keys=names, names=['Name'])\n",
        "\n",
        "df=df.reset_index()\n",
        "df['name_time']=df['Name']+' ' + df['time'].dt.strftime('%d%b-%H:%M:%S')"
      ],
      "metadata": {
        "id": "ro8le7hyPxSQ"
      },
      "execution_count": 152,
      "outputs": []
    },
    {
      "cell_type": "code",
      "source": [
        "\n",
        "fig = px.line_mapbox(df, color=\"Name\",hover_data=[df['time']], lat=\"lat\", lon=\"long\",zoom=9, height=600, width=800)\n",
        "fig.update_traces(line_width=4)\n",
        "fig.update_layout(mapbox_style=\"open-street-map\")\n",
        "fig.update_layout(margin={\"r\":0,\"t\":0,\"l\":0,\"b\":0})\n",
        "fig.show()"
      ],
      "metadata": {
        "colab": {
          "base_uri": "https://localhost:8080/",
          "height": 617
        },
        "id": "U18aOGRSSqko",
        "outputId": "2602f0d3-2a32-413f-ec14-04db976f2c28"
      },
      "execution_count": 171,
      "outputs": [
        {
          "output_type": "display_data",
          "data": {
            "text/html": [
              "<html>\n",
              "<head><meta charset=\"utf-8\" /></head>\n",
              "<body>\n",
              "    <div>            <script src=\"https://cdnjs.cloudflare.com/ajax/libs/mathjax/2.7.5/MathJax.js?config=TeX-AMS-MML_SVG\"></script><script type=\"text/javascript\">if (window.MathJax) {MathJax.Hub.Config({SVG: {font: \"STIX-Web\"}});}</script>                <script type=\"text/javascript\">window.PlotlyConfig = {MathJaxConfig: 'local'};</script>\n",
              "        <script src=\"https://cdn.plot.ly/plotly-2.8.3.min.js\"></script>                <div id=\"8481f5ac-164f-4142-b636-794c93b09d45\" class=\"plotly-graph-div\" style=\"height:600px; width:800px;\"></div>            <script type=\"text/javascript\">                                    window.PLOTLYENV=window.PLOTLYENV || {};                                    if (document.getElementById(\"8481f5ac-164f-4142-b636-794c93b09d45\")) {                    Plotly.newPlot(                        \"8481f5ac-164f-4142-b636-794c93b09d45\",                        [{\"customdata\":[[\"2022-01-30T07:41:29-05:00\"],[\"2022-01-30T07:42:06-05:00\"],[\"2022-01-30T07:42:43-05:00\"],[\"2022-01-30T07:43:12-05:00\"],[\"2022-01-30T07:43:26-05:00\"],[\"2022-01-30T07:43:56-05:00\"],[\"2022-01-30T07:44:28-05:00\"],[\"2022-01-30T07:44:44-05:00\"]],\"hovertemplate\":\"Name=Michelle Kim<br>lat=%{lat}<br>long=%{lon}<br>time=%{customdata[0]}<extra></extra>\",\"lat\":[39.1161404128977,39.118763040651665,39.07288848632008,39.08774556144489,39.12717375678405,39.13548690202548,39.14867978489736,39.164560947367676],\"legendgroup\":\"Michelle Kim\",\"line\":{\"color\":\"#636efa\",\"width\":4},\"lon\":[-84.46267972058439,-84.39413593139787,-84.39274069649838,-84.37957674887771,-84.36312085129013,-84.30220388983696,-84.28871705183454,-84.30776380083839],\"mode\":\"lines\",\"name\":\"Michelle Kim\",\"showlegend\":true,\"subplot\":\"mapbox\",\"type\":\"scattermapbox\"},{\"customdata\":[[\"2022-02-02T07:41:36-05:00\"],[\"2022-02-02T07:42:02-05:00\"],[\"2022-02-02T07:42:25-05:00\"],[\"2022-02-02T07:42:52-05:00\"],[\"2022-02-02T07:43:17-05:00\"],[\"2022-02-02T07:43:33-05:00\"],[\"2022-02-02T07:43:52-05:00\"],[\"2022-02-02T07:44:28-05:00\"],[\"2022-02-02T07:45:16-05:00\"],[\"2022-02-02T07:45:49-05:00\"],[\"2022-02-02T07:46:30-05:00\"],[\"2022-02-02T07:47:05-05:00\"],[\"2022-02-02T07:47:33-05:00\"],[\"2022-02-02T07:47:54-05:00\"],[\"2022-02-02T07:48:17-05:00\"],[\"2022-02-02T07:48:37-05:00\"]],\"hovertemplate\":\"Name=John Mitchell<br>lat=%{lat}<br>long=%{lon}<br>time=%{customdata[0]}<extra></extra>\",\"lat\":[39.082264209896586,39.07182283088235,39.110438054977585,39.12097163312074,39.081283703554455,39.113350539436624,39.08976310798713,39.10347476879868,39.079004151120316,39.08240732917295,39.087540594198835,39.08734013119494,39.1306214223222,39.157107141359816,39.13332477594615,39.161014499818236],\"legendgroup\":\"John Mitchell\",\"line\":{\"color\":\"#EF553B\",\"width\":4},\"lon\":[-84.52536185806181,-84.5693522539719,-84.56917501827529,-84.48537059152675,-84.52674099205551,-84.47006378602535,-84.45416412601834,-84.39280040700187,-84.391770350708,-84.38261735326526,-84.36535500901698,-84.33069871723258,-84.28517764953872,-84.27800263321767,-84.34121623309716,-84.35166981729661],\"mode\":\"lines\",\"name\":\"John Mitchell\",\"showlegend\":true,\"subplot\":\"mapbox\",\"type\":\"scattermapbox\"},{\"customdata\":[[\"2022-01-29T07:41:18-05:00\"],[\"2022-01-29T07:41:37-05:00\"],[\"2022-01-29T07:42:10-05:00\"],[\"2022-01-29T07:42:28-05:00\"],[\"2022-01-29T07:43:06-05:00\"],[\"2022-01-29T07:43:55-05:00\"],[\"2022-01-29T07:44:42-05:00\"],[\"2022-01-29T07:45:09-05:00\"]],\"hovertemplate\":\"Name=Joe Wallace<br>lat=%{lat}<br>long=%{lon}<br>time=%{customdata[0]}<extra></extra>\",\"lat\":[39.11887073748403,39.102884415113515,39.066973411992734,39.05203905347097,39.033638610809085,38.99061103797297,39.010654944979336,38.973780239899234],\"legendgroup\":\"Joe Wallace\",\"line\":{\"color\":\"#00cc96\",\"width\":4},\"lon\":[-84.35167986630408,-84.34651149648192,-84.32729883890121,-84.35910385175825,-84.35323111470417,-84.37224374804609,-84.36116885561768,-84.41930976539754],\"mode\":\"lines\",\"name\":\"Joe Wallace\",\"showlegend\":true,\"subplot\":\"mapbox\",\"type\":\"scattermapbox\"},{\"customdata\":[[\"2022-02-09T07:41:45-05:00\"],[\"2022-02-09T07:42:19-05:00\"],[\"2022-02-09T07:43:01-05:00\"],[\"2022-02-09T07:43:13-05:00\"],[\"2022-02-09T07:43:36-05:00\"],[\"2022-02-09T07:43:57-05:00\"],[\"2022-02-09T07:44:08-05:00\"]],\"hovertemplate\":\"Name=Jennifer Berg<br>lat=%{lat}<br>long=%{lon}<br>time=%{customdata[0]}<extra></extra>\",\"lat\":[39.02492596506044,39.023397633278776,39.00244569609957,39.02646522436981,39.02409184268215,39.04487314989109,39.08764312055821],\"legendgroup\":\"Jennifer Berg\",\"line\":{\"color\":\"#ab63fa\",\"width\":4},\"lon\":[-84.28887326055576,-84.2156920314609,-84.22002900035139,-84.2102221637218,-84.18116257636912,-84.17329912451599,-84.15326907135295],\"mode\":\"lines\",\"name\":\"Jennifer Berg\",\"showlegend\":true,\"subplot\":\"mapbox\",\"type\":\"scattermapbox\"},{\"customdata\":[[\"2022-03-12T07:41:46-05:00\"],[\"2022-03-12T07:42:06-05:00\"],[\"2022-03-12T07:42:20-05:00\"],[\"2022-03-12T07:43:06-05:00\"],[\"2022-03-12T07:43:22-05:00\"],[\"2022-03-12T07:43:52-05:00\"],[\"2022-03-12T07:44:02-05:00\"],[\"2022-03-12T07:44:51-05:00\"],[\"2022-03-12T07:45:30-05:00\"],[\"2022-03-12T07:46:05-05:00\"],[\"2022-03-12T07:46:19-05:00\"],[\"2022-03-12T07:46:38-05:00\"],[\"2022-03-12T07:46:58-05:00\"],[\"2022-03-12T07:47:27-05:00\"],[\"2022-03-12T07:47:58-05:00\"],[\"2022-03-12T07:48:28-05:00\"],[\"2022-03-12T07:48:41-05:00\"],[\"2022-03-12T07:49:08-05:00\"]],\"hovertemplate\":\"Name=Laura Galvan<br>lat=%{lat}<br>long=%{lon}<br>time=%{customdata[0]}<extra></extra>\",\"lat\":[39.20152501574083,39.193950818195844,39.22794929229269,39.23124977606465,39.283962262215006,39.29049051114773,39.25062455836622,39.30056061932814,39.319256291145685,39.33695723597174,39.33928017843954,39.3378066941985,39.408112103004264,39.434407987969735,39.41298840820634,39.420627860053834,39.403025940829316,39.395199012800134],\"legendgroup\":\"Laura Galvan\",\"line\":{\"color\":\"#FFA15A\",\"width\":4},\"lon\":[-84.40918241493986,-84.43810548717394,-84.47036049646186,-84.45972646429854,-84.50052506206507,-84.47441273269946,-84.49630889292956,-84.50953133654671,-84.51417972331834,-84.49724013600537,-84.49938533529995,-84.49040759225018,-84.4462782975487,-84.42871919533036,-84.39964679238477,-84.41737436994596,-84.41987047699271,-84.41654667564828],\"mode\":\"lines\",\"name\":\"Laura Galvan\",\"showlegend\":true,\"subplot\":\"mapbox\",\"type\":\"scattermapbox\"},{\"customdata\":[[\"2022-02-10T07:41:24-05:00\"],[\"2022-02-10T07:41:47-05:00\"],[\"2022-02-10T07:42:15-05:00\"],[\"2022-02-10T07:42:44-05:00\"],[\"2022-02-10T07:43:29-05:00\"],[\"2022-02-10T07:44:11-05:00\"],[\"2022-02-10T07:44:49-05:00\"],[\"2022-02-10T07:45:20-05:00\"],[\"2022-02-10T07:46:03-05:00\"],[\"2022-02-10T07:46:39-05:00\"],[\"2022-02-10T07:47:12-05:00\"],[\"2022-02-10T07:47:24-05:00\"],[\"2022-02-10T07:47:52-05:00\"],[\"2022-02-10T07:48:25-05:00\"],[\"2022-02-10T07:48:38-05:00\"],[\"2022-02-10T07:49:08-05:00\"],[\"2022-02-10T07:49:30-05:00\"],[\"2022-02-10T07:49:44-05:00\"],[\"2022-02-10T07:50:20-05:00\"]],\"hovertemplate\":\"Name=Christopher May<br>lat=%{lat}<br>long=%{lon}<br>time=%{customdata[0]}<extra></extra>\",\"lat\":[39.13867640878329,39.125572467279305,39.17623660095656,39.16091791454409,39.15751382762649,39.16797725338409,39.15651954332531,39.24791170627154,39.27537508762242,39.22375629322338,39.23497404378494,39.193768266959744,39.20774328424886,39.23047102423286,39.2756991876826,39.285465099153974,39.24783745864736,39.241931770302436,39.2573799663258],\"legendgroup\":\"Christopher May\",\"line\":{\"color\":\"#19d3f3\",\"width\":4},\"lon\":[-84.3489214771955,-84.37310696138611,-84.36364166323119,-84.32290352057642,-84.32920709440162,-84.34453370624558,-84.32347935922479,-84.32511754423223,-84.30227025297503,-84.31706265853616,-84.36841810669172,-84.35807824936785,-84.32491110656956,-84.33368989281716,-84.29392122836002,-84.3065435708033,-84.3301070165731,-84.34784046622113,-84.34333824652171],\"mode\":\"lines\",\"name\":\"Christopher May\",\"showlegend\":true,\"subplot\":\"mapbox\",\"type\":\"scattermapbox\"},{\"customdata\":[[\"2022-02-12T07:41:41-05:00\"],[\"2022-02-12T07:41:54-05:00\"],[\"2022-02-12T07:42:11-05:00\"],[\"2022-02-12T07:42:33-05:00\"],[\"2022-02-12T07:42:43-05:00\"],[\"2022-02-12T07:43:05-05:00\"],[\"2022-02-12T07:43:22-05:00\"],[\"2022-02-12T07:43:43-05:00\"],[\"2022-02-12T07:44:16-05:00\"],[\"2022-02-12T07:44:29-05:00\"],[\"2022-02-12T07:45:01-05:00\"],[\"2022-02-12T07:45:37-05:00\"],[\"2022-02-12T07:46:20-05:00\"],[\"2022-02-12T07:46:31-05:00\"],[\"2022-02-12T07:46:49-05:00\"],[\"2022-02-12T07:47:03-05:00\"]],\"hovertemplate\":\"Name=Kerry Ochoa<br>lat=%{lat}<br>long=%{lon}<br>time=%{customdata[0]}<extra></extra>\",\"lat\":[39.03666999488319,38.983474622106236,38.97351064230407,38.97644813528346,38.941941054352185,38.94689127836133,38.9411607794534,38.95654655617783,38.99874020816714,39.03716752565886,39.08470085300418,39.127034900244816,39.11596674972112,39.088626517398566,39.148030586629616,39.200987499924864],\"legendgroup\":\"Kerry Ochoa\",\"line\":{\"color\":\"#FF6692\",\"width\":4},\"lon\":[-84.38593781762226,-84.3487477028741,-84.2834765201237,-84.26529881137888,-84.33827045064876,-84.3340294680017,-84.33279046422945,-84.3309014397214,-84.32314459334843,-84.29128558660513,-84.2837514788007,-84.28390210858801,-84.31530397008197,-84.37109322324362,-84.35355857812647,-84.36926883827773],\"mode\":\"lines\",\"name\":\"Kerry Ochoa\",\"showlegend\":true,\"subplot\":\"mapbox\",\"type\":\"scattermapbox\"},{\"customdata\":[[\"2022-01-28T07:41:29-05:00\"],[\"2022-01-28T07:42:02-05:00\"],[\"2022-01-28T07:42:22-05:00\"],[\"2022-01-28T07:43:03-05:00\"],[\"2022-01-28T07:43:17-05:00\"],[\"2022-01-28T07:43:45-05:00\"],[\"2022-01-28T07:44:08-05:00\"],[\"2022-01-28T07:44:48-05:00\"]],\"hovertemplate\":\"Name=Larry Dickerson<br>lat=%{lat}<br>long=%{lon}<br>time=%{customdata[0]}<extra></extra>\",\"lat\":[39.143153470330844,39.1537560216632,39.174625638970674,39.13955930493634,39.12433896167715,39.07693075016905,39.0841686229112,39.05117517097242],\"legendgroup\":\"Larry Dickerson\",\"line\":{\"color\":\"#B6E880\",\"width\":4},\"lon\":[-84.39876211619021,-84.38386025601588,-84.34367314862172,-84.32127252192366,-84.33197724580117,-84.36760233925695,-84.40493100327042,-84.40866817058395],\"mode\":\"lines\",\"name\":\"Larry Dickerson\",\"showlegend\":true,\"subplot\":\"mapbox\",\"type\":\"scattermapbox\"},{\"customdata\":[[\"2022-03-03T07:41:24-05:00\"],[\"2022-03-03T07:42:13-05:00\"],[\"2022-03-03T07:42:26-05:00\"],[\"2022-03-03T07:43:11-05:00\"],[\"2022-03-03T07:43:36-05:00\"],[\"2022-03-03T07:44:20-05:00\"],[\"2022-03-03T07:44:54-05:00\"],[\"2022-03-03T07:45:42-05:00\"],[\"2022-03-03T07:46:31-05:00\"],[\"2022-03-03T07:47:02-05:00\"],[\"2022-03-03T07:47:30-05:00\"],[\"2022-03-03T07:47:50-05:00\"]],\"hovertemplate\":\"Name=Paul Gordon<br>lat=%{lat}<br>long=%{lon}<br>time=%{customdata[0]}<extra></extra>\",\"lat\":[39.15988623150634,39.1356376630984,39.16013782017684,39.14620051174254,39.146940330303934,39.16939532284429,39.184158020990026,39.178381220562585,39.125482810423776,39.153871423958435,39.17142983628164,39.10747797446707],\"legendgroup\":\"Paul Gordon\",\"line\":{\"color\":\"#FF97FF\",\"width\":4},\"lon\":[-84.29937318883606,-84.32650026888089,-84.29729618162858,-84.3233534337736,-84.31771177415877,-84.31402337495346,-84.28579070494305,-84.28359107099601,-84.30749340773814,-84.28078010267947,-84.2790899995305,-84.28079028661911],\"mode\":\"lines\",\"name\":\"Paul Gordon\",\"showlegend\":true,\"subplot\":\"mapbox\",\"type\":\"scattermapbox\"}],                        {\"template\":{\"data\":{\"bar\":[{\"error_x\":{\"color\":\"#2a3f5f\"},\"error_y\":{\"color\":\"#2a3f5f\"},\"marker\":{\"line\":{\"color\":\"#E5ECF6\",\"width\":0.5},\"pattern\":{\"fillmode\":\"overlay\",\"size\":10,\"solidity\":0.2}},\"type\":\"bar\"}],\"barpolar\":[{\"marker\":{\"line\":{\"color\":\"#E5ECF6\",\"width\":0.5},\"pattern\":{\"fillmode\":\"overlay\",\"size\":10,\"solidity\":0.2}},\"type\":\"barpolar\"}],\"carpet\":[{\"aaxis\":{\"endlinecolor\":\"#2a3f5f\",\"gridcolor\":\"white\",\"linecolor\":\"white\",\"minorgridcolor\":\"white\",\"startlinecolor\":\"#2a3f5f\"},\"baxis\":{\"endlinecolor\":\"#2a3f5f\",\"gridcolor\":\"white\",\"linecolor\":\"white\",\"minorgridcolor\":\"white\",\"startlinecolor\":\"#2a3f5f\"},\"type\":\"carpet\"}],\"choropleth\":[{\"colorbar\":{\"outlinewidth\":0,\"ticks\":\"\"},\"type\":\"choropleth\"}],\"contour\":[{\"colorbar\":{\"outlinewidth\":0,\"ticks\":\"\"},\"colorscale\":[[0.0,\"#0d0887\"],[0.1111111111111111,\"#46039f\"],[0.2222222222222222,\"#7201a8\"],[0.3333333333333333,\"#9c179e\"],[0.4444444444444444,\"#bd3786\"],[0.5555555555555556,\"#d8576b\"],[0.6666666666666666,\"#ed7953\"],[0.7777777777777778,\"#fb9f3a\"],[0.8888888888888888,\"#fdca26\"],[1.0,\"#f0f921\"]],\"type\":\"contour\"}],\"contourcarpet\":[{\"colorbar\":{\"outlinewidth\":0,\"ticks\":\"\"},\"type\":\"contourcarpet\"}],\"heatmap\":[{\"colorbar\":{\"outlinewidth\":0,\"ticks\":\"\"},\"colorscale\":[[0.0,\"#0d0887\"],[0.1111111111111111,\"#46039f\"],[0.2222222222222222,\"#7201a8\"],[0.3333333333333333,\"#9c179e\"],[0.4444444444444444,\"#bd3786\"],[0.5555555555555556,\"#d8576b\"],[0.6666666666666666,\"#ed7953\"],[0.7777777777777778,\"#fb9f3a\"],[0.8888888888888888,\"#fdca26\"],[1.0,\"#f0f921\"]],\"type\":\"heatmap\"}],\"heatmapgl\":[{\"colorbar\":{\"outlinewidth\":0,\"ticks\":\"\"},\"colorscale\":[[0.0,\"#0d0887\"],[0.1111111111111111,\"#46039f\"],[0.2222222222222222,\"#7201a8\"],[0.3333333333333333,\"#9c179e\"],[0.4444444444444444,\"#bd3786\"],[0.5555555555555556,\"#d8576b\"],[0.6666666666666666,\"#ed7953\"],[0.7777777777777778,\"#fb9f3a\"],[0.8888888888888888,\"#fdca26\"],[1.0,\"#f0f921\"]],\"type\":\"heatmapgl\"}],\"histogram\":[{\"marker\":{\"pattern\":{\"fillmode\":\"overlay\",\"size\":10,\"solidity\":0.2}},\"type\":\"histogram\"}],\"histogram2d\":[{\"colorbar\":{\"outlinewidth\":0,\"ticks\":\"\"},\"colorscale\":[[0.0,\"#0d0887\"],[0.1111111111111111,\"#46039f\"],[0.2222222222222222,\"#7201a8\"],[0.3333333333333333,\"#9c179e\"],[0.4444444444444444,\"#bd3786\"],[0.5555555555555556,\"#d8576b\"],[0.6666666666666666,\"#ed7953\"],[0.7777777777777778,\"#fb9f3a\"],[0.8888888888888888,\"#fdca26\"],[1.0,\"#f0f921\"]],\"type\":\"histogram2d\"}],\"histogram2dcontour\":[{\"colorbar\":{\"outlinewidth\":0,\"ticks\":\"\"},\"colorscale\":[[0.0,\"#0d0887\"],[0.1111111111111111,\"#46039f\"],[0.2222222222222222,\"#7201a8\"],[0.3333333333333333,\"#9c179e\"],[0.4444444444444444,\"#bd3786\"],[0.5555555555555556,\"#d8576b\"],[0.6666666666666666,\"#ed7953\"],[0.7777777777777778,\"#fb9f3a\"],[0.8888888888888888,\"#fdca26\"],[1.0,\"#f0f921\"]],\"type\":\"histogram2dcontour\"}],\"mesh3d\":[{\"colorbar\":{\"outlinewidth\":0,\"ticks\":\"\"},\"type\":\"mesh3d\"}],\"parcoords\":[{\"line\":{\"colorbar\":{\"outlinewidth\":0,\"ticks\":\"\"}},\"type\":\"parcoords\"}],\"pie\":[{\"automargin\":true,\"type\":\"pie\"}],\"scatter\":[{\"marker\":{\"colorbar\":{\"outlinewidth\":0,\"ticks\":\"\"}},\"type\":\"scatter\"}],\"scatter3d\":[{\"line\":{\"colorbar\":{\"outlinewidth\":0,\"ticks\":\"\"}},\"marker\":{\"colorbar\":{\"outlinewidth\":0,\"ticks\":\"\"}},\"type\":\"scatter3d\"}],\"scattercarpet\":[{\"marker\":{\"colorbar\":{\"outlinewidth\":0,\"ticks\":\"\"}},\"type\":\"scattercarpet\"}],\"scattergeo\":[{\"marker\":{\"colorbar\":{\"outlinewidth\":0,\"ticks\":\"\"}},\"type\":\"scattergeo\"}],\"scattergl\":[{\"marker\":{\"colorbar\":{\"outlinewidth\":0,\"ticks\":\"\"}},\"type\":\"scattergl\"}],\"scattermapbox\":[{\"marker\":{\"colorbar\":{\"outlinewidth\":0,\"ticks\":\"\"}},\"type\":\"scattermapbox\"}],\"scatterpolar\":[{\"marker\":{\"colorbar\":{\"outlinewidth\":0,\"ticks\":\"\"}},\"type\":\"scatterpolar\"}],\"scatterpolargl\":[{\"marker\":{\"colorbar\":{\"outlinewidth\":0,\"ticks\":\"\"}},\"type\":\"scatterpolargl\"}],\"scatterternary\":[{\"marker\":{\"colorbar\":{\"outlinewidth\":0,\"ticks\":\"\"}},\"type\":\"scatterternary\"}],\"surface\":[{\"colorbar\":{\"outlinewidth\":0,\"ticks\":\"\"},\"colorscale\":[[0.0,\"#0d0887\"],[0.1111111111111111,\"#46039f\"],[0.2222222222222222,\"#7201a8\"],[0.3333333333333333,\"#9c179e\"],[0.4444444444444444,\"#bd3786\"],[0.5555555555555556,\"#d8576b\"],[0.6666666666666666,\"#ed7953\"],[0.7777777777777778,\"#fb9f3a\"],[0.8888888888888888,\"#fdca26\"],[1.0,\"#f0f921\"]],\"type\":\"surface\"}],\"table\":[{\"cells\":{\"fill\":{\"color\":\"#EBF0F8\"},\"line\":{\"color\":\"white\"}},\"header\":{\"fill\":{\"color\":\"#C8D4E3\"},\"line\":{\"color\":\"white\"}},\"type\":\"table\"}]},\"layout\":{\"annotationdefaults\":{\"arrowcolor\":\"#2a3f5f\",\"arrowhead\":0,\"arrowwidth\":1},\"autotypenumbers\":\"strict\",\"coloraxis\":{\"colorbar\":{\"outlinewidth\":0,\"ticks\":\"\"}},\"colorscale\":{\"diverging\":[[0,\"#8e0152\"],[0.1,\"#c51b7d\"],[0.2,\"#de77ae\"],[0.3,\"#f1b6da\"],[0.4,\"#fde0ef\"],[0.5,\"#f7f7f7\"],[0.6,\"#e6f5d0\"],[0.7,\"#b8e186\"],[0.8,\"#7fbc41\"],[0.9,\"#4d9221\"],[1,\"#276419\"]],\"sequential\":[[0.0,\"#0d0887\"],[0.1111111111111111,\"#46039f\"],[0.2222222222222222,\"#7201a8\"],[0.3333333333333333,\"#9c179e\"],[0.4444444444444444,\"#bd3786\"],[0.5555555555555556,\"#d8576b\"],[0.6666666666666666,\"#ed7953\"],[0.7777777777777778,\"#fb9f3a\"],[0.8888888888888888,\"#fdca26\"],[1.0,\"#f0f921\"]],\"sequentialminus\":[[0.0,\"#0d0887\"],[0.1111111111111111,\"#46039f\"],[0.2222222222222222,\"#7201a8\"],[0.3333333333333333,\"#9c179e\"],[0.4444444444444444,\"#bd3786\"],[0.5555555555555556,\"#d8576b\"],[0.6666666666666666,\"#ed7953\"],[0.7777777777777778,\"#fb9f3a\"],[0.8888888888888888,\"#fdca26\"],[1.0,\"#f0f921\"]]},\"colorway\":[\"#636efa\",\"#EF553B\",\"#00cc96\",\"#ab63fa\",\"#FFA15A\",\"#19d3f3\",\"#FF6692\",\"#B6E880\",\"#FF97FF\",\"#FECB52\"],\"font\":{\"color\":\"#2a3f5f\"},\"geo\":{\"bgcolor\":\"white\",\"lakecolor\":\"white\",\"landcolor\":\"#E5ECF6\",\"showlakes\":true,\"showland\":true,\"subunitcolor\":\"white\"},\"hoverlabel\":{\"align\":\"left\"},\"hovermode\":\"closest\",\"mapbox\":{\"style\":\"light\"},\"paper_bgcolor\":\"white\",\"plot_bgcolor\":\"#E5ECF6\",\"polar\":{\"angularaxis\":{\"gridcolor\":\"white\",\"linecolor\":\"white\",\"ticks\":\"\"},\"bgcolor\":\"#E5ECF6\",\"radialaxis\":{\"gridcolor\":\"white\",\"linecolor\":\"white\",\"ticks\":\"\"}},\"scene\":{\"xaxis\":{\"backgroundcolor\":\"#E5ECF6\",\"gridcolor\":\"white\",\"gridwidth\":2,\"linecolor\":\"white\",\"showbackground\":true,\"ticks\":\"\",\"zerolinecolor\":\"white\"},\"yaxis\":{\"backgroundcolor\":\"#E5ECF6\",\"gridcolor\":\"white\",\"gridwidth\":2,\"linecolor\":\"white\",\"showbackground\":true,\"ticks\":\"\",\"zerolinecolor\":\"white\"},\"zaxis\":{\"backgroundcolor\":\"#E5ECF6\",\"gridcolor\":\"white\",\"gridwidth\":2,\"linecolor\":\"white\",\"showbackground\":true,\"ticks\":\"\",\"zerolinecolor\":\"white\"}},\"shapedefaults\":{\"line\":{\"color\":\"#2a3f5f\"}},\"ternary\":{\"aaxis\":{\"gridcolor\":\"white\",\"linecolor\":\"white\",\"ticks\":\"\"},\"baxis\":{\"gridcolor\":\"white\",\"linecolor\":\"white\",\"ticks\":\"\"},\"bgcolor\":\"#E5ECF6\",\"caxis\":{\"gridcolor\":\"white\",\"linecolor\":\"white\",\"ticks\":\"\"}},\"title\":{\"x\":0.05},\"xaxis\":{\"automargin\":true,\"gridcolor\":\"white\",\"linecolor\":\"white\",\"ticks\":\"\",\"title\":{\"standoff\":15},\"zerolinecolor\":\"white\",\"zerolinewidth\":2},\"yaxis\":{\"automargin\":true,\"gridcolor\":\"white\",\"linecolor\":\"white\",\"ticks\":\"\",\"title\":{\"standoff\":15},\"zerolinecolor\":\"white\",\"zerolinewidth\":2}}},\"mapbox\":{\"domain\":{\"x\":[0.0,1.0],\"y\":[0.0,1.0]},\"center\":{\"lat\":39.146292586176955,\"lon\":-84.36031933486471},\"zoom\":9,\"style\":\"open-street-map\"},\"legend\":{\"title\":{\"text\":\"Name\"},\"tracegroupgap\":0},\"margin\":{\"t\":0,\"r\":0,\"l\":0,\"b\":0},\"height\":600,\"width\":800},                        {\"responsive\": true}                    ).then(function(){\n",
              "                            \n",
              "var gd = document.getElementById('8481f5ac-164f-4142-b636-794c93b09d45');\n",
              "var x = new MutationObserver(function (mutations, observer) {{\n",
              "        var display = window.getComputedStyle(gd).display;\n",
              "        if (!display || display === 'none') {{\n",
              "            console.log([gd, 'removed!']);\n",
              "            Plotly.purge(gd);\n",
              "            observer.disconnect();\n",
              "        }}\n",
              "}});\n",
              "\n",
              "// Listen for the removal of the full notebook cells\n",
              "var notebookContainer = gd.closest('#notebook-container');\n",
              "if (notebookContainer) {{\n",
              "    x.observe(notebookContainer, {childList: true});\n",
              "}}\n",
              "\n",
              "// Listen for the clearing of the current output cell\n",
              "var outputEl = gd.closest('.output');\n",
              "if (outputEl) {{\n",
              "    x.observe(outputEl, {childList: true});\n",
              "}}\n",
              "\n",
              "                        })                };                            </script>        </div>\n",
              "</body>\n",
              "</html>"
            ]
          },
          "metadata": {}
        }
      ]
    },
    {
      "cell_type": "code",
      "source": [
        "df.columns"
      ],
      "metadata": {
        "colab": {
          "base_uri": "https://localhost:8080/"
        },
        "id": "SRpAwBnBVAk8",
        "outputId": "af10f341-bfc7-49c5-b9e0-41bf7b92dfea"
      },
      "execution_count": 154,
      "outputs": [
        {
          "output_type": "execute_result",
          "data": {
            "text/plain": [
              "Index(['Name', 'time', 'lat', 'long', 'name_time'], dtype='object')"
            ]
          },
          "metadata": {},
          "execution_count": 154
        }
      ]
    },
    {
      "cell_type": "code",
      "source": [
        ""
      ],
      "metadata": {
        "id": "Tq4iLPRvb8kA"
      },
      "execution_count": null,
      "outputs": []
    }
  ]
}