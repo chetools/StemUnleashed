{
  "nbformat": 4,
  "nbformat_minor": 0,
  "metadata": {
    "colab": {
      "name": "WaveFrontPlanner_PriorityQueue.ipynb",
      "provenance": [],
      "authorship_tag": "ABX9TyOB8uUiV+alvzx60bkRQ/6w",
      "include_colab_link": true
    },
    "kernelspec": {
      "name": "python3",
      "display_name": "Python 3"
    },
    "language_info": {
      "name": "python"
    }
  },
  "cells": [
    {
      "cell_type": "markdown",
      "metadata": {
        "id": "view-in-github",
        "colab_type": "text"
      },
      "source": [
        "<a href=\"https://colab.research.google.com/github/profteachkids/StemUnleashed/blob/main/WaveFrontPlanner_PriorityQueue.ipynb\" target=\"_parent\"><img src=\"https://colab.research.google.com/assets/colab-badge.svg\" alt=\"Open In Colab\"/></a>"
      ]
    },
    {
      "cell_type": "code",
      "execution_count": 256,
      "metadata": {
        "id": "pe-XU5Qz4ctu"
      },
      "outputs": [],
      "source": [
        "import numpy as np\n",
        "from queue import PriorityQueue"
      ]
    },
    {
      "cell_type": "code",
      "source": [
        "np.set_printoptions(formatter=dict(int=lambda x: f'{x:2d}'))\n"
      ],
      "metadata": {
        "id": "mN7Dz-Md47KZ"
      },
      "execution_count": 22,
      "outputs": []
    },
    {
      "cell_type": "code",
      "source": [
        "rng=np.random.RandomState(34)\n",
        "d = np.zeros((6,6)).astype(np.int32)\n",
        "start = (0,0)\n",
        "end = (5,4)\n",
        "for obs in rng.randint(0,d.size,10):\n",
        "    d.put(obs,1)\n",
        "np.multiply.at(d,end,0)\n",
        "np.add.at(d,end,2)\n",
        "np.multiply.at(d,start,0)\n",
        "np.add.at(d,start,99)\n",
        "\n",
        "print(d)\n",
        "\n",
        "L=PriorityQueue()\n",
        "L.put((2,end))\n",
        "step=0\n",
        "y_max,x_max = d.shape\n",
        "while not(L.empty()) and step <100:\n",
        "    step+=1\n",
        "    m,(x,y)=L.get_nowait()\n",
        "    if x+1<x_max and d[y,x+1]==0:\n",
        "        d[y,x+1]=m+1\n",
        "        L.put((m+1,(y,x+1)))\n",
        "    if x>0 and d[y,x-1]==0:\n",
        "        d[y,x-1]=m+1\n",
        "        L.put((m+1,(y,x-1)))\n",
        "\n",
        "    if y+1<y_max and d[y+1,x]==0:\n",
        "        d[y+1,x]=m+1\n",
        "        L.put((m+1,(y+1,x)))\n",
        "    if y>0 and d[y-1,x]==0:\n",
        "        d[y-1,x]=m+1\n",
        "        L.put((m+1,(y-1,x)))\n",
        "\n",
        "\n"
      ],
      "metadata": {
        "colab": {
          "base_uri": "https://localhost:8080/"
        },
        "id": "IzKZdW8Q7IZO",
        "outputId": "9e23616b-5374-44f5-8ba6-334ac2360c5b"
      },
      "execution_count": 273,
      "outputs": [
        {
          "output_type": "stream",
          "name": "stdout",
          "text": [
            "[[99  0  0  0  1  1]\n",
            " [ 0  0  0  0  0  1]\n",
            " [ 0  0  1  0  0  0]\n",
            " [ 1  0  0  1  0  0]\n",
            " [ 0  0  0  0  0  1]\n",
            " [ 0  0  0  1  2  1]]\n"
          ]
        }
      ]
    },
    {
      "cell_type": "code",
      "source": [
        "d"
      ],
      "metadata": {
        "colab": {
          "base_uri": "https://localhost:8080/"
        },
        "id": "0rRAYN8RB3iM",
        "outputId": "4651c98a-be02-4f48-9870-1c1cc8e73b0b"
      },
      "execution_count": 274,
      "outputs": [
        {
          "output_type": "execute_result",
          "data": {
            "text/plain": [
              "array([[99, 10,  9,  8,  1,  1],\n",
              "       [10,  9,  8,  7,  6,  1],\n",
              "       [ 9,  8,  1,  6,  5,  6],\n",
              "       [ 1,  7,  6,  1,  4,  3],\n",
              "       [ 7,  6,  5,  4,  3,  1],\n",
              "       [ 0,  7,  4,  1,  2,  1]], dtype=int32)"
            ]
          },
          "metadata": {},
          "execution_count": 274
        }
      ]
    },
    {
      "cell_type": "code",
      "source": [
        "d.take(np.array([4,5])+adj)"
      ],
      "metadata": {
        "colab": {
          "base_uri": "https://localhost:8080/"
        },
        "id": "9HJJb8d8CM_E",
        "outputId": "476fc26a-27d4-4c0d-91d5-4cca390da60d"
      },
      "execution_count": 123,
      "outputs": [
        {
          "output_type": "execute_result",
          "data": {
            "text/plain": [
              "array([[ 0,  0],\n",
              "       [ 0,  0],\n",
              "       [ 0,  0],\n",
              "       [ 0,  0]], dtype=int32)"
            ]
          },
          "metadata": {},
          "execution_count": 123
        }
      ]
    },
    {
      "cell_type": "code",
      "source": [
        "for x in rng.randint(0,10,(5,2)):\n",
        "    print(x)"
      ],
      "metadata": {
        "colab": {
          "base_uri": "https://localhost:8080/"
        },
        "id": "fYnn_fuH7j3H",
        "outputId": "d188a780-2e77-4887-f9b9-c3f18ff0ba21"
      },
      "execution_count": 50,
      "outputs": [
        {
          "output_type": "stream",
          "name": "stdout",
          "text": [
            "[ 1  5]\n",
            "[ 6  2]\n",
            "[ 1  8]\n",
            "[ 3  5]\n",
            "[ 0  2]\n"
          ]
        }
      ]
    },
    {
      "cell_type": "code",
      "source": [
        "d.add"
      ],
      "metadata": {
        "id": "pxfwZNKw8T-G"
      },
      "execution_count": 48,
      "outputs": []
    }
  ]
}