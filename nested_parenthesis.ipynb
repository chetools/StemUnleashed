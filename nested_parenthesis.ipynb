{
  "nbformat": 4,
  "nbformat_minor": 0,
  "metadata": {
    "colab": {
      "provenance": [],
      "authorship_tag": "ABX9TyNJKOgGuxAf82lAQxBqMdHa",
      "include_colab_link": true
    },
    "kernelspec": {
      "name": "python3",
      "display_name": "Python 3"
    },
    "language_info": {
      "name": "python"
    }
  },
  "cells": [
    {
      "cell_type": "markdown",
      "metadata": {
        "id": "view-in-github",
        "colab_type": "text"
      },
      "source": [
        "<a href=\"https://colab.research.google.com/github/chetools/StemUnleashed/blob/main/nested_parenthesis.ipynb\" target=\"_parent\"><img src=\"https://colab.research.google.com/assets/colab-badge.svg\" alt=\"Open In Colab\"/></a>"
      ]
    },
    {
      "cell_type": "code",
      "execution_count": 1,
      "metadata": {
        "id": "H_qbp22OHV7-"
      },
      "outputs": [],
      "source": [
        "import re\n",
        "from collections import Counter\n",
        "import numpy as np"
      ]
    },
    {
      "cell_type": "code",
      "source": [
        "s=\"((CH3)3(CH2)Cl2(Ni2O4)5)Ge((CH3)3(CH2)Cl2(Ni2O4)5)2Ge(AgNO3)4Si\""
      ],
      "metadata": {
        "collapsed": true,
        "id": "uKhMuCFjHJ6k"
      },
      "execution_count": 148,
      "outputs": []
    },
    {
      "cell_type": "code",
      "source": [
        "element_pattern = re.compile(r\"([A-Z][a-z]?)(\\d*)\")\n",
        "\n",
        "def str2int(s):\n",
        "    return (1 if ((s is None) or (s=='')) else int(s))\n",
        "\n",
        "def get_molecule_counts(s):\n",
        "    counts=Counter()\n",
        "    matches = re.finditer(element_pattern, s)\n",
        "    for m in matches:\n",
        "        counts=counts+Counter({m.group(1):str2int(m.group(2))})\n",
        "    return counts\n",
        "\n",
        "def get_span_counts(s):\n",
        "    span_counts=[]\n",
        "    molecules=re.finditer((r\"[A-Z][^\\(\\)]+\"),s)\n",
        "    for molecule in molecules:\n",
        "        span_counts.append((molecule.start(), get_molecule_counts(molecule.group(0))))\n",
        "    return span_counts\n",
        "\n",
        "span_counts=get_span_counts(s)\n",
        "multipliers=list(re.finditer((r\"([\\(\\)])(\\d+)?\"),s))\n",
        "multipliers=[(m.start(),m.group(1),str2int(m.group(2))) for m in multipliers]\n",
        "exp_stack = sorted(multipliers + span_counts,key=lambda tup:tup[0])\n",
        "stack=[]\n",
        "counts=Counter()\n",
        "for exp in exp_stack:\n",
        "    if exp[1] == '(':\n",
        "        stack.append(counts)\n",
        "        counts=Counter()\n",
        "    elif exp[1] == ')':\n",
        "        counts = stack.pop() + Counter({k:v*exp[2] for k,v in counts.items()})\n",
        "    else:\n",
        "        counts += exp[1]\n",
        "counts"
      ],
      "metadata": {
        "colab": {
          "base_uri": "https://localhost:8080/"
        },
        "id": "7dHvto51dwbs",
        "outputId": "4b40cb72-6553-4964-ee67-d1dcadcc1e75"
      },
      "execution_count": 149,
      "outputs": [
        {
          "output_type": "execute_result",
          "data": {
            "text/plain": [
              "Counter({'C': 12,\n",
              "         'H': 33,\n",
              "         'Cl': 6,\n",
              "         'Ni': 30,\n",
              "         'O': 72,\n",
              "         'Ge': 2,\n",
              "         'Ag': 4,\n",
              "         'N': 4,\n",
              "         'Si': 1})"
            ]
          },
          "metadata": {},
          "execution_count": 149
        }
      ]
    },
    {
      "cell_type": "code",
      "source": [],
      "metadata": {
        "id": "CsxjUH7UmB5n"
      },
      "execution_count": null,
      "outputs": []
    }
  ]
}