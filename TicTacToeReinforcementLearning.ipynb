{
  "nbformat": 4,
  "nbformat_minor": 0,
  "metadata": {
    "colab": {
      "name": "TicTacToeReinforcementLearning.ipynb",
      "provenance": [],
      "collapsed_sections": [],
      "authorship_tag": "ABX9TyP7uEG8fAUXwJwNups5L/cK",
      "include_colab_link": true
    },
    "kernelspec": {
      "name": "python3",
      "display_name": "Python 3"
    },
    "language_info": {
      "name": "python"
    }
  },
  "cells": [
    {
      "cell_type": "markdown",
      "metadata": {
        "id": "view-in-github",
        "colab_type": "text"
      },
      "source": [
        "<a href=\"https://colab.research.google.com/github/profteachkids/StemUnleashed/blob/main/TicTacToeReinforcementLearning.ipynb\" target=\"_parent\"><img src=\"https://colab.research.google.com/assets/colab-badge.svg\" alt=\"Open In Colab\"/></a>"
      ]
    },
    {
      "cell_type": "code",
      "execution_count": 14,
      "metadata": {
        "id": "-UQRzBvirAVc"
      },
      "outputs": [],
      "source": [
        "import numpy as np\n",
        "import pickle\n",
        "import sys"
      ]
    },
    {
      "cell_type": "code",
      "source": [
        "rng=np.random.RandomState(123)"
      ],
      "metadata": {
        "id": "S9voUYtQvrqe"
      },
      "execution_count": 3,
      "outputs": []
    },
    {
      "cell_type": "code",
      "source": [
        "np_tup = lambda a: tuple(tuple(r) for r in a)"
      ],
      "metadata": {
        "id": "QVGB6DuU1cmQ"
      },
      "execution_count": 4,
      "outputs": []
    },
    {
      "cell_type": "code",
      "source": [
        "def check_win(x):\n",
        "    s=np.concatenate((np.sum(x,axis=0),np.sum(x,axis=1),np.asarray([np.sum(x.diagonal()),np.sum(np.fliplr(x).diagonal())])))\n",
        "    return 1*np.any(s==3) - np.any(s==-3)"
      ],
      "metadata": {
        "id": "83ySD_2frHga"
      },
      "execution_count": 5,
      "outputs": []
    },
    {
      "cell_type": "code",
      "source": [
        "s={k:k for k in ['DRAW', 'P1Win', 'P2Win', 'CONTINUE']}"
      ],
      "metadata": {
        "id": "iOcSiluh8qm4"
      },
      "execution_count": 6,
      "outputs": []
    },
    {
      "cell_type": "code",
      "source": [
        "def eval_move(a,Q,player, compete=False):\n",
        "    moves=np_tup(np.array(np.nonzero(a==0)).T)\n",
        "    if len(moves)==0:\n",
        "        return s['DRAW']\n",
        "    a_tup=np_tup(a)\n",
        "    if (player,a_tup) not in Q:\n",
        "        Q[player,a_tup]={}\n",
        "    Qold=Q[player,a_tup]\n",
        "    Qmove_maxval=-1e6\n",
        "    Qmove_best=None\n",
        "    for move in moves:\n",
        "        a[move]=player\n",
        "        b_tup = np_tup(a)\n",
        "        b_vals = Q.get((-player,b_tup),{})\n",
        "        Qoldmove=Qold.get(move,0)\n",
        "        Qbmax = 0 if len(b_vals)==0 else max(b_vals.values())\n",
        "\n",
        "        Qmove = (1-lr)*Qoldmove + lr*(player*check_win(a) - g*Qbmax)\n",
        "        a[move]=0   #reset board\n",
        "        Q[(player,a_tup)][move]=Qmove\n",
        "\n",
        "        if Qmove>Qmove_maxval:\n",
        "            Qmove_maxval=Qmove\n",
        "            Qmove_best = move\n",
        "    if Qmove_best is None:\n",
        "        Qmove_best=moves[rng.randint(0,len(moves))]\n",
        "    if rng.rand()<0.8 or compete:\n",
        "        a[Qmove_best]=player\n",
        "    else:\n",
        "        a[moves[rng.randint(len(moves))]]=player\n",
        "\n",
        "    result = check_win(a)\n",
        "\n",
        "    if result == 1:\n",
        "        return s['P1Win']\n",
        "    elif result ==-1:\n",
        "        return s['P2Win']\n",
        "    else:\n",
        "        return s['CONTINUE']\n"
      ],
      "metadata": {
        "id": "5EJdn9Y6FzjR"
      },
      "execution_count": 7,
      "outputs": []
    },
    {
      "cell_type": "code",
      "source": [
        "# Generate Q-Table by playing against itself\n",
        "\n",
        "Q={}\n",
        "lr=0.8\n",
        "g = 0.9\n",
        "for n_learn in range(10000):\n",
        "    if n_learn % 100 == 0:\n",
        "        print(n_learn)\n",
        "    a=np.zeros((3,3),dtype=np.int8)\n",
        "    while True:\n",
        "        status=eval_move(a,Q,player=1)\n",
        "        if status==s['CONTINUE']:\n",
        "            status=eval_move(a,Q,player=-1)\n",
        "        if not(status==s['CONTINUE']):\n",
        "            break\n",
        "pickle."
      ],
      "metadata": {
        "colab": {
          "base_uri": "https://localhost:8080/"
        },
        "id": "9Du7kaRYuWcP",
        "outputId": "8702631d-d116-44ba-8f48-ca157f4cf434"
      },
      "execution_count": 11,
      "outputs": [
        {
          "output_type": "stream",
          "name": "stdout",
          "text": [
            "0\n",
            "500\n",
            "1000\n",
            "1500\n",
            "2000\n",
            "2500\n",
            "3000\n",
            "3500\n",
            "4000\n",
            "4500\n",
            "5000\n",
            "5500\n",
            "6000\n",
            "6500\n",
            "7000\n",
            "7500\n",
            "8000\n",
            "8500\n",
            "9000\n",
            "9500\n"
          ]
        }
      ]
    },
    {
      "cell_type": "code",
      "source": [
        "with open('Q.pickle','wb') as f:\n",
        "    pickle.dump(Q,f)"
      ],
      "metadata": {
        "id": "vpT_3uUMIQKI"
      },
      "execution_count": 20,
      "outputs": []
    },
    {
      "cell_type": "code",
      "source": [
        "a=np.zeros((3,3),dtype=np.int8)\n",
        "print(a)\n",
        "while True:\n",
        "    move = input('move (col,row):')\n",
        "    y,x=[int(v)-1 for v in move.split(',')]\n",
        "    a[x,y]=1\n",
        "    if(check_win(a) == 1):\n",
        "        print('YOU WIN')\n",
        "        break\n",
        "    status=eval_move(a,Q,-1,compete=True)\n",
        "    print(a)\n",
        "    print('-'*10)\n",
        "    if not(status==s['CONTINUE']):\n",
        "        print(status)\n",
        "        break"
      ],
      "metadata": {
        "colab": {
          "base_uri": "https://localhost:8080/"
        },
        "id": "weYn_aAG_zoG",
        "outputId": "157c2c72-f977-4fa8-e2a2-8716bb3a19dc"
      },
      "execution_count": 13,
      "outputs": [
        {
          "output_type": "stream",
          "name": "stdout",
          "text": [
            "[[0 0 0]\n",
            " [0 0 0]\n",
            " [0 0 0]]\n",
            "move (col,row):2,2\n",
            "[[-1  0  0]\n",
            " [ 0  1  0]\n",
            " [ 0  0  0]]\n",
            "----------\n",
            "move (col,row):1,2\n",
            "[[-1  0  0]\n",
            " [ 1  1 -1]\n",
            " [ 0  0  0]]\n",
            "----------\n",
            "move (col,row):3,3\n",
            "[[-1 -1  0]\n",
            " [ 1  1 -1]\n",
            " [ 0  0  1]]\n",
            "----------\n",
            "move (col,row):3,1\n",
            "[[-1 -1  1]\n",
            " [ 1  1 -1]\n",
            " [-1  0  1]]\n",
            "----------\n",
            "move (col,row):2,3\n",
            "[[-1 -1  1]\n",
            " [ 1  1 -1]\n",
            " [-1  1  1]]\n",
            "----------\n",
            "DRAW\n"
          ]
        }
      ]
    },
    {
      "cell_type": "code",
      "source": [
        "Q[(-1,((0,-1,0),(1,1,1),(-1,0,0)))]"
      ],
      "metadata": {
        "id": "tX5OwwCFjmJA"
      },
      "execution_count": null,
      "outputs": []
    },
    {
      "cell_type": "code",
      "source": [
        ""
      ],
      "metadata": {
        "id": "CNhPdxUTqIAB"
      },
      "execution_count": null,
      "outputs": []
    }
  ]
}