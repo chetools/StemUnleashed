{
  "nbformat": 4,
  "nbformat_minor": 0,
  "metadata": {
    "colab": {
      "provenance": [],
      "authorship_tag": "ABX9TyPzv4TVnmVxCRcjqRk1WOdf",
      "include_colab_link": true
    },
    "kernelspec": {
      "name": "python3",
      "display_name": "Python 3"
    },
    "language_info": {
      "name": "python"
    }
  },
  "cells": [
    {
      "cell_type": "markdown",
      "metadata": {
        "id": "view-in-github",
        "colab_type": "text"
      },
      "source": [
        "<a href=\"https://colab.research.google.com/github/profteachkids/StemUnleashed/blob/main/RubberBandBroyden.ipynb\" target=\"_parent\"><img src=\"https://colab.research.google.com/assets/colab-badge.svg\" alt=\"Open In Colab\"/></a>"
      ]
    },
    {
      "cell_type": "code",
      "execution_count": 1,
      "metadata": {
        "id": "UuF7zaVQswRY"
      },
      "outputs": [],
      "source": [
        "import numpy as np\n",
        "import jax.numpy as jnp\n",
        "import jax\n",
        "from jax.config import config\n",
        "from scipy.optimize import minimize\n",
        "config.update(\"jax_enable_x64\", True)\n",
        "from plotly.subplots import make_subplots"
      ]
    },
    {
      "cell_type": "code",
      "source": [
        "anchor=jnp.array([[-1.,-1., 1.],\n",
        "            [1, 1, 1],\n",
        "            [1,-1,-1],\n",
        "            [-1,1,-1]])\n",
        "\n",
        "k=jnp.array([0.1,0.1,0.1,0.1])\n",
        "length=jnp.array([0.5,0.3,0.5,0.4])\n",
        "\n",
        "def fun(pc):\n",
        "    v = anchor - pc\n",
        "    vmag = jnp.linalg.norm(v,axis=1)\n",
        "    f = ((vmag-length)/vmag * k)[:,None]*v\n",
        "    return(jnp.sum(f,axis=0))"
      ],
      "metadata": {
        "id": "xbP24XeizM4e"
      },
      "execution_count": 23,
      "outputs": []
    },
    {
      "cell_type": "code",
      "source": [
        "def broyden(f, x0, jac, maxiter=5, tol=1e-10):\n",
        "    Jinv=np.linalg.inv(jac(x0))\n",
        "    f0 = f(x0)\n",
        "    for i in range(maxiter):\n",
        "        dx = - Jinv @ f0\n",
        "        x1 = x0 + dx\n",
        "        f1 = f(x1)\n",
        "        alpha = 1.\n",
        "        jac_calc=False\n",
        "        while (np.linalg.norm(f1) > np.linalg.norm(f0)):\n",
        "            alpha = alpha * 0.75\n",
        "            if alpha < 1e-7:\n",
        "                jac_calc=True\n",
        "                Jinv=np.linalg.inv(jac(x0))\n",
        "                dx = - Jinv @ f0\n",
        "            x1 = x0 + alpha*dx\n",
        "            f1 = f(x1)\n",
        "        \n",
        "        if np.linalg.norm(f1)<tol:\n",
        "            break\n",
        "        dx, df = x1 - x0, f1-f0\n",
        "        den = (dx.T @ Jinv @ df)\n",
        "        Jinv = Jinv + ((dx - Jinv@df) @ (dx.T @ Jinv)) / (den+ 1e-12)\n",
        "        x0, f0 = x1, f1\n",
        "    return x1, f1"
      ],
      "metadata": {
        "id": "yxmxucuP3Y8X"
      },
      "execution_count": 26,
      "outputs": []
    },
    {
      "cell_type": "code",
      "source": [
        "pc0 = jnp.array([0.,0.,0])\n",
        "broyden(fun, pc0, jax.jacobian(fun), maxiter=50)"
      ],
      "metadata": {
        "id": "RG93jfuZNw_C",
        "outputId": "64d6f1b4-b761-461b-c3d3-b342273b4f01",
        "colab": {
          "base_uri": "https://localhost:8080/"
        }
      },
      "execution_count": 27,
      "outputs": [
        {
          "output_type": "execute_result",
          "data": {
            "text/plain": [
              "(DeviceArray([0.0177683 , 0.05189884, 0.0177683 ], dtype=float64),\n",
              " DeviceArray([-3.86414234e-11, -4.72381856e-12, -3.86414373e-11], dtype=float64))"
            ]
          },
          "metadata": {},
          "execution_count": 27
        }
      ]
    },
    {
      "cell_type": "code",
      "source": [],
      "metadata": {
        "id": "2L969CwOlH9U"
      },
      "execution_count": null,
      "outputs": []
    }
  ]
}