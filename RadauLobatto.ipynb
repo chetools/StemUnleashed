{
  "nbformat": 4,
  "nbformat_minor": 0,
  "metadata": {
    "colab": {
      "provenance": [],
      "authorship_tag": "ABX9TyMqNjlnV2g4DTCftTMdPo5D",
      "include_colab_link": true
    },
    "kernelspec": {
      "name": "python3",
      "display_name": "Python 3"
    },
    "language_info": {
      "name": "python"
    }
  },
  "cells": [
    {
      "cell_type": "markdown",
      "metadata": {
        "id": "view-in-github",
        "colab_type": "text"
      },
      "source": [
        "<a href=\"https://colab.research.google.com/github/profteachkids/StemUnleashed/blob/main/RadauLobatto.ipynb\" target=\"_parent\"><img src=\"https://colab.research.google.com/assets/colab-badge.svg\" alt=\"Open In Colab\"/></a>"
      ]
    },
    {
      "cell_type": "code",
      "execution_count": 2,
      "metadata": {
        "id": "dlLW8ngNSZeH"
      },
      "outputs": [],
      "source": [
        "import numpy as np\n",
        "from plotly.subplots import make_subplots"
      ]
    },
    {
      "cell_type": "code",
      "source": [
        "def radau(N):\n",
        "    x=np.zeros(N)\n",
        "    w=np.zeros(N)\n",
        "    x[0]=-1\n",
        "    w[0]=2/N**2\n",
        "    x[1:]=((np.polynomial.Legendre.basis(N-1)+np.polynomial.Legendre.basis(N))//np.polynomial.Polynomial([1,1]).convert(kind=np.polynomial.Legendre)).roots()\n",
        "    w[1:]=(1-x[1:])/(N*np.polynomial.Legendre.basis(N-1)(x[1:]))**2\n",
        "    return x,w"
      ],
      "metadata": {
        "id": "NcfBvV3-Sp2_"
      },
      "execution_count": 65,
      "outputs": []
    },
    {
      "cell_type": "code",
      "source": [
        "def lobatto(N):\n",
        "    x=np.zeros(N)\n",
        "    w=np.zeros(N)\n",
        "    x[0]=-1\n",
        "    x[-1]=1\n",
        "    w[0]=w[-1]=2/N/(N-1)\n",
        "    x[1:-1]=(np.polynomial.Legendre.basis(N-1).deriv()).roots()\n",
        "    w[1:-1]=2/N/(N-1)/(np.polynomial.Legendre.basis(N-1)(x[1:-1]))**2\n",
        "    return x,w\n"
      ],
      "metadata": {
        "id": "Hh5UpqoNT7ni"
      },
      "execution_count": 82,
      "outputs": []
    },
    {
      "cell_type": "code",
      "source": [],
      "metadata": {
        "id": "zX86Oiuab_Ss"
      },
      "execution_count": null,
      "outputs": []
    }
  ]
}