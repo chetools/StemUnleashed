{
  "nbformat": 4,
  "nbformat_minor": 0,
  "metadata": {
    "colab": {
      "name": "QuordleSolver.ipynb",
      "provenance": [],
      "collapsed_sections": [],
      "authorship_tag": "ABX9TyO8SCmr47LVPuKyOKGiKvx2",
      "include_colab_link": true
    },
    "kernelspec": {
      "name": "python3",
      "display_name": "Python 3"
    },
    "language_info": {
      "name": "python"
    }
  },
  "cells": [
    {
      "cell_type": "markdown",
      "metadata": {
        "id": "view-in-github",
        "colab_type": "text"
      },
      "source": [
        "<a href=\"https://colab.research.google.com/github/profteachkids/StemUnleashed/blob/main/QuordleSolver.ipynb\" target=\"_parent\"><img src=\"https://colab.research.google.com/assets/colab-badge.svg\" alt=\"Open In Colab\"/></a>"
      ]
    },
    {
      "cell_type": "code",
      "execution_count": 96,
      "metadata": {
        "id": "_MZCy4KxJD9n"
      },
      "outputs": [],
      "source": [
        "import requests\n",
        "from lxml import html\n",
        "import re\n",
        "import numpy as np"
      ]
    },
    {
      "cell_type": "code",
      "source": [
        "#wikipedia\n",
        "# words=[]\n",
        "# freqs=[]\n",
        "# root=r'https://en.wiktionary.org/wiki/Wiktionary:Frequency_lists/PG/2006/04/'\n",
        "# for start in range(0,40000,10000):\n",
        "#     content=requests.get(root+f'{start+1}-{start+10000}').content\n",
        "#     tree = html.fromstring(content)\n",
        "#     for i in range(1,11):\n",
        "#         rows=tree.xpath(rf'//table[{i}]//tr')\n",
        "#         for row in rows[1:]:\n",
        "#             words.append(''.join(row.xpath(r'td[2]//text()')))  #Some words like we're are contained in 2 a elements\n",
        "#             freqs.extend(row.xpath(rf'td[3]/text()'))\\\n",
        "# five_char=[]\n",
        "# pat=re.compile(r'\\w{5} \\d+')\n",
        "# for word,freq in zip(words,freqs):\n",
        "#     comb=word+' '+freq[:-1]\n",
        "#     m=re.match(pat,comb)\n",
        "#     if m:\n",
        "#         five_char.append(m.group(0))"
      ],
      "metadata": {
        "id": "TwprymqXKEqp"
      },
      "execution_count": null,
      "outputs": []
    },
    {
      "cell_type": "code",
      "source": [
        "!wget https://raw.githubusercontent.com/IlyaSemenov/wikipedia-word-frequency/master/results/enwiki-20190320-words-frequency.txt -O words.txt"
      ],
      "metadata": {
        "id": "LxjRSI7f4fnz",
        "outputId": "8eeec4dd-b3bd-4f08-a6a9-adc330016d72",
        "colab": {
          "base_uri": "https://localhost:8080/"
        }
      },
      "execution_count": 97,
      "outputs": [
        {
          "output_type": "stream",
          "name": "stdout",
          "text": [
            "--2022-06-27 22:33:52--  https://raw.githubusercontent.com/IlyaSemenov/wikipedia-word-frequency/master/results/enwiki-20190320-words-frequency.txt\n",
            "Resolving raw.githubusercontent.com (raw.githubusercontent.com)... 185.199.110.133, 185.199.108.133, 185.199.109.133, ...\n",
            "Connecting to raw.githubusercontent.com (raw.githubusercontent.com)|185.199.110.133|:443... connected.\n",
            "HTTP request sent, awaiting response... 200 OK\n",
            "Length: 27465330 (26M) [text/plain]\n",
            "Saving to: ‘words.txt’\n",
            "\n",
            "words.txt           100%[===================>]  26.19M  --.-KB/s    in 0.1s    \n",
            "\n",
            "2022-06-27 22:33:52 (200 MB/s) - ‘words.txt’ saved [27465330/27465330]\n",
            "\n"
          ]
        }
      ]
    },
    {
      "cell_type": "code",
      "source": [
        "five_char=[]\n",
        "pat=re.compile(r'\\w{5} \\d+')\n",
        "with open('words.txt','r') as f:\n",
        "    for line in f:\n",
        "        m=re.match(pat,line)\n",
        "        if m:\n",
        "            five_char.append(m.group(0))"
      ],
      "metadata": {
        "id": "JTp3p03u4j3g"
      },
      "execution_count": 98,
      "outputs": []
    },
    {
      "cell_type": "code",
      "source": [
        "with open('b.txt','r') as f:\n",
        "    b=f.read()\n",
        "tree=html.fromstring(b)\n",
        "\n",
        "for board in range(1,5):\n",
        "\n",
        "    incorrects=tree.xpath(f'//div[@aria-label=\"Game Board {board}\"]//div[contains(@aria-label,\"incorrect\")]/@aria-label')\n",
        "    diffs=tree.xpath(f'//div[@aria-label=\"Game Board {board}\"]//div[contains(@aria-label,\"different\")]/@aria-label')\n",
        "    corrects=tree.xpath(f'//div[@aria-label=\"Game Board {board}\"]//div[contains(@aria-label,\" correct\") and contains(@aria-label,\"letter\")]/@aria-label')\n",
        "\n",
        "    absent_set=set()\n",
        "\n",
        "    for inc in incorrects:\n",
        "        absent_set.add(inc[1].lower())\n",
        "\n",
        "\n",
        "    present_set=set()\n",
        "    excluded_sets=[set(), set(), set(), set(), set()]\n",
        "    for diff in diffs:\n",
        "        diff=diff.lower()\n",
        "        pos=int(diff[12])-1\n",
        "        present_set.add(diff[1])\n",
        "        excluded_sets[pos].add(diff[1])\n",
        "\n",
        "    present=''.join([f'(?=.*{x})' for x in present_set])\n",
        "    guess = [f'[^{y}]' if len(y)>0 else '\\S' for y in \n",
        "             [''.join(x) for x in excluded_sets]]\n",
        "\n",
        "\n",
        "    correct_set=set()\n",
        "    for correct in corrects:\n",
        "        correct=correct.lower()\n",
        "        correct_set.add(correct[1])\n",
        "        pos=int(correct[12])-1\n",
        "        guess[pos]=correct[1]\n",
        "\n",
        "    #letter in correct position can appear in incorrect list if repeated\n",
        "    absent_set=absent_set-correct_set\n",
        "    absent_set=absent_set-present_set\n",
        "    if len(absent_set)>0:\n",
        "        absent='(?=[^'+''.join(absent_set)+']{5})'\n",
        "    else:\n",
        "        absent=''\n",
        "\n",
        "\n",
        "    guess='(' + ''.join(guess) +r'\\s\\d+)'\n",
        "    reg=present+absent+guess\n",
        "    print()\n",
        "    print(f'Board {board}', reg)\n",
        "    pat=re.compile(reg)\n",
        "    print(f'Board {board}: ',end ='')\n",
        "    print(re.findall(pat,'\\n'.join(five_char))[:5])"
      ],
      "metadata": {
        "colab": {
          "base_uri": "https://localhost:8080/"
        },
        "id": "e-MGavAgNpMf",
        "outputId": "91e373ca-319a-4a84-aaed-326f382b9cde"
      },
      "execution_count": 112,
      "outputs": [
        {
          "output_type": "stream",
          "name": "stdout",
          "text": [
            "\n",
            "Board 1 (?=.*o)(?=.*e)(?=[^uitansr]{5})(model\\s\\d+)\n",
            "Board 1: ['model 340064']\n",
            "\n",
            "Board 2 (?=.*u)(?=.*e)(?=.*r)(?=[^ovghbitanmsld]{5})(recur\\s\\d+)\n",
            "Board 2: ['recur 1310']\n",
            "\n",
            "Board 3 (?=.*o)(?=.*e)(?=[^rughitnmsld]{5})(above\\s\\d+)\n",
            "Board 3: ['above 329783']\n",
            "\n",
            "Board 4 (?=.*i)(?=.*t)(?=.*r)(?=[^ocelughbanmsvd]{5})([^r][^it]\\S[^ir][^t]\\s\\d+)\n",
            "Board 4: ['fritz 15496', 'tripp 1783', 'kriti 401', 'priti 209', 'trixi 87']\n"
          ]
        }
      ]
    },
    {
      "cell_type": "code",
      "source": [
        "pat=re.compile(r'(perch\\s\\d+)')\n",
        "print(re.findall(pat,'\\n'.join(five_char))[:5])"
      ],
      "metadata": {
        "colab": {
          "base_uri": "https://localhost:8080/"
        },
        "id": "JZIWIFlYl3Yy",
        "outputId": "c837d431-48cd-40dc-b22d-25226e12d43b"
      },
      "execution_count": null,
      "outputs": [
        {
          "output_type": "stream",
          "name": "stdout",
          "text": [
            "['perch 5708']\n"
          ]
        }
      ]
    },
    {
      "cell_type": "code",
      "source": [
        "a=set([1,4,6])\n",
        "b=set([4])\n",
        "a-b"
      ],
      "metadata": {
        "colab": {
          "base_uri": "https://localhost:8080/"
        },
        "id": "Ky4BdfOARhg_",
        "outputId": "fa9af5f4-a268-42c7-c865-c8d28b35bfb7"
      },
      "execution_count": null,
      "outputs": [
        {
          "output_type": "execute_result",
          "data": {
            "text/plain": [
              "{1, 6}"
            ]
          },
          "metadata": {},
          "execution_count": 270
        }
      ]
    },
    {
      "cell_type": "code",
      "source": [
        "incorrects"
      ],
      "metadata": {
        "colab": {
          "base_uri": "https://localhost:8080/"
        },
        "id": "647v-sd4SrvX",
        "outputId": "ac512981-dbc5-4685-ef55-e63c69d10eaf"
      },
      "execution_count": null,
      "outputs": [
        {
          "output_type": "execute_result",
          "data": {
            "text/plain": [
              "[\"'I' (letter 3) is incorrect\",\n",
              " \"'U' (letter 5) is incorrect\",\n",
              " \"'W' (letter 1) is incorrect\",\n",
              " \"'I' (letter 3) is incorrect\",\n",
              " \"'C' (letter 4) is incorrect\",\n",
              " \"'H' (letter 5) is incorrect\",\n",
              " \"'T' (letter 2) is incorrect\",\n",
              " \"'I' (letter 3) is incorrect\",\n",
              " \"'L' (letter 4) is incorrect\",\n",
              " \"'L' (letter 5) is incorrect\",\n",
              " \"'G' (letter 1) is incorrect\",\n",
              " \"'O' (letter 2) is incorrect\",\n",
              " \"'I' (letter 3) is incorrect\",\n",
              " \"'N' (letter 4) is incorrect\",\n",
              " \"'G' (letter 5) is incorrect\",\n",
              " \"'P' (letter 1) is incorrect\",\n",
              " \"'R' (letter 2) is incorrect\",\n",
              " \"'I' (letter 3) is incorrect\",\n",
              " \"'V' (letter 4) is incorrect\",\n",
              " \"'Y' (letter 5) is incorrect\",\n",
              " \"'N' (letter 1) is incorrect\",\n",
              " \"'I' (letter 3) is incorrect\",\n",
              " \"'V' (letter 4) is incorrect\",\n",
              " \"'C' (letter 2) is incorrect\",\n",
              " \"'R' (letter 4) is incorrect\",\n",
              " \"'F' (letter 5) is incorrect\"]"
            ]
          },
          "metadata": {},
          "execution_count": 266
        }
      ]
    },
    {
      "cell_type": "code",
      "source": [
        ""
      ],
      "metadata": {
        "id": "oiZASbYFZ0kg"
      },
      "execution_count": null,
      "outputs": []
    }
  ]
}